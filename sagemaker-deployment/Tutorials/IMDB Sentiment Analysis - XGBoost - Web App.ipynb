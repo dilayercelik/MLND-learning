{
 "cells": [
  {
   "cell_type": "markdown",
   "metadata": {},
   "source": [
    "# Sentiment Analysis Web App\n",
    "\n",
    "_Deep Learning Nanodegree Program | Deployment_\n",
    "\n",
    "---\n",
    "\n",
    "In this notebook we will use Amazon's SageMaker service to construct a random tree model to predict the sentiment of a movie review. In addition, we will deploy this model to an endpoint and construct a very simple web app which will interact with our model's deployed endpoint.\n",
    "\n",
    "## General Outline\n",
    "\n",
    "Typically, when using a notebook instance with SageMaker, you will proceed through the following steps. Of course, not every step will need to be done with each project. Also, there is quite a lot of room for variation in many of the steps, as you will see throughout these lessons.\n",
    "\n",
    "1. Download or otherwise retrieve the data.\n",
    "2. Process / Prepare the data.\n",
    "3. Upload the processed data to S3.\n",
    "4. Train a chosen model.\n",
    "5. Test the trained model (typically using a batch transform job).\n",
    "6. Deploy the trained model.\n",
    "7. Use the deployed model.\n",
    "\n",
    "In this notebook we will progress through each of the steps above. We will also see that the final step, using the deployed model, can be quite challenging."
   ]
  },
  {
   "cell_type": "markdown",
   "metadata": {},
   "source": [
    "## Step 1: Downloading the data\n",
    "\n",
    "The dataset we are going to use is very popular among researchers in Natural Language Processing, usually referred to as the [IMDb dataset](http://ai.stanford.edu/~amaas/data/sentiment/). It consists of movie reviews from the website [imdb.com](http://www.imdb.com/), each labeled as either '**pos**itive', if the reviewer enjoyed the film, or '**neg**ative' otherwise.\n",
    "\n",
    "> Maas, Andrew L., et al. [Learning Word Vectors for Sentiment Analysis](http://ai.stanford.edu/~amaas/data/sentiment/). In _Proceedings of the 49th Annual Meeting of the Association for Computational Linguistics: Human Language Technologies_. Association for Computational Linguistics, 2011.\n",
    "\n",
    "We begin by using some Jupyter Notebook magic to download and extract the dataset."
   ]
  },
  {
   "cell_type": "code",
   "execution_count": 2,
   "metadata": {},
   "outputs": [
    {
     "name": "stdout",
     "output_type": "stream",
     "text": [
      "mkdir: cannot create directory ‘../data’: File exists\n",
      "--2020-08-03 13:15:13--  http://ai.stanford.edu/~amaas/data/sentiment/aclImdb_v1.tar.gz\n",
      "Resolving ai.stanford.edu (ai.stanford.edu)... 171.64.68.10\n",
      "Connecting to ai.stanford.edu (ai.stanford.edu)|171.64.68.10|:80... connected.\n",
      "HTTP request sent, awaiting response... 200 OK\n",
      "Length: 84125825 (80M) [application/x-gzip]\n",
      "Saving to: ‘../data/aclImdb_v1.tar.gz’\n",
      "\n",
      "../data/aclImdb_v1. 100%[===================>]  80.23M  9.99MB/s    in 11s     \n",
      "\n",
      "2020-08-03 13:15:25 (7.24 MB/s) - ‘../data/aclImdb_v1.tar.gz’ saved [84125825/84125825]\n",
      "\n"
     ]
    }
   ],
   "source": [
    "%mkdir ../data\n",
    "!wget -O ../data/aclImdb_v1.tar.gz http://ai.stanford.edu/~amaas/data/sentiment/aclImdb_v1.tar.gz\n",
    "!tar -zxf ../data/aclImdb_v1.tar.gz -C ../data"
   ]
  },
  {
   "cell_type": "markdown",
   "metadata": {},
   "source": [
    "## Step 2: Preparing and Processing the data\n",
    "\n",
    "The data we have downloaded is split into various files, each of which contains a single review. It will be much easier going forward if we combine these individual files into two large files, one for training and one for testing."
   ]
  },
  {
   "cell_type": "code",
   "execution_count": 3,
   "metadata": {},
   "outputs": [],
   "source": [
    "import os\n",
    "import glob\n",
    "\n",
    "def read_imdb_data(data_dir='../data/aclImdb'):\n",
    "    data = {}\n",
    "    labels = {}\n",
    "    \n",
    "    for data_type in ['train', 'test']:\n",
    "        data[data_type] = {}\n",
    "        labels[data_type] = {}\n",
    "        \n",
    "        for sentiment in ['pos', 'neg']:\n",
    "            data[data_type][sentiment] = []\n",
    "            labels[data_type][sentiment] = []\n",
    "            \n",
    "            path = os.path.join(data_dir, data_type, sentiment, '*.txt')\n",
    "            files = glob.glob(path)\n",
    "            \n",
    "            for f in files:\n",
    "                with open(f) as review:\n",
    "                    data[data_type][sentiment].append(review.read())\n",
    "                    # Here we represent a positive review by '1' and a negative review by '0'\n",
    "                    labels[data_type][sentiment].append(1 if sentiment == 'pos' else 0)\n",
    "                    \n",
    "            assert len(data[data_type][sentiment]) == len(labels[data_type][sentiment]), \\\n",
    "                    \"{}/{} data size does not match labels size\".format(data_type, sentiment)\n",
    "                \n",
    "    return data, labels"
   ]
  },
  {
   "cell_type": "code",
   "execution_count": 4,
   "metadata": {},
   "outputs": [
    {
     "name": "stdout",
     "output_type": "stream",
     "text": [
      "IMDB reviews: train = 12500 pos / 12500 neg, test = 12500 pos / 12500 neg\n"
     ]
    }
   ],
   "source": [
    "data, labels = read_imdb_data()\n",
    "print(\"IMDB reviews: train = {} pos / {} neg, test = {} pos / {} neg\".format(\n",
    "            len(data['train']['pos']), len(data['train']['neg']),\n",
    "            len(data['test']['pos']), len(data['test']['neg'])))"
   ]
  },
  {
   "cell_type": "code",
   "execution_count": 5,
   "metadata": {},
   "outputs": [],
   "source": [
    "from sklearn.utils import shuffle\n",
    "\n",
    "def prepare_imdb_data(data, labels):\n",
    "    \"\"\"Prepare training and test sets from IMDb movie reviews.\"\"\"\n",
    "    \n",
    "    #Combine positive and negative reviews and labels\n",
    "    data_train = data['train']['pos'] + data['train']['neg']\n",
    "    data_test = data['test']['pos'] + data['test']['neg']\n",
    "    labels_train = labels['train']['pos'] + labels['train']['neg']\n",
    "    labels_test = labels['test']['pos'] + labels['test']['neg']\n",
    "    \n",
    "    #Shuffle reviews and corresponding labels within training and test sets\n",
    "    data_train, labels_train = shuffle(data_train, labels_train)\n",
    "    data_test, labels_test = shuffle(data_test, labels_test)\n",
    "    \n",
    "    # Return a unified training data, test data, training labels, test labets\n",
    "    return data_train, data_test, labels_train, labels_test"
   ]
  },
  {
   "cell_type": "code",
   "execution_count": 6,
   "metadata": {},
   "outputs": [
    {
     "name": "stdout",
     "output_type": "stream",
     "text": [
      "IMDb reviews (combined): train = 25000, test = 25000\n"
     ]
    }
   ],
   "source": [
    "train_X, test_X, train_y, test_y = prepare_imdb_data(data, labels)\n",
    "print(\"IMDb reviews (combined): train = {}, test = {}\".format(len(train_X), len(test_X)))"
   ]
  },
  {
   "cell_type": "code",
   "execution_count": 7,
   "metadata": {},
   "outputs": [
    {
     "data": {
      "text/plain": [
       "\"Okay, I seriously CAN'T think of anything worse than the PR series. There are many bad things in life...traitors, liars, etc. But seriously, Power Rangers has GOT to be at the bottom of this list. Can you think of anything more stupid than five-six teenagers (who don't even act like a normal teen) dancing around in identical suits WITH DIFFERENT COLORS SO THAT YOU CAN TELL THEM APART? Fans, have you ever come across a real person who gets flung against a mental wall and gets up almost immediately and continues to fight without getting injured? Power Rangers are for five-year old boys, and believe me, I never liked this show even when I was five.<br /><br />I guess you can say Dino Thunder is an exception. The teens actually ACT like teens, and Tommy Oliver actually acts like a mentor, or no, a teacher. It's got teen-humor, though the fighting is lame, I don't hate Dino Thunder.<br /><br />Many people say Power Rangers are crap, but I wouldn't. It would be an insult to crap. So face it, five year old boys, Power Rangers is rubbish.\""
      ]
     },
     "execution_count": 7,
     "metadata": {},
     "output_type": "execute_result"
    }
   ],
   "source": [
    "train_X[100]"
   ]
  },
  {
   "cell_type": "markdown",
   "metadata": {},
   "source": [
    "## Processing the data\n",
    "\n",
    "Now that we have our training and testing datasets merged and ready to use, we need to start processing the raw data into something that will be useable by our machine learning algorithm. To begin with, we remove any html formatting and any non-alpha numeric characters that may appear in the reviews. We will do this in a very simplistic way using Python's regular expression module. We will discuss the reason for this rather simplistic pre-processing later on."
   ]
  },
  {
   "cell_type": "code",
   "execution_count": 8,
   "metadata": {},
   "outputs": [],
   "source": [
    "import re\n",
    "\n",
    "REPLACE_NO_SPACE = re.compile(\"(\\.)|(\\;)|(\\:)|(\\!)|(\\')|(\\?)|(\\,)|(\\\")|(\\()|(\\))|(\\[)|(\\])\")\n",
    "REPLACE_WITH_SPACE = re.compile(\"(<br\\s*/><br\\s*/>)|(\\-)|(\\/)\")\n",
    "\n",
    "def review_to_words(review):\n",
    "    words = REPLACE_NO_SPACE.sub(\"\", review.lower())\n",
    "    words = REPLACE_WITH_SPACE.sub(\" \", words)\n",
    "    return words"
   ]
  },
  {
   "cell_type": "code",
   "execution_count": 9,
   "metadata": {},
   "outputs": [
    {
     "data": {
      "text/plain": [
       "'okay i seriously cant think of anything worse than the pr series there are many bad things in lifetraitors liars etc but seriously power rangers has got to be at the bottom of this list can you think of anything more stupid than five six teenagers who dont even act like a normal teen dancing around in identical suits with different colors so that you can tell them apart fans have you ever come across a real person who gets flung against a mental wall and gets up almost immediately and continues to fight without getting injured power rangers are for five year old boys and believe me i never liked this show even when i was five i guess you can say dino thunder is an exception the teens actually act like teens and tommy oliver actually acts like a mentor or no a teacher its got teen humor though the fighting is lame i dont hate dino thunder many people say power rangers are crap but i wouldnt it would be an insult to crap so face it five year old boys power rangers is rubbish'"
      ]
     },
     "execution_count": 9,
     "metadata": {},
     "output_type": "execute_result"
    }
   ],
   "source": [
    "review_to_words(train_X[100])"
   ]
  },
  {
   "cell_type": "code",
   "execution_count": 10,
   "metadata": {},
   "outputs": [],
   "source": [
    "import pickle\n",
    "\n",
    "cache_dir = os.path.join(\"../cache\", \"sentiment_web_app\")  # where to store cache files\n",
    "os.makedirs(cache_dir, exist_ok=True)  # ensure cache directory exists\n",
    "\n",
    "def preprocess_data(data_train, data_test, labels_train, labels_test,\n",
    "                    cache_dir=cache_dir, cache_file=\"preprocessed_data.pkl\"):\n",
    "    \"\"\"Convert each review to words; read from cache if available.\"\"\"\n",
    "\n",
    "    # If cache_file is not None, try to read from it first\n",
    "    cache_data = None\n",
    "    if cache_file is not None:\n",
    "        try:\n",
    "            with open(os.path.join(cache_dir, cache_file), \"rb\") as f:\n",
    "                cache_data = pickle.load(f)\n",
    "            print(\"Read preprocessed data from cache file:\", cache_file)\n",
    "        except:\n",
    "            pass  # unable to read from cache, but that's okay\n",
    "    \n",
    "    # If cache is missing, then do the heavy lifting\n",
    "    if cache_data is None:\n",
    "        # Preprocess training and test data to obtain words for each review\n",
    "        #words_train = list(map(review_to_words, data_train))\n",
    "        #words_test = list(map(review_to_words, data_test))\n",
    "        words_train = [review_to_words(review) for review in data_train]\n",
    "        words_test = [review_to_words(review) for review in data_test]\n",
    "        \n",
    "        # Write to cache file for future runs\n",
    "        if cache_file is not None:\n",
    "            cache_data = dict(words_train=words_train, words_test=words_test,\n",
    "                              labels_train=labels_train, labels_test=labels_test)\n",
    "            with open(os.path.join(cache_dir, cache_file), \"wb\") as f:\n",
    "                pickle.dump(cache_data, f)\n",
    "            print(\"Wrote preprocessed data to cache file:\", cache_file)\n",
    "    else:\n",
    "        # Unpack data loaded from cache file\n",
    "        words_train, words_test, labels_train, labels_test = (cache_data['words_train'],\n",
    "                cache_data['words_test'], cache_data['labels_train'], cache_data['labels_test'])\n",
    "    \n",
    "    return words_train, words_test, labels_train, labels_test"
   ]
  },
  {
   "cell_type": "code",
   "execution_count": 11,
   "metadata": {},
   "outputs": [
    {
     "name": "stdout",
     "output_type": "stream",
     "text": [
      "Read preprocessed data from cache file: preprocessed_data.pkl\n"
     ]
    }
   ],
   "source": [
    "# Preprocess data\n",
    "train_X, test_X, train_y, test_y = preprocess_data(train_X, test_X, train_y, test_y)"
   ]
  },
  {
   "cell_type": "markdown",
   "metadata": {},
   "source": [
    "### Extract Bag-of-Words features\n",
    "\n",
    "For the model we will be implementing, rather than using the reviews directly, we are going to transform each review into a Bag-of-Words feature representation. Keep in mind that 'in the wild' we will only have access to the training set so our transformer can only use the training set to construct a representation."
   ]
  },
  {
   "cell_type": "code",
   "execution_count": 12,
   "metadata": {},
   "outputs": [
    {
     "name": "stderr",
     "output_type": "stream",
     "text": [
      "/home/ec2-user/anaconda3/envs/python3/lib/python3.6/site-packages/sklearn/externals/joblib/__init__.py:15: FutureWarning: sklearn.externals.joblib is deprecated in 0.21 and will be removed in 0.23. Please import this functionality directly from joblib, which can be installed with: pip install joblib. If this warning is raised when loading pickled models, you may need to re-serialize those models with scikit-learn 0.21+.\n",
      "  warnings.warn(msg, category=FutureWarning)\n"
     ]
    }
   ],
   "source": [
    "import numpy as np\n",
    "from sklearn.feature_extraction.text import CountVectorizer\n",
    "from sklearn.externals import joblib\n",
    "# joblib is an enhanced version of pickle that is more efficient for storing NumPy arrays\n",
    "\n",
    "def extract_BoW_features(words_train, words_test, vocabulary_size=5000,\n",
    "                         cache_dir=cache_dir, cache_file=\"bow_features.pkl\"):\n",
    "    \"\"\"Extract Bag-of-Words for a given set of documents, already preprocessed into words.\"\"\"\n",
    "    \n",
    "    # If cache_file is not None, try to read from it first\n",
    "    cache_data = None\n",
    "    if cache_file is not None:\n",
    "        try:\n",
    "            with open(os.path.join(cache_dir, cache_file), \"rb\") as f:\n",
    "                cache_data = joblib.load(f)\n",
    "            print(\"Read features from cache file:\", cache_file)\n",
    "        except:\n",
    "            pass  # unable to read from cache, but that's okay\n",
    "    \n",
    "    # If cache is missing, then do the heavy lifting\n",
    "    if cache_data is None:\n",
    "        # Fit a vectorizer to training documents and use it to transform them\n",
    "        # NOTE: Training documents have already been preprocessed and tokenized into words;\n",
    "        #       pass in dummy functions to skip those steps, e.g. preprocessor=lambda x: x\n",
    "        vectorizer = CountVectorizer(max_features=vocabulary_size)\n",
    "        features_train = vectorizer.fit_transform(words_train).toarray()\n",
    "\n",
    "        # Apply the same vectorizer to transform the test documents (ignore unknown words)\n",
    "        features_test = vectorizer.transform(words_test).toarray()\n",
    "        \n",
    "        # NOTE: Remember to convert the features using .toarray() for a compact representation\n",
    "        \n",
    "        # Write to cache file for future runs (store vocabulary as well)\n",
    "        if cache_file is not None:\n",
    "            vocabulary = vectorizer.vocabulary_\n",
    "            cache_data = dict(features_train=features_train, features_test=features_test,\n",
    "                             vocabulary=vocabulary)\n",
    "            with open(os.path.join(cache_dir, cache_file), \"wb\") as f:\n",
    "                joblib.dump(cache_data, f)\n",
    "            print(\"Wrote features to cache file:\", cache_file)\n",
    "    else:\n",
    "        # Unpack data loaded from cache file\n",
    "        features_train, features_test, vocabulary = (cache_data['features_train'],\n",
    "                cache_data['features_test'], cache_data['vocabulary'])\n",
    "    \n",
    "    # Return both the extracted features as well as the vocabulary\n",
    "    return features_train, features_test, vocabulary"
   ]
  },
  {
   "cell_type": "code",
   "execution_count": 13,
   "metadata": {},
   "outputs": [
    {
     "name": "stdout",
     "output_type": "stream",
     "text": [
      "Read features from cache file: bow_features.pkl\n"
     ]
    }
   ],
   "source": [
    "# Extract Bag of Words features for both training and test datasets\n",
    "train_X, test_X, vocabulary = extract_BoW_features(train_X, test_X)"
   ]
  },
  {
   "cell_type": "code",
   "execution_count": 14,
   "metadata": {},
   "outputs": [
    {
     "data": {
      "text/plain": [
       "5000"
      ]
     },
     "execution_count": 14,
     "metadata": {},
     "output_type": "execute_result"
    }
   ],
   "source": [
    "len(train_X[100])"
   ]
  },
  {
   "cell_type": "markdown",
   "metadata": {},
   "source": [
    "## Step 3: Upload data to S3\n",
    "\n",
    "Now that we have created the feature representation of our training (and testing) data, it is time to start setting up and using the XGBoost classifier provided by SageMaker.\n",
    "\n",
    "### Writing the datasets\n",
    "\n",
    "The XGBoost classifier that we will be using requires the dataset to be written to a file and stored using Amazon S3. To do this, we will start by splitting the training dataset into two parts, the data we will train the model with and a validation set. Then, we will write those datasets to a file locally and then upload the files to S3. In addition, we will write the test set to a file and upload that file to S3. This is so that we can use SageMakers Batch Transform functionality to test our model once we've fit it."
   ]
  },
  {
   "cell_type": "code",
   "execution_count": 15,
   "metadata": {},
   "outputs": [],
   "source": [
    "import pandas as pd\n",
    "\n",
    "# Earlier we shuffled the training dataset so to make things simple we can just assign\n",
    "# the first 10 000 reviews to the validation set and use the remaining reviews for training.\n",
    "val_X = pd.DataFrame(train_X[:10000])\n",
    "train_X = pd.DataFrame(train_X[10000:])\n",
    "\n",
    "val_y = pd.DataFrame(train_y[:10000])\n",
    "train_y = pd.DataFrame(train_y[10000:])"
   ]
  },
  {
   "cell_type": "markdown",
   "metadata": {},
   "source": [
    "The documentation for the XGBoost algorithm in SageMaker requires that the training and validation datasets should contain no headers or index and that the label should occur first for each sample.\n",
    "\n",
    "For more information about this and other algorithms, the SageMaker developer documentation can be found on __[Amazon's website.](https://docs.aws.amazon.com/sagemaker/latest/dg/)__"
   ]
  },
  {
   "cell_type": "code",
   "execution_count": 16,
   "metadata": {},
   "outputs": [],
   "source": [
    "# First we make sure that the local directory in which we'd like to store the training and validation csv files exists.\n",
    "data_dir = '../data/sentiment_web_app'\n",
    "if not os.path.exists(data_dir):\n",
    "    os.makedirs(data_dir)"
   ]
  },
  {
   "cell_type": "code",
   "execution_count": 17,
   "metadata": {},
   "outputs": [],
   "source": [
    "pd.DataFrame(test_X).to_csv(os.path.join(data_dir, 'test.csv'), header=False, index=False)\n",
    "\n",
    "pd.concat([val_y, val_X], axis=1).to_csv(os.path.join(data_dir, 'validation.csv'), header=False, index=False)\n",
    "pd.concat([train_y, train_X], axis=1).to_csv(os.path.join(data_dir, 'train.csv'), header=False, index=False)"
   ]
  },
  {
   "cell_type": "code",
   "execution_count": 18,
   "metadata": {},
   "outputs": [],
   "source": [
    "# To save a bit of memory we can set text_X, train_X, val_X, train_y and val_y to None.\n",
    "\n",
    "test_X = train_X = val_X = train_y = val_y = None"
   ]
  },
  {
   "cell_type": "markdown",
   "metadata": {},
   "source": [
    "### Uploading Training / Validation files to S3\n",
    "\n",
    "Amazon's S3 service allows us to store files that can be accessed by both the built-in training models such as the XGBoost model we will be using as well as custom models such as the one we will see a little later.\n",
    "\n",
    "For this and most other tasks we will be doing using SageMaker, there are two methods we could use. The first is to use the low level functionality of SageMaker which requires knowing each of the objects involved in the SageMaker environment. The second is to use the high level functionality in which certain choices have been made on the user's behalf. The low level approach benefits from allowing the user a great deal of flexibility while the high level approach makes development much quicker. For our purposes we will opt to use the high level approach although using the low-level approach is certainly an option.\n",
    "\n",
    "Recall the method `upload_data()` which is a member of the object representing our current SageMaker session. What this method does is upload the data to the default bucket (which is created if it does not exist) into the path described by the key_prefix variable. To see this for yourself, once you have uploaded the data files, go to the S3 console and look to see where the files have been uploaded.\n",
    "\n",
    "For additional resources, see the __[SageMaker API documentation](http://sagemaker.readthedocs.io/en/latest/)__ and in addition the __[SageMaker Developer Guide.](https://docs.aws.amazon.com/sagemaker/latest/dg/)__"
   ]
  },
  {
   "cell_type": "code",
   "execution_count": 19,
   "metadata": {},
   "outputs": [],
   "source": [
    "import sagemaker\n",
    "\n",
    "session = sagemaker.Session() # Store the current SageMaker session\n",
    "\n",
    "# S3 prefix (which folder will we use)\n",
    "prefix = 'sentiment-web-app'\n",
    "\n",
    "test_location = session.upload_data(os.path.join(data_dir, 'test.csv'), key_prefix=prefix)\n",
    "val_location = session.upload_data(os.path.join(data_dir, 'validation.csv'), key_prefix=prefix)\n",
    "train_location = session.upload_data(os.path.join(data_dir, 'train.csv'), key_prefix=prefix)"
   ]
  },
  {
   "cell_type": "markdown",
   "metadata": {},
   "source": [
    "## Step 4: Creating the XGBoost model\n",
    "\n",
    "Now that the data has been uploaded it is time to create the XGBoost model. To begin with, we need to do some setup. At this point it is worth discussing what a model is in SageMaker. It is easiest to think of a model of comprising three different objects in the SageMaker ecosystem, which interact with one another.\n",
    "\n",
    "- Model Artifacts\n",
    "- Training Code (Container)\n",
    "- Inference Code (Container)\n",
    "\n",
    "The Model Artifacts are what you might think of as the actual model itself. For example, if you were building a neural network, the model artifacts would be the weights of the various layers. In our case, for an XGBoost model, the artifacts are the actual trees that are created during training.\n",
    "\n",
    "The other two objects, the training code and the inference code are then used to manipulate the training artifacts. More precisely, the training code uses the training data that is provided and creates the model artifacts, while the inference code uses the model artifacts to make predictions on new data.\n",
    "\n",
    "The way that SageMaker runs the training and inference code is by making use of Docker containers. For now, think of a container as being a way of packaging code up so that dependencies aren't an issue."
   ]
  },
  {
   "cell_type": "code",
   "execution_count": 20,
   "metadata": {},
   "outputs": [],
   "source": [
    "from sagemaker import get_execution_role\n",
    "\n",
    "# Our current execution role is required when creating the model as the training\n",
    "# and inference code will need to access the model artifacts.\n",
    "role = get_execution_role()"
   ]
  },
  {
   "cell_type": "code",
   "execution_count": 21,
   "metadata": {},
   "outputs": [
    {
     "name": "stderr",
     "output_type": "stream",
     "text": [
      "'get_image_uri' method will be deprecated in favor of 'ImageURIProvider' class in SageMaker Python SDK v2.\n",
      "There is a more up to date SageMaker XGBoost image. To use the newer image, please set 'repo_version'='1.0-1'. For example:\n",
      "\tget_image_uri(region, 'xgboost', '1.0-1').\n"
     ]
    }
   ],
   "source": [
    "# We need to retrieve the location of the container which is provided by Amazon for using XGBoost.\n",
    "# As a matter of convenience, the training and inference code both use the same container.\n",
    "from sagemaker.amazon.amazon_estimator import get_image_uri\n",
    "\n",
    "container = get_image_uri(session.boto_region_name, 'xgboost')"
   ]
  },
  {
   "cell_type": "code",
   "execution_count": 22,
   "metadata": {},
   "outputs": [
    {
     "name": "stderr",
     "output_type": "stream",
     "text": [
      "Parameter image_name will be renamed to image_uri in SageMaker Python SDK v2.\n"
     ]
    }
   ],
   "source": [
    "# First we create a SageMaker estimator object for our model.\n",
    "xgb = sagemaker.estimator.Estimator(container, # The location of the container we wish to use\n",
    "                                    role,                                    # What is our current IAM Role\n",
    "                                    train_instance_count=1,                  # How many compute instances\n",
    "                                    train_instance_type='ml.m4.xlarge',      # What kind of compute instances\n",
    "                                    output_path='s3://{}/{}/output'.format(session.default_bucket(), prefix),\n",
    "                                    sagemaker_session=session)\n",
    "\n",
    "# And then set the algorithm specific parameters.\n",
    "xgb.set_hyperparameters(max_depth=5,\n",
    "                        eta=0.2,\n",
    "                        gamma=4,\n",
    "                        min_child_weight=6,\n",
    "                        subsample=0.8,\n",
    "                        silent=0,\n",
    "                        objective='binary:logistic',\n",
    "                        early_stopping_rounds=10,\n",
    "                        num_round=500)"
   ]
  },
  {
   "cell_type": "markdown",
   "metadata": {},
   "source": [
    "### Fit the XGBoost model\n",
    "\n",
    "Now that our model has been set up we simply need to attach the training and validation datasets and then ask SageMaker to set up the computation."
   ]
  },
  {
   "cell_type": "code",
   "execution_count": 23,
   "metadata": {},
   "outputs": [
    {
     "name": "stderr",
     "output_type": "stream",
     "text": [
      "'s3_input' class will be renamed to 'TrainingInput' in SageMaker Python SDK v2.\n",
      "'s3_input' class will be renamed to 'TrainingInput' in SageMaker Python SDK v2.\n"
     ]
    }
   ],
   "source": [
    "s3_input_train = sagemaker.s3_input(s3_data=train_location, content_type='csv')\n",
    "s3_input_validation = sagemaker.s3_input(s3_data=val_location, content_type='csv')"
   ]
  },
  {
   "cell_type": "code",
   "execution_count": 24,
   "metadata": {},
   "outputs": [
    {
     "name": "stdout",
     "output_type": "stream",
     "text": [
      "2020-08-03 13:18:08 Starting - Starting the training job...\n",
      "2020-08-03 13:18:10 Starting - Launching requested ML instances......\n",
      "2020-08-03 13:19:15 Starting - Preparing the instances for training......\n",
      "2020-08-03 13:20:11 Downloading - Downloading input data...\n",
      "2020-08-03 13:20:56 Training - Training image download completed. Training in progress.\u001b[34mArguments: train\u001b[0m\n",
      "\u001b[34m[2020-08-03:13:20:56:INFO] Running standalone xgboost training.\u001b[0m\n",
      "\u001b[34m[2020-08-03:13:20:56:INFO] File size need to be processed in the node: 238.5mb. Available memory size in the node: 8499.66mb\u001b[0m\n",
      "\u001b[34m[2020-08-03:13:20:56:INFO] Determined delimiter of CSV input is ','\u001b[0m\n",
      "\u001b[34m[13:20:56] S3DistributionType set as FullyReplicated\u001b[0m\n",
      "\u001b[34m[13:20:58] 15000x5000 matrix with 75000000 entries loaded from /opt/ml/input/data/train?format=csv&label_column=0&delimiter=,\u001b[0m\n",
      "\u001b[34m[2020-08-03:13:20:58:INFO] Determined delimiter of CSV input is ','\u001b[0m\n",
      "\u001b[34m[13:20:58] S3DistributionType set as FullyReplicated\u001b[0m\n",
      "\u001b[34m[13:20:59] 10000x5000 matrix with 50000000 entries loaded from /opt/ml/input/data/validation?format=csv&label_column=0&delimiter=,\u001b[0m\n",
      "\u001b[34m[13:21:03] src/tree/updater_prune.cc:74: tree pruning end, 1 roots, 50 extra nodes, 4 pruned nodes, max_depth=5\u001b[0m\n",
      "\u001b[34m[0]#011train-error:0.308333#011validation-error:0.301\u001b[0m\n",
      "\u001b[34mMultiple eval metrics have been passed: 'validation-error' will be used for early stopping.\n",
      "\u001b[0m\n",
      "\u001b[34mWill train until validation-error hasn't improved in 10 rounds.\u001b[0m\n",
      "\u001b[34m[13:21:04] src/tree/updater_prune.cc:74: tree pruning end, 1 roots, 38 extra nodes, 10 pruned nodes, max_depth=5\u001b[0m\n",
      "\u001b[34m[1]#011train-error:0.307667#011validation-error:0.2999\u001b[0m\n",
      "\u001b[34m[13:21:06] src/tree/updater_prune.cc:74: tree pruning end, 1 roots, 42 extra nodes, 4 pruned nodes, max_depth=5\u001b[0m\n",
      "\u001b[34m[2]#011train-error:0.283067#011validation-error:0.2808\u001b[0m\n",
      "\u001b[34m[13:21:07] src/tree/updater_prune.cc:74: tree pruning end, 1 roots, 30 extra nodes, 4 pruned nodes, max_depth=5\u001b[0m\n",
      "\u001b[34m[3]#011train-error:0.273533#011validation-error:0.2729\u001b[0m\n",
      "\u001b[34m[13:21:09] src/tree/updater_prune.cc:74: tree pruning end, 1 roots, 42 extra nodes, 8 pruned nodes, max_depth=5\u001b[0m\n",
      "\u001b[34m[4]#011train-error:0.2614#011validation-error:0.2655\u001b[0m\n",
      "\u001b[34m[13:21:10] src/tree/updater_prune.cc:74: tree pruning end, 1 roots, 28 extra nodes, 6 pruned nodes, max_depth=5\u001b[0m\n",
      "\u001b[34m[5]#011train-error:0.261#011validation-error:0.2583\u001b[0m\n",
      "\u001b[34m[13:21:11] src/tree/updater_prune.cc:74: tree pruning end, 1 roots, 42 extra nodes, 4 pruned nodes, max_depth=5\u001b[0m\n",
      "\u001b[34m[6]#011train-error:0.249467#011validation-error:0.2521\u001b[0m\n",
      "\u001b[34m[13:21:12] src/tree/updater_prune.cc:74: tree pruning end, 1 roots, 30 extra nodes, 6 pruned nodes, max_depth=5\u001b[0m\n",
      "\u001b[34m[7]#011train-error:0.244933#011validation-error:0.2482\u001b[0m\n",
      "\u001b[34m[13:21:14] src/tree/updater_prune.cc:74: tree pruning end, 1 roots, 46 extra nodes, 2 pruned nodes, max_depth=5\u001b[0m\n",
      "\u001b[34m[8]#011train-error:0.2356#011validation-error:0.2391\u001b[0m\n",
      "\u001b[34m[13:21:15] src/tree/updater_prune.cc:74: tree pruning end, 1 roots, 28 extra nodes, 12 pruned nodes, max_depth=5\u001b[0m\n",
      "\u001b[34m[9]#011train-error:0.228933#011validation-error:0.233\u001b[0m\n",
      "\u001b[34m[13:21:16] src/tree/updater_prune.cc:74: tree pruning end, 1 roots, 34 extra nodes, 6 pruned nodes, max_depth=5\u001b[0m\n",
      "\u001b[34m[10]#011train-error:0.2226#011validation-error:0.2317\u001b[0m\n",
      "\u001b[34m[13:21:17] src/tree/updater_prune.cc:74: tree pruning end, 1 roots, 34 extra nodes, 2 pruned nodes, max_depth=5\u001b[0m\n",
      "\u001b[34m[11]#011train-error:0.220467#011validation-error:0.2276\u001b[0m\n",
      "\u001b[34m[13:21:19] src/tree/updater_prune.cc:74: tree pruning end, 1 roots, 32 extra nodes, 12 pruned nodes, max_depth=5\u001b[0m\n",
      "\u001b[34m[12]#011train-error:0.215533#011validation-error:0.2223\u001b[0m\n",
      "\u001b[34m[13:21:20] src/tree/updater_prune.cc:74: tree pruning end, 1 roots, 32 extra nodes, 8 pruned nodes, max_depth=5\u001b[0m\n",
      "\u001b[34m[13]#011train-error:0.212267#011validation-error:0.2222\u001b[0m\n",
      "\u001b[34m[13:21:21] src/tree/updater_prune.cc:74: tree pruning end, 1 roots, 26 extra nodes, 8 pruned nodes, max_depth=5\u001b[0m\n",
      "\u001b[34m[14]#011train-error:0.2084#011validation-error:0.2181\u001b[0m\n",
      "\u001b[34m[13:21:22] src/tree/updater_prune.cc:74: tree pruning end, 1 roots, 30 extra nodes, 10 pruned nodes, max_depth=5\u001b[0m\n",
      "\u001b[34m[15]#011train-error:0.207267#011validation-error:0.2159\u001b[0m\n",
      "\u001b[34m[13:21:24] src/tree/updater_prune.cc:74: tree pruning end, 1 roots, 30 extra nodes, 6 pruned nodes, max_depth=5\u001b[0m\n",
      "\u001b[34m[16]#011train-error:0.204333#011validation-error:0.2128\u001b[0m\n",
      "\u001b[34m[13:21:25] src/tree/updater_prune.cc:74: tree pruning end, 1 roots, 26 extra nodes, 10 pruned nodes, max_depth=5\u001b[0m\n",
      "\u001b[34m[17]#011train-error:0.2008#011validation-error:0.2091\u001b[0m\n",
      "\u001b[34m[13:21:26] src/tree/updater_prune.cc:74: tree pruning end, 1 roots, 20 extra nodes, 10 pruned nodes, max_depth=5\u001b[0m\n",
      "\u001b[34m[18]#011train-error:0.198#011validation-error:0.2067\u001b[0m\n",
      "\u001b[34m[13:21:28] src/tree/updater_prune.cc:74: tree pruning end, 1 roots, 30 extra nodes, 10 pruned nodes, max_depth=5\u001b[0m\n",
      "\u001b[34m[19]#011train-error:0.193333#011validation-error:0.2018\u001b[0m\n",
      "\u001b[34m[13:21:29] src/tree/updater_prune.cc:74: tree pruning end, 1 roots, 36 extra nodes, 8 pruned nodes, max_depth=5\u001b[0m\n",
      "\u001b[34m[20]#011train-error:0.191133#011validation-error:0.2019\u001b[0m\n",
      "\u001b[34m[13:21:30] src/tree/updater_prune.cc:74: tree pruning end, 1 roots, 28 extra nodes, 8 pruned nodes, max_depth=5\u001b[0m\n",
      "\u001b[34m[21]#011train-error:0.188067#011validation-error:0.1994\u001b[0m\n",
      "\u001b[34m[13:21:31] src/tree/updater_prune.cc:74: tree pruning end, 1 roots, 30 extra nodes, 4 pruned nodes, max_depth=5\u001b[0m\n",
      "\u001b[34m[22]#011train-error:0.1854#011validation-error:0.1958\u001b[0m\n",
      "\u001b[34m[13:21:33] src/tree/updater_prune.cc:74: tree pruning end, 1 roots, 26 extra nodes, 4 pruned nodes, max_depth=5\u001b[0m\n",
      "\u001b[34m[23]#011train-error:0.1814#011validation-error:0.193\u001b[0m\n",
      "\u001b[34m[13:21:34] src/tree/updater_prune.cc:74: tree pruning end, 1 roots, 40 extra nodes, 12 pruned nodes, max_depth=5\u001b[0m\n",
      "\u001b[34m[24]#011train-error:0.176667#011validation-error:0.1929\u001b[0m\n",
      "\u001b[34m[13:21:35] src/tree/updater_prune.cc:74: tree pruning end, 1 roots, 24 extra nodes, 6 pruned nodes, max_depth=5\u001b[0m\n",
      "\u001b[34m[25]#011train-error:0.176333#011validation-error:0.1932\u001b[0m\n",
      "\u001b[34m[13:21:36] src/tree/updater_prune.cc:74: tree pruning end, 1 roots, 24 extra nodes, 14 pruned nodes, max_depth=5\u001b[0m\n",
      "\u001b[34m[26]#011train-error:0.173533#011validation-error:0.1901\u001b[0m\n",
      "\u001b[34m[13:21:38] src/tree/updater_prune.cc:74: tree pruning end, 1 roots, 12 extra nodes, 10 pruned nodes, max_depth=5\u001b[0m\n",
      "\u001b[34m[27]#011train-error:0.171267#011validation-error:0.1885\u001b[0m\n",
      "\u001b[34m[13:21:39] src/tree/updater_prune.cc:74: tree pruning end, 1 roots, 34 extra nodes, 6 pruned nodes, max_depth=5\u001b[0m\n",
      "\u001b[34m[28]#011train-error:0.170133#011validation-error:0.1868\u001b[0m\n",
      "\u001b[34m[13:21:40] src/tree/updater_prune.cc:74: tree pruning end, 1 roots, 24 extra nodes, 4 pruned nodes, max_depth=5\u001b[0m\n",
      "\u001b[34m[29]#011train-error:0.169333#011validation-error:0.1851\u001b[0m\n",
      "\u001b[34m[13:21:41] src/tree/updater_prune.cc:74: tree pruning end, 1 roots, 30 extra nodes, 0 pruned nodes, max_depth=5\u001b[0m\n",
      "\u001b[34m[30]#011train-error:0.168867#011validation-error:0.1828\u001b[0m\n",
      "\u001b[34m[13:21:43] src/tree/updater_prune.cc:74: tree pruning end, 1 roots, 14 extra nodes, 8 pruned nodes, max_depth=5\u001b[0m\n",
      "\u001b[34m[31]#011train-error:0.168133#011validation-error:0.1828\u001b[0m\n",
      "\u001b[34m[13:21:44] src/tree/updater_prune.cc:74: tree pruning end, 1 roots, 36 extra nodes, 14 pruned nodes, max_depth=5\u001b[0m\n",
      "\u001b[34m[32]#011train-error:0.165667#011validation-error:0.1815\u001b[0m\n",
      "\u001b[34m[13:21:45] src/tree/updater_prune.cc:74: tree pruning end, 1 roots, 26 extra nodes, 12 pruned nodes, max_depth=5\u001b[0m\n",
      "\u001b[34m[33]#011train-error:0.162467#011validation-error:0.1799\u001b[0m\n",
      "\u001b[34m[13:21:47] src/tree/updater_prune.cc:74: tree pruning end, 1 roots, 22 extra nodes, 4 pruned nodes, max_depth=5\u001b[0m\n",
      "\u001b[34m[34]#011train-error:0.1616#011validation-error:0.1798\u001b[0m\n",
      "\u001b[34m[13:21:48] src/tree/updater_prune.cc:74: tree pruning end, 1 roots, 16 extra nodes, 12 pruned nodes, max_depth=5\u001b[0m\n",
      "\u001b[34m[35]#011train-error:0.160867#011validation-error:0.1791\u001b[0m\n",
      "\u001b[34m[13:21:49] src/tree/updater_prune.cc:74: tree pruning end, 1 roots, 18 extra nodes, 6 pruned nodes, max_depth=5\u001b[0m\n",
      "\u001b[34m[36]#011train-error:0.160267#011validation-error:0.1783\u001b[0m\n",
      "\u001b[34m[13:21:50] src/tree/updater_prune.cc:74: tree pruning end, 1 roots, 30 extra nodes, 14 pruned nodes, max_depth=5\u001b[0m\n",
      "\u001b[34m[37]#011train-error:0.158667#011validation-error:0.1763\u001b[0m\n",
      "\u001b[34m[13:21:52] src/tree/updater_prune.cc:74: tree pruning end, 1 roots, 30 extra nodes, 12 pruned nodes, max_depth=5\u001b[0m\n",
      "\u001b[34m[38]#011train-error:0.157133#011validation-error:0.176\u001b[0m\n",
      "\u001b[34m[13:21:53] src/tree/updater_prune.cc:74: tree pruning end, 1 roots, 22 extra nodes, 6 pruned nodes, max_depth=5\u001b[0m\n",
      "\u001b[34m[39]#011train-error:0.155467#011validation-error:0.1753\u001b[0m\n",
      "\u001b[34m[13:21:54] src/tree/updater_prune.cc:74: tree pruning end, 1 roots, 34 extra nodes, 4 pruned nodes, max_depth=5\u001b[0m\n",
      "\u001b[34m[40]#011train-error:0.153267#011validation-error:0.1746\u001b[0m\n",
      "\u001b[34m[13:21:55] src/tree/updater_prune.cc:74: tree pruning end, 1 roots, 30 extra nodes, 6 pruned nodes, max_depth=5\u001b[0m\n",
      "\u001b[34m[41]#011train-error:0.151733#011validation-error:0.1737\u001b[0m\n",
      "\u001b[34m[13:21:57] src/tree/updater_prune.cc:74: tree pruning end, 1 roots, 32 extra nodes, 4 pruned nodes, max_depth=5\u001b[0m\n",
      "\u001b[34m[42]#011train-error:0.15#011validation-error:0.1728\u001b[0m\n",
      "\u001b[34m[13:21:58] src/tree/updater_prune.cc:74: tree pruning end, 1 roots, 22 extra nodes, 8 pruned nodes, max_depth=5\u001b[0m\n",
      "\u001b[34m[43]#011train-error:0.1488#011validation-error:0.1732\u001b[0m\n",
      "\u001b[34m[13:21:59] src/tree/updater_prune.cc:74: tree pruning end, 1 roots, 22 extra nodes, 2 pruned nodes, max_depth=5\u001b[0m\n",
      "\u001b[34m[44]#011train-error:0.1472#011validation-error:0.1723\u001b[0m\n",
      "\u001b[34m[13:22:00] src/tree/updater_prune.cc:74: tree pruning end, 1 roots, 42 extra nodes, 6 pruned nodes, max_depth=5\u001b[0m\n",
      "\u001b[34m[45]#011train-error:0.145867#011validation-error:0.1711\u001b[0m\n",
      "\u001b[34m[13:22:02] src/tree/updater_prune.cc:74: tree pruning end, 1 roots, 30 extra nodes, 4 pruned nodes, max_depth=5\u001b[0m\n",
      "\u001b[34m[46]#011train-error:0.143467#011validation-error:0.1703\u001b[0m\n",
      "\u001b[34m[13:22:03] src/tree/updater_prune.cc:74: tree pruning end, 1 roots, 22 extra nodes, 12 pruned nodes, max_depth=5\u001b[0m\n",
      "\u001b[34m[47]#011train-error:0.141933#011validation-error:0.1696\u001b[0m\n",
      "\u001b[34m[13:22:04] src/tree/updater_prune.cc:74: tree pruning end, 1 roots, 30 extra nodes, 8 pruned nodes, max_depth=5\u001b[0m\n",
      "\u001b[34m[48]#011train-error:0.141467#011validation-error:0.1696\u001b[0m\n",
      "\u001b[34m[13:22:05] src/tree/updater_prune.cc:74: tree pruning end, 1 roots, 28 extra nodes, 10 pruned nodes, max_depth=5\u001b[0m\n",
      "\u001b[34m[49]#011train-error:0.138733#011validation-error:0.1686\u001b[0m\n",
      "\u001b[34m[13:22:07] src/tree/updater_prune.cc:74: tree pruning end, 1 roots, 20 extra nodes, 4 pruned nodes, max_depth=5\u001b[0m\n",
      "\u001b[34m[50]#011train-error:0.138733#011validation-error:0.1679\u001b[0m\n",
      "\u001b[34m[13:22:08] src/tree/updater_prune.cc:74: tree pruning end, 1 roots, 16 extra nodes, 14 pruned nodes, max_depth=5\u001b[0m\n",
      "\u001b[34m[51]#011train-error:0.138267#011validation-error:0.1662\u001b[0m\n",
      "\u001b[34m[13:22:09] src/tree/updater_prune.cc:74: tree pruning end, 1 roots, 16 extra nodes, 14 pruned nodes, max_depth=5\u001b[0m\n",
      "\u001b[34m[52]#011train-error:0.137267#011validation-error:0.1661\u001b[0m\n",
      "\u001b[34m[13:22:10] src/tree/updater_prune.cc:74: tree pruning end, 1 roots, 14 extra nodes, 10 pruned nodes, max_depth=5\u001b[0m\n",
      "\u001b[34m[53]#011train-error:0.136133#011validation-error:0.1666\u001b[0m\n",
      "\u001b[34m[13:22:12] src/tree/updater_prune.cc:74: tree pruning end, 1 roots, 22 extra nodes, 14 pruned nodes, max_depth=5\u001b[0m\n",
      "\u001b[34m[54]#011train-error:0.136067#011validation-error:0.1672\u001b[0m\n",
      "\u001b[34m[13:22:13] src/tree/updater_prune.cc:74: tree pruning end, 1 roots, 22 extra nodes, 6 pruned nodes, max_depth=5\u001b[0m\n",
      "\u001b[34m[55]#011train-error:0.135133#011validation-error:0.1656\u001b[0m\n",
      "\u001b[34m[13:22:14] src/tree/updater_prune.cc:74: tree pruning end, 1 roots, 28 extra nodes, 8 pruned nodes, max_depth=5\u001b[0m\n",
      "\u001b[34m[56]#011train-error:0.1338#011validation-error:0.1666\u001b[0m\n",
      "\u001b[34m[13:22:15] src/tree/updater_prune.cc:74: tree pruning end, 1 roots, 18 extra nodes, 6 pruned nodes, max_depth=5\u001b[0m\n",
      "\u001b[34m[57]#011train-error:0.133067#011validation-error:0.1665\u001b[0m\n",
      "\u001b[34m[13:22:17] src/tree/updater_prune.cc:74: tree pruning end, 1 roots, 18 extra nodes, 6 pruned nodes, max_depth=5\u001b[0m\n",
      "\u001b[34m[58]#011train-error:0.131867#011validation-error:0.1658\u001b[0m\n",
      "\u001b[34m[13:22:18] src/tree/updater_prune.cc:74: tree pruning end, 1 roots, 16 extra nodes, 12 pruned nodes, max_depth=5\u001b[0m\n",
      "\u001b[34m[59]#011train-error:0.131#011validation-error:0.165\u001b[0m\n",
      "\u001b[34m[13:22:19] src/tree/updater_prune.cc:74: tree pruning end, 1 roots, 16 extra nodes, 16 pruned nodes, max_depth=5\u001b[0m\n",
      "\u001b[34m[60]#011train-error:0.131333#011validation-error:0.1644\u001b[0m\n",
      "\u001b[34m[13:22:21] src/tree/updater_prune.cc:74: tree pruning end, 1 roots, 16 extra nodes, 6 pruned nodes, max_depth=5\u001b[0m\n",
      "\u001b[34m[61]#011train-error:0.130067#011validation-error:0.1637\u001b[0m\n",
      "\u001b[34m[13:22:22] src/tree/updater_prune.cc:74: tree pruning end, 1 roots, 18 extra nodes, 18 pruned nodes, max_depth=5\u001b[0m\n",
      "\u001b[34m[62]#011train-error:0.1296#011validation-error:0.1636\u001b[0m\n",
      "\u001b[34m[13:22:23] src/tree/updater_prune.cc:74: tree pruning end, 1 roots, 26 extra nodes, 8 pruned nodes, max_depth=5\u001b[0m\n",
      "\u001b[34m[63]#011train-error:0.129267#011validation-error:0.1632\u001b[0m\n",
      "\u001b[34m[13:22:24] src/tree/updater_prune.cc:74: tree pruning end, 1 roots, 16 extra nodes, 10 pruned nodes, max_depth=5\u001b[0m\n",
      "\u001b[34m[64]#011train-error:0.128333#011validation-error:0.1635\u001b[0m\n",
      "\u001b[34m[13:22:26] src/tree/updater_prune.cc:74: tree pruning end, 1 roots, 12 extra nodes, 6 pruned nodes, max_depth=5\u001b[0m\n",
      "\u001b[34m[65]#011train-error:0.128133#011validation-error:0.1632\u001b[0m\n",
      "\u001b[34m[13:22:27] src/tree/updater_prune.cc:74: tree pruning end, 1 roots, 14 extra nodes, 10 pruned nodes, max_depth=5\u001b[0m\n",
      "\u001b[34m[66]#011train-error:0.127467#011validation-error:0.1627\u001b[0m\n",
      "\u001b[34m[13:22:28] src/tree/updater_prune.cc:74: tree pruning end, 1 roots, 18 extra nodes, 12 pruned nodes, max_depth=5\u001b[0m\n",
      "\u001b[34m[67]#011train-error:0.1264#011validation-error:0.1619\u001b[0m\n",
      "\u001b[34m[13:22:29] src/tree/updater_prune.cc:74: tree pruning end, 1 roots, 16 extra nodes, 4 pruned nodes, max_depth=5\u001b[0m\n",
      "\u001b[34m[68]#011train-error:0.126133#011validation-error:0.1608\u001b[0m\n",
      "\u001b[34m[13:22:31] src/tree/updater_prune.cc:74: tree pruning end, 1 roots, 30 extra nodes, 4 pruned nodes, max_depth=5\u001b[0m\n",
      "\u001b[34m[69]#011train-error:0.1244#011validation-error:0.1599\u001b[0m\n",
      "\u001b[34m[13:22:32] src/tree/updater_prune.cc:74: tree pruning end, 1 roots, 22 extra nodes, 2 pruned nodes, max_depth=5\u001b[0m\n",
      "\u001b[34m[70]#011train-error:0.123067#011validation-error:0.1595\u001b[0m\n",
      "\u001b[34m[13:22:33] src/tree/updater_prune.cc:74: tree pruning end, 1 roots, 12 extra nodes, 4 pruned nodes, max_depth=5\u001b[0m\n",
      "\u001b[34m[71]#011train-error:0.122467#011validation-error:0.1598\u001b[0m\n",
      "\u001b[34m[13:22:34] src/tree/updater_prune.cc:74: tree pruning end, 1 roots, 10 extra nodes, 8 pruned nodes, max_depth=5\u001b[0m\n",
      "\u001b[34m[72]#011train-error:0.1222#011validation-error:0.1582\u001b[0m\n",
      "\u001b[34m[13:22:36] src/tree/updater_prune.cc:74: tree pruning end, 1 roots, 28 extra nodes, 18 pruned nodes, max_depth=5\u001b[0m\n",
      "\u001b[34m[73]#011train-error:0.122067#011validation-error:0.1574\u001b[0m\n",
      "\u001b[34m[13:22:37] src/tree/updater_prune.cc:74: tree pruning end, 1 roots, 26 extra nodes, 4 pruned nodes, max_depth=5\u001b[0m\n",
      "\u001b[34m[74]#011train-error:0.1212#011validation-error:0.1579\u001b[0m\n",
      "\u001b[34m[13:22:38] src/tree/updater_prune.cc:74: tree pruning end, 1 roots, 22 extra nodes, 16 pruned nodes, max_depth=5\u001b[0m\n",
      "\u001b[34m[75]#011train-error:0.121133#011validation-error:0.1568\u001b[0m\n",
      "\u001b[34m[13:22:39] src/tree/updater_prune.cc:74: tree pruning end, 1 roots, 10 extra nodes, 4 pruned nodes, max_depth=5\u001b[0m\n",
      "\u001b[34m[76]#011train-error:0.1206#011validation-error:0.1556\u001b[0m\n",
      "\u001b[34m[13:22:41] src/tree/updater_prune.cc:74: tree pruning end, 1 roots, 20 extra nodes, 6 pruned nodes, max_depth=5\u001b[0m\n",
      "\u001b[34m[77]#011train-error:0.1198#011validation-error:0.1538\u001b[0m\n",
      "\u001b[34m[13:22:42] src/tree/updater_prune.cc:74: tree pruning end, 1 roots, 14 extra nodes, 10 pruned nodes, max_depth=5\u001b[0m\n",
      "\u001b[34m[78]#011train-error:0.120133#011validation-error:0.1545\u001b[0m\n",
      "\u001b[34m[13:22:43] src/tree/updater_prune.cc:74: tree pruning end, 1 roots, 28 extra nodes, 6 pruned nodes, max_depth=5\u001b[0m\n",
      "\u001b[34m[79]#011train-error:0.118733#011validation-error:0.1541\u001b[0m\n",
      "\u001b[34m[13:22:44] src/tree/updater_prune.cc:74: tree pruning end, 1 roots, 22 extra nodes, 6 pruned nodes, max_depth=5\u001b[0m\n",
      "\u001b[34m[80]#011train-error:0.1176#011validation-error:0.154\u001b[0m\n",
      "\u001b[34m[13:22:46] src/tree/updater_prune.cc:74: tree pruning end, 1 roots, 12 extra nodes, 12 pruned nodes, max_depth=5\u001b[0m\n",
      "\u001b[34m[81]#011train-error:0.118133#011validation-error:0.1543\u001b[0m\n",
      "\u001b[34m[13:22:47] src/tree/updater_prune.cc:74: tree pruning end, 1 roots, 10 extra nodes, 8 pruned nodes, max_depth=5\u001b[0m\n",
      "\u001b[34m[82]#011train-error:0.117867#011validation-error:0.1539\u001b[0m\n",
      "\u001b[34m[13:22:48] src/tree/updater_prune.cc:74: tree pruning end, 1 roots, 12 extra nodes, 6 pruned nodes, max_depth=5\u001b[0m\n",
      "\u001b[34m[83]#011train-error:0.1182#011validation-error:0.1547\u001b[0m\n",
      "\u001b[34m[13:22:50] src/tree/updater_prune.cc:74: tree pruning end, 1 roots, 12 extra nodes, 14 pruned nodes, max_depth=5\u001b[0m\n",
      "\u001b[34m[84]#011train-error:0.118#011validation-error:0.1534\u001b[0m\n",
      "\u001b[34m[13:22:51] src/tree/updater_prune.cc:74: tree pruning end, 1 roots, 26 extra nodes, 18 pruned nodes, max_depth=5\u001b[0m\n",
      "\u001b[34m[85]#011train-error:0.1154#011validation-error:0.1528\u001b[0m\n",
      "\u001b[34m[13:22:52] src/tree/updater_prune.cc:74: tree pruning end, 1 roots, 20 extra nodes, 10 pruned nodes, max_depth=5\u001b[0m\n",
      "\u001b[34m[86]#011train-error:0.1144#011validation-error:0.1528\u001b[0m\n",
      "\u001b[34m[13:22:53] src/tree/updater_prune.cc:74: tree pruning end, 1 roots, 16 extra nodes, 8 pruned nodes, max_depth=5\u001b[0m\n",
      "\u001b[34m[87]#011train-error:0.1142#011validation-error:0.1538\u001b[0m\n",
      "\u001b[34m[13:22:55] src/tree/updater_prune.cc:74: tree pruning end, 1 roots, 12 extra nodes, 6 pruned nodes, max_depth=5\u001b[0m\n",
      "\u001b[34m[88]#011train-error:0.114133#011validation-error:0.1533\u001b[0m\n",
      "\u001b[34m[13:22:56] src/tree/updater_prune.cc:74: tree pruning end, 1 roots, 16 extra nodes, 4 pruned nodes, max_depth=5\u001b[0m\n",
      "\u001b[34m[89]#011train-error:0.113533#011validation-error:0.1536\u001b[0m\n",
      "\u001b[34m[13:22:57] src/tree/updater_prune.cc:74: tree pruning end, 1 roots, 18 extra nodes, 8 pruned nodes, max_depth=5\u001b[0m\n",
      "\u001b[34m[90]#011train-error:0.1132#011validation-error:0.1535\u001b[0m\n",
      "\u001b[34m[13:22:58] src/tree/updater_prune.cc:74: tree pruning end, 1 roots, 18 extra nodes, 16 pruned nodes, max_depth=5\u001b[0m\n",
      "\u001b[34m[91]#011train-error:0.112133#011validation-error:0.1537\u001b[0m\n",
      "\u001b[34m[13:23:00] src/tree/updater_prune.cc:74: tree pruning end, 1 roots, 26 extra nodes, 8 pruned nodes, max_depth=5\u001b[0m\n",
      "\u001b[34m[92]#011train-error:0.112067#011validation-error:0.1531\u001b[0m\n",
      "\u001b[34m[13:23:01] src/tree/updater_prune.cc:74: tree pruning end, 1 roots, 12 extra nodes, 6 pruned nodes, max_depth=5\u001b[0m\n",
      "\u001b[34m[93]#011train-error:0.111867#011validation-error:0.1528\u001b[0m\n",
      "\u001b[34m[13:23:02] src/tree/updater_prune.cc:74: tree pruning end, 1 roots, 16 extra nodes, 12 pruned nodes, max_depth=5\u001b[0m\n",
      "\u001b[34m[94]#011train-error:0.110533#011validation-error:0.153\u001b[0m\n",
      "\u001b[34m[13:23:03] src/tree/updater_prune.cc:74: tree pruning end, 1 roots, 36 extra nodes, 10 pruned nodes, max_depth=5\u001b[0m\n",
      "\u001b[34m[95]#011train-error:0.109067#011validation-error:0.1525\u001b[0m\n",
      "\u001b[34m[13:23:05] src/tree/updater_prune.cc:74: tree pruning end, 1 roots, 22 extra nodes, 8 pruned nodes, max_depth=5\u001b[0m\n",
      "\u001b[34m[96]#011train-error:0.109067#011validation-error:0.1516\u001b[0m\n",
      "\u001b[34m[13:23:06] src/tree/updater_prune.cc:74: tree pruning end, 1 roots, 14 extra nodes, 10 pruned nodes, max_depth=5\u001b[0m\n",
      "\u001b[34m[97]#011train-error:0.1084#011validation-error:0.1513\u001b[0m\n",
      "\u001b[34m[13:23:07] src/tree/updater_prune.cc:74: tree pruning end, 1 roots, 22 extra nodes, 6 pruned nodes, max_depth=5\u001b[0m\n",
      "\u001b[34m[98]#011train-error:0.1076#011validation-error:0.1507\u001b[0m\n",
      "\u001b[34m[13:23:09] src/tree/updater_prune.cc:74: tree pruning end, 1 roots, 22 extra nodes, 12 pruned nodes, max_depth=5\u001b[0m\n",
      "\u001b[34m[99]#011train-error:0.107467#011validation-error:0.1507\u001b[0m\n",
      "\u001b[34m[13:23:10] src/tree/updater_prune.cc:74: tree pruning end, 1 roots, 30 extra nodes, 8 pruned nodes, max_depth=5\u001b[0m\n",
      "\u001b[34m[100]#011train-error:0.107533#011validation-error:0.1506\u001b[0m\n",
      "\u001b[34m[13:23:11] src/tree/updater_prune.cc:74: tree pruning end, 1 roots, 12 extra nodes, 12 pruned nodes, max_depth=5\u001b[0m\n",
      "\u001b[34m[101]#011train-error:0.107733#011validation-error:0.15\u001b[0m\n",
      "\u001b[34m[13:23:12] src/tree/updater_prune.cc:74: tree pruning end, 1 roots, 24 extra nodes, 10 pruned nodes, max_depth=5\u001b[0m\n",
      "\u001b[34m[102]#011train-error:0.107333#011validation-error:0.1487\u001b[0m\n",
      "\u001b[34m[13:23:14] src/tree/updater_prune.cc:74: tree pruning end, 1 roots, 20 extra nodes, 10 pruned nodes, max_depth=5\u001b[0m\n",
      "\u001b[34m[103]#011train-error:0.106667#011validation-error:0.1491\u001b[0m\n",
      "\u001b[34m[13:23:15] src/tree/updater_prune.cc:74: tree pruning end, 1 roots, 22 extra nodes, 20 pruned nodes, max_depth=5\u001b[0m\n",
      "\u001b[34m[104]#011train-error:0.106133#011validation-error:0.149\u001b[0m\n",
      "\u001b[34m[13:23:16] src/tree/updater_prune.cc:74: tree pruning end, 1 roots, 28 extra nodes, 6 pruned nodes, max_depth=5\u001b[0m\n",
      "\u001b[34m[105]#011train-error:0.104933#011validation-error:0.1484\u001b[0m\n",
      "\u001b[34m[13:23:17] src/tree/updater_prune.cc:74: tree pruning end, 1 roots, 16 extra nodes, 14 pruned nodes, max_depth=5\u001b[0m\n",
      "\u001b[34m[106]#011train-error:0.1046#011validation-error:0.1474\u001b[0m\n",
      "\u001b[34m[13:23:19] src/tree/updater_prune.cc:74: tree pruning end, 1 roots, 14 extra nodes, 6 pruned nodes, max_depth=5\u001b[0m\n",
      "\u001b[34m[107]#011train-error:0.103533#011validation-error:0.1462\u001b[0m\n",
      "\u001b[34m[13:23:20] src/tree/updater_prune.cc:74: tree pruning end, 1 roots, 20 extra nodes, 8 pruned nodes, max_depth=5\u001b[0m\n",
      "\u001b[34m[108]#011train-error:0.103667#011validation-error:0.1468\u001b[0m\n",
      "\u001b[34m[13:23:21] src/tree/updater_prune.cc:74: tree pruning end, 1 roots, 18 extra nodes, 4 pruned nodes, max_depth=5\u001b[0m\n",
      "\u001b[34m[109]#011train-error:0.1034#011validation-error:0.1466\u001b[0m\n",
      "\u001b[34m[13:23:22] src/tree/updater_prune.cc:74: tree pruning end, 1 roots, 16 extra nodes, 6 pruned nodes, max_depth=5\u001b[0m\n",
      "\u001b[34m[110]#011train-error:0.101933#011validation-error:0.146\u001b[0m\n",
      "\u001b[34m[13:23:24] src/tree/updater_prune.cc:74: tree pruning end, 1 roots, 24 extra nodes, 4 pruned nodes, max_depth=5\u001b[0m\n",
      "\u001b[34m[111]#011train-error:0.101#011validation-error:0.1463\u001b[0m\n",
      "\u001b[34m[13:23:25] src/tree/updater_prune.cc:74: tree pruning end, 1 roots, 12 extra nodes, 10 pruned nodes, max_depth=5\u001b[0m\n",
      "\u001b[34m[112]#011train-error:0.1004#011validation-error:0.1468\u001b[0m\n",
      "\u001b[34m[13:23:26] src/tree/updater_prune.cc:74: tree pruning end, 1 roots, 20 extra nodes, 4 pruned nodes, max_depth=5\u001b[0m\n",
      "\u001b[34m[113]#011train-error:0.100267#011validation-error:0.1463\u001b[0m\n",
      "\u001b[34m[13:23:28] src/tree/updater_prune.cc:74: tree pruning end, 1 roots, 18 extra nodes, 4 pruned nodes, max_depth=5\u001b[0m\n",
      "\u001b[34m[114]#011train-error:0.099333#011validation-error:0.1458\u001b[0m\n",
      "\u001b[34m[13:23:29] src/tree/updater_prune.cc:74: tree pruning end, 1 roots, 12 extra nodes, 14 pruned nodes, max_depth=5\u001b[0m\n",
      "\u001b[34m[115]#011train-error:0.099933#011validation-error:0.1454\u001b[0m\n",
      "\u001b[34m[13:23:30] src/tree/updater_prune.cc:74: tree pruning end, 1 roots, 18 extra nodes, 0 pruned nodes, max_depth=5\u001b[0m\n",
      "\u001b[34m[116]#011train-error:0.0998#011validation-error:0.1445\u001b[0m\n",
      "\u001b[34m[13:23:31] src/tree/updater_prune.cc:74: tree pruning end, 1 roots, 10 extra nodes, 6 pruned nodes, max_depth=5\u001b[0m\n",
      "\u001b[34m[117]#011train-error:0.099333#011validation-error:0.1436\u001b[0m\n",
      "\u001b[34m[13:23:33] src/tree/updater_prune.cc:74: tree pruning end, 1 roots, 12 extra nodes, 0 pruned nodes, max_depth=5\u001b[0m\n",
      "\u001b[34m[118]#011train-error:0.0994#011validation-error:0.1435\u001b[0m\n",
      "\u001b[34m[13:23:34] src/tree/updater_prune.cc:74: tree pruning end, 1 roots, 12 extra nodes, 4 pruned nodes, max_depth=5\u001b[0m\n",
      "\u001b[34m[119]#011train-error:0.0988#011validation-error:0.1428\u001b[0m\n",
      "\u001b[34m[13:23:35] src/tree/updater_prune.cc:74: tree pruning end, 1 roots, 34 extra nodes, 10 pruned nodes, max_depth=5\u001b[0m\n",
      "\u001b[34m[120]#011train-error:0.097533#011validation-error:0.1425\u001b[0m\n",
      "\u001b[34m[13:23:36] src/tree/updater_prune.cc:74: tree pruning end, 1 roots, 14 extra nodes, 2 pruned nodes, max_depth=5\u001b[0m\n",
      "\u001b[34m[121]#011train-error:0.096867#011validation-error:0.1422\u001b[0m\n",
      "\u001b[34m[13:23:38] src/tree/updater_prune.cc:74: tree pruning end, 1 roots, 10 extra nodes, 6 pruned nodes, max_depth=5\u001b[0m\n",
      "\u001b[34m[122]#011train-error:0.096733#011validation-error:0.1422\u001b[0m\n",
      "\u001b[34m[13:23:39] src/tree/updater_prune.cc:74: tree pruning end, 1 roots, 12 extra nodes, 10 pruned nodes, max_depth=5\u001b[0m\n",
      "\u001b[34m[123]#011train-error:0.096733#011validation-error:0.1417\u001b[0m\n",
      "\u001b[34m[13:23:40] src/tree/updater_prune.cc:74: tree pruning end, 1 roots, 14 extra nodes, 16 pruned nodes, max_depth=5\u001b[0m\n",
      "\u001b[34m[124]#011train-error:0.0966#011validation-error:0.1408\u001b[0m\n",
      "\u001b[34m[13:23:42] src/tree/updater_prune.cc:74: tree pruning end, 1 roots, 14 extra nodes, 4 pruned nodes, max_depth=5\u001b[0m\n",
      "\u001b[34m[125]#011train-error:0.096267#011validation-error:0.1402\u001b[0m\n",
      "\u001b[34m[13:23:43] src/tree/updater_prune.cc:74: tree pruning end, 1 roots, 14 extra nodes, 12 pruned nodes, max_depth=5\u001b[0m\n",
      "\u001b[34m[126]#011train-error:0.0964#011validation-error:0.1409\u001b[0m\n",
      "\u001b[34m[13:23:44] src/tree/updater_prune.cc:74: tree pruning end, 1 roots, 10 extra nodes, 4 pruned nodes, max_depth=5\u001b[0m\n",
      "\u001b[34m[127]#011train-error:0.096333#011validation-error:0.141\u001b[0m\n",
      "\u001b[34m[13:23:45] src/tree/updater_prune.cc:74: tree pruning end, 1 roots, 20 extra nodes, 8 pruned nodes, max_depth=5\u001b[0m\n",
      "\u001b[34m[128]#011train-error:0.096133#011validation-error:0.1409\u001b[0m\n",
      "\u001b[34m[13:23:47] src/tree/updater_prune.cc:74: tree pruning end, 1 roots, 24 extra nodes, 4 pruned nodes, max_depth=5\u001b[0m\n",
      "\u001b[34m[129]#011train-error:0.094933#011validation-error:0.1405\u001b[0m\n",
      "\u001b[34m[13:23:48] src/tree/updater_prune.cc:74: tree pruning end, 1 roots, 22 extra nodes, 6 pruned nodes, max_depth=5\u001b[0m\n",
      "\u001b[34m[130]#011train-error:0.0946#011validation-error:0.1401\u001b[0m\n",
      "\u001b[34m[13:23:49] src/tree/updater_prune.cc:74: tree pruning end, 1 roots, 24 extra nodes, 8 pruned nodes, max_depth=5\u001b[0m\n",
      "\u001b[34m[131]#011train-error:0.094467#011validation-error:0.1404\u001b[0m\n",
      "\u001b[34m[13:23:50] src/tree/updater_prune.cc:74: tree pruning end, 1 roots, 10 extra nodes, 16 pruned nodes, max_depth=5\u001b[0m\n",
      "\u001b[34m[132]#011train-error:0.094067#011validation-error:0.1401\u001b[0m\n",
      "\u001b[34m[13:23:52] src/tree/updater_prune.cc:74: tree pruning end, 1 roots, 38 extra nodes, 2 pruned nodes, max_depth=5\u001b[0m\n",
      "\u001b[34m[133]#011train-error:0.092467#011validation-error:0.1401\u001b[0m\n",
      "\u001b[34m[13:23:53] src/tree/updater_prune.cc:74: tree pruning end, 1 roots, 18 extra nodes, 6 pruned nodes, max_depth=5\u001b[0m\n",
      "\u001b[34m[134]#011train-error:0.092333#011validation-error:0.1398\u001b[0m\n",
      "\u001b[34m[13:23:54] src/tree/updater_prune.cc:74: tree pruning end, 1 roots, 14 extra nodes, 14 pruned nodes, max_depth=5\u001b[0m\n",
      "\u001b[34m[135]#011train-error:0.092467#011validation-error:0.1399\u001b[0m\n",
      "\u001b[34m[13:23:56] src/tree/updater_prune.cc:74: tree pruning end, 1 roots, 38 extra nodes, 10 pruned nodes, max_depth=5\u001b[0m\n",
      "\u001b[34m[136]#011train-error:0.092067#011validation-error:0.1387\u001b[0m\n",
      "\u001b[34m[13:23:57] src/tree/updater_prune.cc:74: tree pruning end, 1 roots, 24 extra nodes, 0 pruned nodes, max_depth=5\u001b[0m\n",
      "\u001b[34m[137]#011train-error:0.091533#011validation-error:0.139\u001b[0m\n",
      "\u001b[34m[13:23:58] src/tree/updater_prune.cc:74: tree pruning end, 1 roots, 20 extra nodes, 4 pruned nodes, max_depth=5\u001b[0m\n",
      "\u001b[34m[138]#011train-error:0.090667#011validation-error:0.1393\u001b[0m\n",
      "\u001b[34m[13:23:59] src/tree/updater_prune.cc:74: tree pruning end, 1 roots, 12 extra nodes, 14 pruned nodes, max_depth=5\u001b[0m\n",
      "\u001b[34m[139]#011train-error:0.091267#011validation-error:0.1388\u001b[0m\n",
      "\u001b[34m[13:24:01] src/tree/updater_prune.cc:74: tree pruning end, 1 roots, 10 extra nodes, 2 pruned nodes, max_depth=5\u001b[0m\n",
      "\u001b[34m[140]#011train-error:0.090667#011validation-error:0.1386\u001b[0m\n",
      "\u001b[34m[13:24:02] src/tree/updater_prune.cc:74: tree pruning end, 1 roots, 12 extra nodes, 16 pruned nodes, max_depth=5\u001b[0m\n",
      "\u001b[34m[141]#011train-error:0.090267#011validation-error:0.1389\u001b[0m\n",
      "\u001b[34m[13:24:03] src/tree/updater_prune.cc:74: tree pruning end, 1 roots, 22 extra nodes, 2 pruned nodes, max_depth=5\u001b[0m\n",
      "\u001b[34m[142]#011train-error:0.089533#011validation-error:0.1393\u001b[0m\n",
      "\u001b[34m[13:24:04] src/tree/updater_prune.cc:74: tree pruning end, 1 roots, 14 extra nodes, 12 pruned nodes, max_depth=5\u001b[0m\n",
      "\u001b[34m[143]#011train-error:0.0896#011validation-error:0.1393\u001b[0m\n",
      "\u001b[34m[13:24:06] src/tree/updater_prune.cc:74: tree pruning end, 1 roots, 14 extra nodes, 6 pruned nodes, max_depth=5\u001b[0m\n",
      "\u001b[34m[144]#011train-error:0.088667#011validation-error:0.1392\u001b[0m\n",
      "\u001b[34m[13:24:07] src/tree/updater_prune.cc:74: tree pruning end, 1 roots, 14 extra nodes, 6 pruned nodes, max_depth=5\u001b[0m\n",
      "\u001b[34m[145]#011train-error:0.088533#011validation-error:0.1393\u001b[0m\n",
      "\u001b[34m[13:24:08] src/tree/updater_prune.cc:74: tree pruning end, 1 roots, 12 extra nodes, 4 pruned nodes, max_depth=5\u001b[0m\n",
      "\u001b[34m[146]#011train-error:0.088533#011validation-error:0.1397\u001b[0m\n",
      "\u001b[34m[13:24:10] src/tree/updater_prune.cc:74: tree pruning end, 1 roots, 10 extra nodes, 2 pruned nodes, max_depth=5\u001b[0m\n",
      "\u001b[34m[147]#011train-error:0.0882#011validation-error:0.1399\u001b[0m\n",
      "\u001b[34m[13:24:11] src/tree/updater_prune.cc:74: tree pruning end, 1 roots, 18 extra nodes, 8 pruned nodes, max_depth=5\u001b[0m\n",
      "\u001b[34m[148]#011train-error:0.087867#011validation-error:0.1404\u001b[0m\n",
      "\u001b[34m[13:24:12] src/tree/updater_prune.cc:74: tree pruning end, 1 roots, 12 extra nodes, 6 pruned nodes, max_depth=5\u001b[0m\n",
      "\u001b[34m[149]#011train-error:0.087667#011validation-error:0.1398\u001b[0m\n",
      "\u001b[34m[13:24:13] src/tree/updater_prune.cc:74: tree pruning end, 1 roots, 18 extra nodes, 10 pruned nodes, max_depth=5\u001b[0m\n",
      "\u001b[34m[150]#011train-error:0.087733#011validation-error:0.1392\u001b[0m\n",
      "\u001b[34mStopping. Best iteration:\u001b[0m\n",
      "\u001b[34m[140]#011train-error:0.090667#011validation-error:0.1386\n",
      "\u001b[0m\n",
      "\n",
      "2020-08-03 13:24:26 Uploading - Uploading generated training model\n",
      "2020-08-03 13:24:26 Completed - Training job completed\n",
      "Training seconds: 255\n",
      "Billable seconds: 255\n"
     ]
    }
   ],
   "source": [
    "xgb.fit({'train': s3_input_train, 'validation': s3_input_validation})"
   ]
  },
  {
   "cell_type": "markdown",
   "metadata": {},
   "source": [
    "## Step 5: Testing the model\n",
    "\n",
    "Now that we've fit our XGBoost model, it's time to see how well it performs. To do this we will use SageMakers Batch Transform functionality. Batch Transform is a convenient way to perform inference on a large dataset in a way that is not realtime. That is, we don't necessarily need to use our model's results immediately and instead we can perform inference on a large number of samples. An example of this in industry might be performing an end of month report. This method of inference can also be useful to us as it means that we can perform inference on our entire test set. \n",
    "\n",
    "To perform a Batch Transformation we need to first create a transformer objects from our trained estimator object."
   ]
  },
  {
   "cell_type": "code",
   "execution_count": 25,
   "metadata": {},
   "outputs": [
    {
     "name": "stderr",
     "output_type": "stream",
     "text": [
      "Parameter image will be renamed to image_uri in SageMaker Python SDK v2.\n"
     ]
    }
   ],
   "source": [
    "xgb_transformer = xgb.transformer(instance_count = 1, instance_type = 'ml.m4.xlarge')"
   ]
  },
  {
   "cell_type": "markdown",
   "metadata": {},
   "source": [
    "Next we actually perform the transform job. When doing so we need to make sure to specify the type of data we are sending so that it is serialized correctly in the background. In our case we are providing our model with csv data so we specify `text/csv`. Also, if the test data that we have provided is too large to process all at once then we need to specify how the data file should be split up. Since each line is a single entry in our data set we tell SageMaker that it can split the input on each line."
   ]
  },
  {
   "cell_type": "code",
   "execution_count": 26,
   "metadata": {},
   "outputs": [],
   "source": [
    "xgb_transformer.transform(test_location, content_type='text/csv', split_type='Line')"
   ]
  },
  {
   "cell_type": "markdown",
   "metadata": {},
   "source": [
    "Currently the transform job is running but it is doing so in the background. Since we wish to wait until the transform job is done and we would like a bit of feedback we can run the `wait()` method."
   ]
  },
  {
   "cell_type": "code",
   "execution_count": 27,
   "metadata": {},
   "outputs": [
    {
     "name": "stdout",
     "output_type": "stream",
     "text": [
      ".....................\u001b[34mArguments: serve\u001b[0m\n",
      "\u001b[34m[2020-08-03 13:28:10 +0000] [1] [INFO] Starting gunicorn 19.7.1\u001b[0m\n",
      "\u001b[34m[2020-08-03 13:28:10 +0000] [1] [INFO] Listening at: http://0.0.0.0:8080 (1)\u001b[0m\n",
      "\u001b[34m[2020-08-03 13:28:10 +0000] [1] [INFO] Using worker: gevent\u001b[0m\n",
      "\u001b[34m[2020-08-03 13:28:10 +0000] [38] [INFO] Booting worker with pid: 38\u001b[0m\n",
      "\u001b[34m[2020-08-03 13:28:10 +0000] [39] [INFO] Booting worker with pid: 39\u001b[0m\n",
      "\u001b[34m[2020-08-03 13:28:10 +0000] [40] [INFO] Booting worker with pid: 40\u001b[0m\n",
      "\u001b[34m[2020-08-03:13:28:10:INFO] Model loaded successfully for worker : 38\u001b[0m\n",
      "\u001b[34m[2020-08-03:13:28:10:INFO] Model loaded successfully for worker : 39\u001b[0m\n",
      "\u001b[34m[2020-08-03 13:28:10 +0000] [41] [INFO] Booting worker with pid: 41\u001b[0m\n",
      "\u001b[34m[2020-08-03:13:28:10:INFO] Model loaded successfully for worker : 40\u001b[0m\n",
      "\u001b[34m[2020-08-03:13:28:10:INFO] Model loaded successfully for worker : 41\u001b[0m\n",
      "\u001b[34m[2020-08-03:13:28:44:INFO] Sniff delimiter as ','\u001b[0m\n",
      "\u001b[34m[2020-08-03:13:28:44:INFO] Determined delimiter of CSV input is ','\u001b[0m\n",
      "\u001b[34m[2020-08-03:13:28:44:INFO] Sniff delimiter as ','\u001b[0m\n",
      "\u001b[35m[2020-08-03:13:28:44:INFO] Sniff delimiter as ','\u001b[0m\n",
      "\u001b[35m[2020-08-03:13:28:44:INFO] Determined delimiter of CSV input is ','\u001b[0m\n",
      "\u001b[35m[2020-08-03:13:28:44:INFO] Sniff delimiter as ','\u001b[0m\n",
      "\u001b[34m[2020-08-03:13:28:44:INFO] Determined delimiter of CSV input is ','\u001b[0m\n",
      "\u001b[34m[2020-08-03:13:28:44:INFO] Sniff delimiter as ','\u001b[0m\n",
      "\u001b[34m[2020-08-03:13:28:44:INFO] Determined delimiter of CSV input is ','\u001b[0m\n",
      "\u001b[34m[2020-08-03:13:28:44:INFO] Sniff delimiter as ','\u001b[0m\n",
      "\u001b[34m[2020-08-03:13:28:44:INFO] Determined delimiter of CSV input is ','\u001b[0m\n",
      "\u001b[35m[2020-08-03:13:28:44:INFO] Determined delimiter of CSV input is ','\u001b[0m\n",
      "\u001b[35m[2020-08-03:13:28:44:INFO] Sniff delimiter as ','\u001b[0m\n",
      "\u001b[35m[2020-08-03:13:28:44:INFO] Determined delimiter of CSV input is ','\u001b[0m\n",
      "\u001b[35m[2020-08-03:13:28:44:INFO] Sniff delimiter as ','\u001b[0m\n",
      "\u001b[35m[2020-08-03:13:28:44:INFO] Determined delimiter of CSV input is ','\u001b[0m\n",
      "\u001b[32m2020-08-03T13:28:41.282:[sagemaker logs]: MaxConcurrentTransforms=4, MaxPayloadInMB=6, BatchStrategy=MULTI_RECORD\u001b[0m\n",
      "\u001b[34m[2020-08-03:13:28:47:INFO] Sniff delimiter as ','\u001b[0m\n",
      "\u001b[34m[2020-08-03:13:28:47:INFO] Determined delimiter of CSV input is ','\u001b[0m\n",
      "\u001b[34m[2020-08-03:13:28:47:INFO] Sniff delimiter as ','\u001b[0m\n",
      "\u001b[34m[2020-08-03:13:28:47:INFO] Determined delimiter of CSV input is ','\u001b[0m\n",
      "\u001b[34m[2020-08-03:13:28:47:INFO] Sniff delimiter as ','\u001b[0m\n",
      "\u001b[34m[2020-08-03:13:28:47:INFO] Determined delimiter of CSV input is ','\u001b[0m\n",
      "\u001b[34m[2020-08-03:13:28:47:INFO] Sniff delimiter as ','\u001b[0m\n",
      "\u001b[34m[2020-08-03:13:28:47:INFO] Determined delimiter of CSV input is ','\u001b[0m\n",
      "\u001b[35m[2020-08-03:13:28:47:INFO] Sniff delimiter as ','\u001b[0m\n",
      "\u001b[35m[2020-08-03:13:28:47:INFO] Determined delimiter of CSV input is ','\u001b[0m\n",
      "\u001b[35m[2020-08-03:13:28:47:INFO] Sniff delimiter as ','\u001b[0m\n",
      "\u001b[35m[2020-08-03:13:28:47:INFO] Determined delimiter of CSV input is ','\u001b[0m\n",
      "\u001b[35m[2020-08-03:13:28:47:INFO] Sniff delimiter as ','\u001b[0m\n",
      "\u001b[35m[2020-08-03:13:28:47:INFO] Determined delimiter of CSV input is ','\u001b[0m\n",
      "\u001b[35m[2020-08-03:13:28:47:INFO] Sniff delimiter as ','\u001b[0m\n",
      "\u001b[35m[2020-08-03:13:28:47:INFO] Determined delimiter of CSV input is ','\u001b[0m\n",
      "\u001b[34m[2020-08-03:13:28:51:INFO] Sniff delimiter as ','\u001b[0m\n",
      "\u001b[34m[2020-08-03:13:28:51:INFO] Determined delimiter of CSV input is ','\u001b[0m\n",
      "\u001b[35m[2020-08-03:13:28:51:INFO] Sniff delimiter as ','\u001b[0m\n",
      "\u001b[35m[2020-08-03:13:28:51:INFO] Determined delimiter of CSV input is ','\u001b[0m\n",
      "\u001b[34m[2020-08-03:13:28:52:INFO] Sniff delimiter as ','\u001b[0m\n",
      "\u001b[34m[2020-08-03:13:28:52:INFO] Determined delimiter of CSV input is ','\u001b[0m\n",
      "\u001b[34m[2020-08-03:13:28:52:INFO] Sniff delimiter as ','\u001b[0m\n",
      "\u001b[34m[2020-08-03:13:28:52:INFO] Determined delimiter of CSV input is ','\u001b[0m\n",
      "\u001b[35m[2020-08-03:13:28:52:INFO] Sniff delimiter as ','\u001b[0m\n",
      "\u001b[35m[2020-08-03:13:28:52:INFO] Determined delimiter of CSV input is ','\u001b[0m\n",
      "\u001b[35m[2020-08-03:13:28:52:INFO] Sniff delimiter as ','\u001b[0m\n",
      "\u001b[35m[2020-08-03:13:28:52:INFO] Determined delimiter of CSV input is ','\u001b[0m\n",
      "\u001b[34m[2020-08-03:13:28:52:INFO] Sniff delimiter as ','\u001b[0m\n",
      "\u001b[34m[2020-08-03:13:28:52:INFO] Determined delimiter of CSV input is ','\u001b[0m\n",
      "\u001b[35m[2020-08-03:13:28:52:INFO] Sniff delimiter as ','\u001b[0m\n",
      "\u001b[35m[2020-08-03:13:28:52:INFO] Determined delimiter of CSV input is ','\u001b[0m\n",
      "\u001b[34m[2020-08-03:13:28:54:INFO] Sniff delimiter as ','\u001b[0m\n",
      "\u001b[34m[2020-08-03:13:28:54:INFO] Determined delimiter of CSV input is ','\u001b[0m\n",
      "\u001b[35m[2020-08-03:13:28:54:INFO] Sniff delimiter as ','\u001b[0m\n",
      "\u001b[35m[2020-08-03:13:28:54:INFO] Determined delimiter of CSV input is ','\u001b[0m\n",
      "\u001b[34m[2020-08-03:13:28:54:INFO] Sniff delimiter as ','\u001b[0m\n",
      "\u001b[34m[2020-08-03:13:28:54:INFO] Determined delimiter of CSV input is ','\u001b[0m\n",
      "\u001b[34m[2020-08-03:13:28:54:INFO] Sniff delimiter as ','\u001b[0m\n",
      "\u001b[34m[2020-08-03:13:28:54:INFO] Determined delimiter of CSV input is ','\u001b[0m\n",
      "\u001b[34m[2020-08-03:13:28:54:INFO] Sniff delimiter as ','\u001b[0m\n",
      "\u001b[34m[2020-08-03:13:28:54:INFO] Determined delimiter of CSV input is ','\u001b[0m\n",
      "\u001b[35m[2020-08-03:13:28:54:INFO] Sniff delimiter as ','\u001b[0m\n",
      "\u001b[35m[2020-08-03:13:28:54:INFO] Determined delimiter of CSV input is ','\u001b[0m\n",
      "\u001b[35m[2020-08-03:13:28:54:INFO] Sniff delimiter as ','\u001b[0m\n",
      "\u001b[35m[2020-08-03:13:28:54:INFO] Determined delimiter of CSV input is ','\u001b[0m\n",
      "\u001b[35m[2020-08-03:13:28:54:INFO] Sniff delimiter as ','\u001b[0m\n",
      "\u001b[35m[2020-08-03:13:28:54:INFO] Determined delimiter of CSV input is ','\u001b[0m\n",
      "\u001b[34m[2020-08-03:13:28:56:INFO] Sniff delimiter as ','\u001b[0m\n",
      "\u001b[35m[2020-08-03:13:28:56:INFO] Sniff delimiter as ','\u001b[0m\n",
      "\u001b[34m[2020-08-03:13:28:56:INFO] Determined delimiter of CSV input is ','\u001b[0m\n",
      "\u001b[34m[2020-08-03:13:28:57:INFO] Sniff delimiter as ','\u001b[0m\n",
      "\u001b[34m[2020-08-03:13:28:57:INFO] Determined delimiter of CSV input is ','\u001b[0m\n",
      "\u001b[35m[2020-08-03:13:28:56:INFO] Determined delimiter of CSV input is ','\u001b[0m\n",
      "\u001b[35m[2020-08-03:13:28:57:INFO] Sniff delimiter as ','\u001b[0m\n",
      "\u001b[35m[2020-08-03:13:28:57:INFO] Determined delimiter of CSV input is ','\u001b[0m\n",
      "\u001b[34m[2020-08-03:13:28:57:INFO] Sniff delimiter as ','\u001b[0m\n",
      "\u001b[34m[2020-08-03:13:28:57:INFO] Determined delimiter of CSV input is ','\u001b[0m\n",
      "\u001b[34m[2020-08-03:13:28:57:INFO] Sniff delimiter as ','\u001b[0m\n",
      "\u001b[34m[2020-08-03:13:28:57:INFO] Determined delimiter of CSV input is ','\u001b[0m\n",
      "\u001b[35m[2020-08-03:13:28:57:INFO] Sniff delimiter as ','\u001b[0m\n",
      "\u001b[35m[2020-08-03:13:28:57:INFO] Determined delimiter of CSV input is ','\u001b[0m\n",
      "\u001b[35m[2020-08-03:13:28:57:INFO] Sniff delimiter as ','\u001b[0m\n",
      "\u001b[35m[2020-08-03:13:28:57:INFO] Determined delimiter of CSV input is ','\u001b[0m\n",
      "\u001b[34m[2020-08-03:13:28:59:INFO] Sniff delimiter as ','\u001b[0m\n",
      "\u001b[34m[2020-08-03:13:28:59:INFO] Determined delimiter of CSV input is ','\u001b[0m\n",
      "\u001b[34m[2020-08-03:13:28:59:INFO] Sniff delimiter as ','\u001b[0m\n",
      "\u001b[34m[2020-08-03:13:28:59:INFO] Determined delimiter of CSV input is ','\u001b[0m\n",
      "\u001b[35m[2020-08-03:13:28:59:INFO] Sniff delimiter as ','\u001b[0m\n",
      "\u001b[35m[2020-08-03:13:28:59:INFO] Determined delimiter of CSV input is ','\u001b[0m\n",
      "\u001b[35m[2020-08-03:13:28:59:INFO] Sniff delimiter as ','\u001b[0m\n",
      "\u001b[35m[2020-08-03:13:28:59:INFO] Determined delimiter of CSV input is ','\u001b[0m\n",
      "\u001b[34m[2020-08-03:13:29:01:INFO] Sniff delimiter as ','\u001b[0m\n",
      "\u001b[34m[2020-08-03:13:29:01:INFO] Determined delimiter of CSV input is ','\u001b[0m\n",
      "\u001b[34m[2020-08-03:13:29:01:INFO] Sniff delimiter as ','\u001b[0m\n",
      "\u001b[34m[2020-08-03:13:29:01:INFO] Determined delimiter of CSV input is ','\u001b[0m\n",
      "\u001b[34m[2020-08-03:13:29:01:INFO] Sniff delimiter as ','\u001b[0m\n",
      "\u001b[34m[2020-08-03:13:29:01:INFO] Determined delimiter of CSV input is ','\u001b[0m\n",
      "\u001b[35m[2020-08-03:13:29:01:INFO] Sniff delimiter as ','\u001b[0m\n",
      "\u001b[35m[2020-08-03:13:29:01:INFO] Determined delimiter of CSV input is ','\u001b[0m\n",
      "\u001b[35m[2020-08-03:13:29:01:INFO] Sniff delimiter as ','\u001b[0m\n",
      "\u001b[35m[2020-08-03:13:29:01:INFO] Determined delimiter of CSV input is ','\u001b[0m\n",
      "\u001b[35m[2020-08-03:13:29:01:INFO] Sniff delimiter as ','\u001b[0m\n",
      "\u001b[35m[2020-08-03:13:29:01:INFO] Determined delimiter of CSV input is ','\u001b[0m\n",
      "\u001b[34m[2020-08-03:13:29:02:INFO] Sniff delimiter as ','\u001b[0m\n",
      "\u001b[34m[2020-08-03:13:29:02:INFO] Determined delimiter of CSV input is ','\u001b[0m\n",
      "\u001b[35m[2020-08-03:13:29:02:INFO] Sniff delimiter as ','\u001b[0m\n",
      "\u001b[35m[2020-08-03:13:29:02:INFO] Determined delimiter of CSV input is ','\u001b[0m\n",
      "\u001b[34m[2020-08-03:13:29:04:INFO] Sniff delimiter as ','\u001b[0m\n",
      "\u001b[34m[2020-08-03:13:29:04:INFO] Determined delimiter of CSV input is ','\u001b[0m\n",
      "\u001b[34m[2020-08-03:13:29:04:INFO] Sniff delimiter as ','\u001b[0m\n",
      "\u001b[34m[2020-08-03:13:29:04:INFO] Determined delimiter of CSV input is ','\u001b[0m\n",
      "\u001b[34m[2020-08-03:13:29:04:INFO] Sniff delimiter as ','\u001b[0m\n",
      "\u001b[34m[2020-08-03:13:29:04:INFO] Determined delimiter of CSV input is ','\u001b[0m\n",
      "\u001b[34m[2020-08-03:13:29:04:INFO] Sniff delimiter as ','\u001b[0m\n",
      "\u001b[35m[2020-08-03:13:29:04:INFO] Sniff delimiter as ','\u001b[0m\n",
      "\u001b[35m[2020-08-03:13:29:04:INFO] Determined delimiter of CSV input is ','\u001b[0m\n",
      "\u001b[35m[2020-08-03:13:29:04:INFO] Sniff delimiter as ','\u001b[0m\n",
      "\u001b[35m[2020-08-03:13:29:04:INFO] Determined delimiter of CSV input is ','\u001b[0m\n",
      "\u001b[35m[2020-08-03:13:29:04:INFO] Sniff delimiter as ','\u001b[0m\n",
      "\u001b[35m[2020-08-03:13:29:04:INFO] Determined delimiter of CSV input is ','\u001b[0m\n",
      "\u001b[35m[2020-08-03:13:29:04:INFO] Sniff delimiter as ','\u001b[0m\n",
      "\u001b[34m[2020-08-03:13:29:04:INFO] Determined delimiter of CSV input is ','\u001b[0m\n",
      "\u001b[35m[2020-08-03:13:29:04:INFO] Determined delimiter of CSV input is ','\u001b[0m\n",
      "\u001b[34m[2020-08-03:13:29:06:INFO] Sniff delimiter as ','\u001b[0m\n",
      "\u001b[34m[2020-08-03:13:29:06:INFO] Determined delimiter of CSV input is ','\u001b[0m\n",
      "\u001b[34m[2020-08-03:13:29:06:INFO] Sniff delimiter as ','\u001b[0m\n",
      "\u001b[34m[2020-08-03:13:29:06:INFO] Determined delimiter of CSV input is ','\u001b[0m\n",
      "\u001b[34m[2020-08-03:13:29:06:INFO] Sniff delimiter as ','\u001b[0m\n",
      "\u001b[34m[2020-08-03:13:29:06:INFO] Determined delimiter of CSV input is ','\u001b[0m\n",
      "\u001b[35m[2020-08-03:13:29:06:INFO] Sniff delimiter as ','\u001b[0m\n",
      "\u001b[35m[2020-08-03:13:29:06:INFO] Determined delimiter of CSV input is ','\u001b[0m\n",
      "\u001b[35m[2020-08-03:13:29:06:INFO] Sniff delimiter as ','\u001b[0m\n",
      "\u001b[35m[2020-08-03:13:29:06:INFO] Determined delimiter of CSV input is ','\u001b[0m\n",
      "\u001b[35m[2020-08-03:13:29:06:INFO] Sniff delimiter as ','\u001b[0m\n",
      "\u001b[35m[2020-08-03:13:29:06:INFO] Determined delimiter of CSV input is ','\u001b[0m\n",
      "\u001b[34m[2020-08-03:13:29:06:INFO] Sniff delimiter as ','\u001b[0m\n",
      "\u001b[34m[2020-08-03:13:29:06:INFO] Determined delimiter of CSV input is ','\u001b[0m\n",
      "\u001b[35m[2020-08-03:13:29:06:INFO] Sniff delimiter as ','\u001b[0m\n",
      "\u001b[35m[2020-08-03:13:29:06:INFO] Determined delimiter of CSV input is ','\u001b[0m\n",
      "\n"
     ]
    }
   ],
   "source": [
    "xgb_transformer.wait()"
   ]
  },
  {
   "cell_type": "markdown",
   "metadata": {},
   "source": [
    "Now the transform job has executed and the result, the estimated sentiment of each review, has been saved on S3. Since we would rather work on this file locally we can perform a bit of notebook magic to copy the file to the `data_dir`."
   ]
  },
  {
   "cell_type": "code",
   "execution_count": 28,
   "metadata": {},
   "outputs": [
    {
     "name": "stdout",
     "output_type": "stream",
     "text": [
      "download: s3://sagemaker-eu-west-2-519526115051/xgboost-2020-08-03-13-24-53-013/test.csv.out to ../data/sentiment_web_app/test.csv.out\r\n"
     ]
    }
   ],
   "source": [
    "!aws s3 cp --recursive $xgb_transformer.output_path $data_dir"
   ]
  },
  {
   "cell_type": "markdown",
   "metadata": {},
   "source": [
    "The last step is now to read in the output from our model, convert the output to something a little more usable, in this case we want the sentiment to be either `1` (positive) or `0` (negative), and then compare to the ground truth labels."
   ]
  },
  {
   "cell_type": "code",
   "execution_count": 29,
   "metadata": {},
   "outputs": [],
   "source": [
    "predictions = pd.read_csv(os.path.join(data_dir, 'test.csv.out'), header=None)\n",
    "predictions = [round(num) for num in predictions.squeeze().values]"
   ]
  },
  {
   "cell_type": "code",
   "execution_count": 30,
   "metadata": {},
   "outputs": [
    {
     "data": {
      "text/plain": [
       "0.85704"
      ]
     },
     "execution_count": 30,
     "metadata": {},
     "output_type": "execute_result"
    }
   ],
   "source": [
    "from sklearn.metrics import accuracy_score\n",
    "accuracy_score(test_y, predictions)"
   ]
  },
  {
   "cell_type": "markdown",
   "metadata": {},
   "source": [
    "## Step 6: Deploying the model\n",
    "\n",
    "Once we construct and fit our model, SageMaker stores the resulting model artifacts and we can use those to deploy an endpoint (inference code). To see this, look in the SageMaker console and you should see that a model has been created along with a link to the S3 location where the model artifacts have been stored.\n",
    "\n",
    "Deploying an endpoint is a lot like training the model with a few important differences. The first is that a deployed model doesn't change the model artifacts, so as you send it various testing instances the model won't change. Another difference is that since we aren't performing a fixed computation, as we were in the training step or while performing a batch transform, the compute instance that gets started stays running until we tell it to stop. This is important to note as if we forget and leave it running we will be charged the entire time.\n",
    "\n",
    "In other words **If you are no longer using a deployed endpoint, shut it down!**"
   ]
  },
  {
   "cell_type": "code",
   "execution_count": 31,
   "metadata": {},
   "outputs": [
    {
     "name": "stderr",
     "output_type": "stream",
     "text": [
      "Parameter image will be renamed to image_uri in SageMaker Python SDK v2.\n",
      "Using already existing model: xgboost-2020-08-03-13-18-08-666\n"
     ]
    },
    {
     "name": "stdout",
     "output_type": "stream",
     "text": [
      "-------------!"
     ]
    }
   ],
   "source": [
    "xgb_predictor = xgb.deploy(initial_instance_count = 1, instance_type = 'ml.m4.xlarge')"
   ]
  },
  {
   "cell_type": "markdown",
   "metadata": {},
   "source": [
    "### Testing the model (again)\n",
    "\n",
    "Now that we have deployed our endpoint, we can send the testing data to it and get back the inference results. We already did this earlier using the batch transform functionality of SageMaker, however, we will test our model again using the newly deployed endpoint so that we can make sure that it works properly and to get a bit of a feel for how the endpoint works.\n",
    "\n",
    "When using the created endpoint it is important to know that we are limited in the amount of information we can send in each call so we need to break the testing data up into chunks and then send each chunk. Also, we need to serialize our data before we send it to the endpoint to ensure that our data is transmitted properly. Fortunately, SageMaker can do the serialization part for us provided we tell it the format of our data."
   ]
  },
  {
   "cell_type": "code",
   "execution_count": 32,
   "metadata": {},
   "outputs": [],
   "source": [
    "from sagemaker.predictor import csv_serializer\n",
    "\n",
    "# We need to tell the endpoint what format the data we are sending is in so that SageMaker can perform the serialization.\n",
    "xgb_predictor.content_type = 'text/csv'\n",
    "xgb_predictor.serializer = csv_serializer"
   ]
  },
  {
   "cell_type": "code",
   "execution_count": 33,
   "metadata": {},
   "outputs": [],
   "source": [
    "# We split the data into chunks and send each chunk seperately, accumulating the results.\n",
    "\n",
    "def predict(data, rows=512):\n",
    "    split_array = np.array_split(data, int(data.shape[0] / float(rows) + 1))\n",
    "    predictions = ''\n",
    "    for array in split_array:\n",
    "        predictions = ','.join([predictions, xgb_predictor.predict(array).decode('utf-8')])\n",
    "    \n",
    "    return np.fromstring(predictions[1:], sep=',')"
   ]
  },
  {
   "cell_type": "code",
   "execution_count": 34,
   "metadata": {},
   "outputs": [],
   "source": [
    "test_X = pd.read_csv(os.path.join(data_dir, 'test.csv'), header=None).values\n",
    "\n",
    "predictions = predict(test_X)\n",
    "predictions = [round(num) for num in predictions]"
   ]
  },
  {
   "cell_type": "markdown",
   "metadata": {},
   "source": [
    "Lastly, we check to see what the accuracy of our model is."
   ]
  },
  {
   "cell_type": "code",
   "execution_count": 35,
   "metadata": {},
   "outputs": [
    {
     "data": {
      "text/plain": [
       "0.85704"
      ]
     },
     "execution_count": 35,
     "metadata": {},
     "output_type": "execute_result"
    }
   ],
   "source": [
    "from sklearn.metrics import accuracy_score\n",
    "accuracy_score(test_y, predictions)"
   ]
  },
  {
   "cell_type": "markdown",
   "metadata": {},
   "source": [
    "And the results here should agree with the model testing that we did earlier using the batch transform job.\n",
    "\n",
    "### Cleaning up\n",
    "\n",
    "Now that we've determined that deploying our model works as expected, we are going to shut it down. Remember that the longer the endpoint is left running, the greater the cost and since we have a bit more work to do before we are able to use our endpoint with our simple web app, we should shut everything down."
   ]
  },
  {
   "cell_type": "code",
   "execution_count": 36,
   "metadata": {},
   "outputs": [],
   "source": [
    "xgb_predictor.delete_endpoint()"
   ]
  },
  {
   "cell_type": "markdown",
   "metadata": {},
   "source": [
    "## Step 7: Putting our model to work\n",
    "\n",
    "As we've mentioned a few times now, our goal is to have our model deployed and then access it using a very simple web app. The intent is for this web app to take some user submitted data (a review), send it off to our endpoint (the model) and then display the result.\n",
    "\n",
    "However, there is a small catch. Currently the only way we can access the endpoint to send it data is using the SageMaker API. We can, if we wish, expose the actual URL that our model's endpoint is receiving data from, however, if we just send it data ourselves we will not get anything in return. This is because the endpoint created by SageMaker requires the entity accessing it have the correct permissions. So, we would need to somehow authenticate our web app with AWS.\n",
    "\n",
    "Having a website that authenticates to AWS seems a bit beyond the scope of this lesson so we will opt for an alternative approach. Namely, we will create a new endpoint which does not require authentication and which acts as a proxy for the SageMaker endpoint.\n",
    "\n",
    "As an additional constraint, we will try to avoid doing any data processing in the web app itself. Remember that when we constructed and tested our model we started with a movie review, then we simplified it by removing any html formatting and punctuation, then we constructed a bag of words embedding and the resulting vector is what we sent to our model. All of this needs to be done to our user input as well.\n",
    "\n",
    "Fortunately we can do all of this data processing in the backend, using Amazon's Lambda service.\n",
    "\n",
    "<img src=\"Web App Diagram.svg\">\n",
    "\n",
    "The diagram above gives an overview of how the various services will work together. On the far right is the model which we trained above and which will be deployed using SageMaker. On the far left is our web app that collects a user's movie review, sends it off and expects a positive or negative sentiment in return.\n",
    "\n",
    "In the middle is where some of the magic happens. We will construct a Lambda function, which you can think of as a straightforward Python function that can be executed whenever a specified event occurs. This Python function will do the data processing we need to perform on a user submitted review. In addition, we will give this function permission to send and recieve data from a SageMaker endpoint.\n",
    "\n",
    "Lastly, the method we will use to execute the Lambda function is a new endpoint that we will create using API Gateway. This endpoint will be a url that listens for data to be sent to it. Once it gets some data it will pass that data on to the Lambda function and then return whatever the Lambda function returns. Essentially it will act as an interface that lets our web app communicate with the Lambda function.\n",
    "\n",
    "### Processing a single review\n",
    "\n",
    "For now, suppose we are given a movie review by our user in the form of a string, like so:"
   ]
  },
  {
   "cell_type": "code",
   "execution_count": 37,
   "metadata": {},
   "outputs": [],
   "source": [
    "test_review = \"Nothing but a disgusting materialistic pageant of glistening abed remote control greed zombies, totally devoid of any heart or heat. A romantic comedy that has zero romantic chemestry and zero laughs!\""
   ]
  },
  {
   "cell_type": "markdown",
   "metadata": {},
   "source": [
    "How do we go from this string to the bag of words feature vector that is expected by our model?\n",
    "\n",
    "If we recall at the beginning of this notebook, the first step is to remove any unnecessary characters using the `review_to_words` method. Remember that we intentionally did this in a very simplistic way. This is because we are going to have to copy this method to our (eventual) Lambda function (we will go into more detail later) and this means it needs to be rather simplistic."
   ]
  },
  {
   "cell_type": "code",
   "execution_count": 38,
   "metadata": {},
   "outputs": [
    {
     "name": "stdout",
     "output_type": "stream",
     "text": [
      "nothing but a disgusting materialistic pageant of glistening abed remote control greed zombies totally devoid of any heart or heat a romantic comedy that has zero romantic chemestry and zero laughs\n"
     ]
    }
   ],
   "source": [
    "test_words = review_to_words(test_review)\n",
    "print(test_words)"
   ]
  },
  {
   "cell_type": "markdown",
   "metadata": {},
   "source": [
    "Next, we need to construct a bag of words embedding of the `test_words` string. To do this, remember that a bag of words embedding uses a `vocabulary` consisting of the most frequently appearing words in a set of documents. Then, for each word in the vocabulary we record the number of times that word appears in `test_words`. We constructed the `vocabulary` earlier using the training set for our problem so encoding `test_words` is relatively straightforward."
   ]
  },
  {
   "cell_type": "code",
   "execution_count": 39,
   "metadata": {},
   "outputs": [],
   "source": [
    "def bow_encoding(words, vocabulary):\n",
    "    bow = [0] * len(vocabulary) # Start by setting the count for each word in the vocabulary to zero.\n",
    "    for word in words.split():  # For each word in the string\n",
    "        if word in vocabulary:  # If the word is one that occurs in the vocabulary, increase its count.\n",
    "            bow[vocabulary[word]] += 1\n",
    "    return bow"
   ]
  },
  {
   "cell_type": "code",
   "execution_count": 40,
   "metadata": {},
   "outputs": [
    {
     "name": "stdout",
     "output_type": "stream",
     "text": [
      "[0, 0, 0, 0, 0, 0, 0, 0, 0, 0, 0, 0, 0, 0, 0, 0, 0, 0, 0, 0, 0, 0, 0, 0, 0, 0, 0, 0, 0, 0, 0, 0, 0, 0, 0, 0, 0, 0, 0, 0, 0, 0, 0, 0, 0, 0, 0, 0, 0, 0, 0, 0, 0, 0, 0, 0, 0, 0, 0, 0, 0, 0, 0, 0, 0, 0, 0, 0, 0, 0, 0, 0, 0, 0, 0, 0, 0, 0, 0, 0, 0, 0, 0, 0, 0, 0, 0, 0, 0, 0, 0, 0, 0, 0, 0, 0, 0, 0, 0, 0, 0, 0, 0, 0, 0, 0, 0, 0, 0, 0, 0, 0, 0, 0, 0, 0, 0, 0, 0, 0, 0, 0, 0, 0, 0, 0, 0, 0, 0, 0, 0, 0, 0, 0, 0, 0, 0, 0, 0, 0, 0, 0, 0, 0, 0, 0, 0, 0, 0, 0, 0, 0, 0, 0, 0, 0, 0, 0, 0, 0, 0, 0, 0, 0, 0, 0, 0, 0, 0, 0, 0, 0, 0, 0, 0, 0, 0, 0, 0, 0, 0, 0, 0, 0, 0, 0, 0, 0, 0, 0, 0, 0, 0, 0, 0, 0, 0, 0, 0, 0, 0, 0, 0, 0, 0, 0, 0, 0, 0, 0, 0, 0, 0, 0, 0, 0, 0, 0, 0, 0, 0, 0, 0, 0, 0, 0, 1, 0, 0, 0, 0, 0, 0, 0, 0, 0, 0, 0, 0, 0, 0, 0, 0, 0, 0, 0, 0, 0, 0, 0, 0, 0, 0, 0, 0, 0, 1, 0, 0, 0, 0, 0, 0, 0, 0, 0, 0, 0, 0, 0, 0, 0, 0, 0, 0, 0, 0, 0, 0, 0, 0, 0, 0, 0, 0, 0, 0, 0, 0, 0, 0, 0, 0, 0, 0, 0, 0, 0, 0, 0, 0, 0, 0, 0, 0, 0, 0, 0, 0, 0, 0, 0, 0, 0, 0, 0, 0, 0, 0, 0, 0, 0, 0, 0, 0, 0, 0, 0, 0, 0, 0, 0, 0, 0, 0, 0, 0, 0, 0, 0, 0, 0, 0, 0, 0, 0, 0, 0, 0, 0, 0, 0, 0, 0, 0, 0, 0, 0, 0, 0, 0, 0, 0, 0, 0, 0, 0, 0, 0, 0, 0, 0, 0, 0, 0, 0, 0, 0, 0, 0, 0, 0, 0, 0, 0, 0, 0, 0, 0, 0, 0, 0, 0, 0, 0, 0, 0, 0, 0, 0, 0, 0, 0, 0, 0, 0, 0, 0, 0, 0, 0, 0, 0, 0, 0, 0, 0, 0, 0, 0, 0, 0, 0, 0, 0, 0, 0, 0, 0, 0, 0, 0, 0, 0, 0, 0, 0, 0, 0, 0, 0, 0, 0, 0, 0, 0, 0, 0, 0, 0, 0, 0, 0, 0, 0, 0, 0, 0, 0, 0, 0, 0, 0, 0, 0, 0, 0, 0, 0, 0, 0, 0, 0, 0, 0, 0, 0, 0, 0, 0, 0, 0, 0, 0, 0, 0, 0, 0, 0, 0, 0, 0, 0, 0, 0, 0, 0, 0, 0, 0, 0, 0, 0, 0, 0, 0, 0, 0, 0, 0, 0, 0, 0, 0, 0, 0, 0, 0, 0, 0, 0, 0, 0, 0, 0, 0, 0, 0, 0, 0, 0, 0, 0, 0, 0, 0, 0, 0, 0, 0, 0, 0, 0, 0, 0, 0, 0, 0, 0, 0, 0, 0, 0, 0, 0, 0, 0, 0, 0, 0, 0, 0, 0, 0, 0, 0, 0, 0, 0, 0, 0, 0, 0, 0, 0, 0, 0, 0, 0, 0, 0, 0, 0, 0, 0, 0, 0, 0, 0, 0, 0, 0, 0, 0, 0, 0, 0, 0, 0, 0, 0, 0, 0, 0, 0, 0, 0, 0, 0, 0, 0, 0, 0, 0, 0, 0, 0, 0, 0, 0, 0, 0, 0, 0, 0, 0, 0, 0, 0, 0, 0, 0, 0, 0, 0, 0, 1, 0, 0, 0, 0, 0, 0, 0, 0, 0, 0, 0, 0, 0, 0, 0, 0, 0, 0, 0, 0, 0, 0, 0, 0, 0, 0, 0, 0, 0, 0, 0, 0, 0, 0, 0, 0, 0, 0, 0, 0, 0, 0, 0, 0, 0, 0, 0, 0, 0, 0, 0, 0, 0, 0, 0, 0, 0, 0, 0, 0, 0, 0, 0, 0, 0, 0, 0, 0, 0, 0, 0, 0, 0, 0, 0, 0, 0, 0, 0, 0, 0, 0, 0, 0, 0, 0, 0, 0, 0, 0, 0, 0, 0, 0, 0, 0, 0, 0, 0, 0, 0, 0, 0, 0, 0, 0, 0, 0, 0, 0, 0, 0, 0, 0, 0, 0, 0, 0, 0, 0, 0, 0, 0, 0, 0, 0, 0, 0, 0, 0, 0, 0, 0, 0, 0, 0, 0, 0, 0, 0, 0, 0, 0, 0, 0, 0, 0, 0, 0, 0, 0, 0, 0, 0, 0, 0, 0, 0, 0, 0, 0, 0, 0, 0, 0, 0, 0, 0, 0, 0, 0, 0, 0, 0, 0, 0, 0, 0, 0, 0, 0, 0, 0, 0, 0, 0, 0, 0, 0, 0, 0, 0, 0, 0, 0, 0, 0, 0, 0, 0, 0, 0, 0, 0, 0, 0, 0, 0, 0, 0, 0, 0, 0, 0, 0, 0, 0, 0, 0, 0, 0, 0, 0, 0, 0, 0, 0, 0, 0, 0, 0, 0, 0, 0, 0, 0, 0, 0, 0, 0, 0, 0, 0, 0, 0, 0, 0, 0, 0, 0, 0, 0, 0, 1, 0, 0, 0, 0, 0, 0, 0, 0, 0, 0, 0, 0, 0, 0, 0, 0, 0, 0, 0, 0, 0, 0, 0, 0, 0, 0, 0, 0, 0, 0, 0, 0, 0, 0, 0, 0, 0, 0, 0, 0, 0, 0, 0, 0, 0, 0, 0, 0, 0, 0, 0, 0, 0, 0, 0, 0, 0, 0, 0, 0, 0, 0, 0, 0, 0, 0, 0, 0, 0, 0, 0, 0, 0, 0, 0, 0, 0, 0, 0, 0, 0, 0, 0, 0, 0, 0, 1, 0, 0, 0, 0, 0, 0, 0, 0, 0, 0, 0, 0, 0, 0, 0, 0, 0, 0, 0, 0, 0, 0, 0, 0, 0, 0, 0, 0, 0, 0, 0, 0, 0, 0, 0, 0, 0, 0, 0, 0, 0, 0, 0, 0, 0, 0, 0, 0, 0, 0, 0, 0, 0, 0, 0, 0, 0, 0, 0, 0, 0, 0, 0, 0, 0, 0, 0, 0, 0, 0, 0, 0, 0, 0, 0, 0, 0, 0, 0, 0, 0, 0, 0, 0, 0, 0, 0, 0, 0, 0, 0, 0, 0, 0, 0, 0, 0, 0, 0, 0, 0, 0, 0, 0, 0, 0, 0, 0, 0, 0, 0, 0, 0, 0, 0, 0, 0, 0, 0, 0, 0, 0, 0, 0, 0, 0, 0, 0, 0, 0, 0, 0, 0, 0, 0, 0, 0, 0, 0, 0, 0, 0, 0, 0, 0, 0, 0, 0, 0, 0, 0, 0, 0, 0, 0, 0, 0, 0, 0, 0, 0, 0, 0, 0, 0, 0, 0, 0, 0, 0, 0, 0, 0, 0, 0, 0, 0, 0, 0, 0, 0, 0, 0, 0, 0, 0, 0, 0, 0, 0, 0, 0, 0, 0, 0, 0, 0, 0, 0, 0, 0, 0, 0, 0, 0, 0, 0, 0, 0, 0, 0, 0, 0, 0, 0, 0, 0, 0, 0, 0, 0, 0, 0, 0, 0, 0, 0, 0, 0, 0, 0, 0, 0, 0, 0, 0, 0, 0, 0, 0, 0, 0, 0, 0, 0, 0, 0, 0, 0, 0, 0, 0, 1, 0, 0, 0, 0, 0, 0, 0, 0, 0, 0, 0, 0, 0, 0, 0, 0, 0, 0, 0, 0, 0, 0, 0, 0, 0, 0, 0, 0, 0, 0, 0, 0, 0, 0, 0, 0, 0, 0, 0, 0, 0, 0, 0, 0, 0, 0, 0, 0, 0, 0, 0, 0, 0, 0, 0, 1, 0, 0, 0, 0, 0, 0, 0, 0, 0, 0, 0, 0, 0, 0, 0, 0, 0, 0, 0, 0, 0, 0, 0, 0, 0, 0, 0, 0, 0, 0, 0, 0, 0, 0, 0, 0, 0, 0, 0, 0, 0, 0, 0, 0, 0, 0, 0, 0, 0, 0, 0, 0, 0, 0, 0, 0, 0, 0, 0, 0, 0, 0, 0, 0, 0, 0, 0, 0, 0, 0, 0, 0, 0, 0, 0, 0, 0, 0, 0, 0, 0, 0, 0, 0, 0, 0, 0, 0, 0, 0, 0, 0, 0, 0, 0, 0, 0, 0, 0, 0, 0, 0, 0, 0, 0, 0, 0, 0, 0, 0, 0, 0, 0, 0, 0, 0, 0, 0, 0, 0, 0, 0, 0, 0, 0, 0, 0, 0, 0, 0, 0, 0, 0, 0, 0, 0, 0, 0, 0, 0, 0, 0, 0, 0, 0, 0, 0, 0, 0, 0, 0, 0, 0, 0, 0, 0, 0, 0, 0, 0, 0, 0, 0, 0, 0, 0, 0, 0, 0, 0, 0, 0, 0, 0, 0, 0, 0, 0, 0, 0, 0, 0, 0, 0, 0, 0, 0, 0, 0, 0, 0, 0, 0, 0, 0, 0, 0, 0, 0, 0, 0, 0, 0, 0, 0, 0, 0, 0, 0, 0, 0, 0, 0, 0, 0, 0, 0, 0, 0, 0, 0, 0, 0, 0, 0, 0, 0, 0, 0, 0, 0, 0, 0, 0, 0, 0, 0, 0, 0, 0, 0, 0, 0, 0, 0, 0, 0, 0, 0, 0, 0, 0, 0, 0, 0, 0, 0, 0, 0, 0, 0, 0, 0, 0, 0, 0, 0, 0, 0, 0, 0, 0, 0, 0, 0, 0, 0, 0, 0, 0, 0, 0, 0, 0, 0, 0, 0, 0, 0, 0, 0, 0, 0, 0, 0, 0, 0, 0, 0, 0, 0, 0, 0, 0, 0, 0, 0, 0, 0, 0, 0, 0, 0, 0, 0, 0, 0, 0, 0, 0, 0, 0, 0, 0, 0, 0, 0, 0, 0, 0, 0, 0, 0, 0, 0, 0, 0, 0, 0, 0, 0, 0, 0, 0, 0, 0, 0, 0, 0, 0, 0, 0, 0, 0, 0, 0, 0, 0, 0, 0, 0, 0, 0, 0, 0, 0, 0, 0, 0, 0, 0, 0, 0, 0, 0, 0, 0, 0, 0, 0, 0, 0, 0, 0, 0, 0, 0, 0, 0, 0, 0, 0, 0, 0, 0, 0, 0, 0, 0, 0, 0, 0, 0, 0, 0, 0, 0, 0, 0, 0, 0, 0, 0, 0, 0, 0, 0, 0, 0, 0, 0, 0, 0, 0, 0, 0, 0, 0, 0, 0, 0, 0, 0, 0, 0, 0, 0, 0, 0, 0, 0, 0, 0, 0, 0, 0, 0, 0, 0, 0, 0, 0, 0, 0, 0, 0, 0, 0, 0, 0, 0, 0, 0, 0, 0, 0, 0, 0, 0, 0, 0, 0, 0, 0, 0, 0, 0, 0, 0, 0, 0, 0, 0, 0, 0, 0, 0, 0, 0, 0, 0, 0, 0, 0, 0, 0, 0, 0, 0, 0, 0, 0, 0, 0, 0, 0, 0, 0, 0, 0, 0, 0, 0, 0, 0, 0, 0, 0, 0, 0, 0, 0, 0, 0, 0, 0, 0, 0, 0, 0, 0, 0, 0, 0, 0, 0, 0, 0, 0, 0, 0, 0, 0, 0, 0, 0, 0, 0, 0, 0, 0, 0, 0, 0, 0, 0, 0, 0, 0, 0, 0, 0, 0, 0, 0, 0, 0, 0, 0, 0, 0, 0, 0, 0, 0, 0, 0, 0, 0, 0, 0, 0, 0, 0, 0, 0, 0, 0, 0, 0, 0, 0, 0, 0, 0, 0, 0, 0, 0, 0, 0, 0, 0, 0, 0, 0, 0, 0, 0, 0, 0, 0, 0, 0, 0, 0, 0, 0, 0, 0, 0, 0, 0, 0, 0, 0, 0, 0, 0, 0, 0, 0, 0, 0, 0, 0, 0, 0, 0, 0, 0, 0, 0, 0, 0, 0, 0, 0, 0, 0, 0, 0, 0, 0, 0, 0, 0, 0, 0, 0, 0, 0, 0, 0, 0, 0, 0, 0, 0, 0, 0, 0, 0, 0, 0, 0, 0, 0, 0, 0, 0, 1, 0, 0, 0, 0, 0, 0, 0, 0, 0, 0, 0, 0, 0, 0, 0, 0, 0, 0, 0, 0, 0, 0, 0, 0, 0, 0, 0, 0, 0, 0, 0, 0, 0, 0, 0, 0, 0, 0, 0, 0, 0, 0, 0, 0, 0, 0, 0, 0, 0, 0, 0, 0, 0, 0, 0, 0, 0, 0, 0, 0, 0, 0, 0, 0, 0, 0, 0, 0, 0, 0, 0, 0, 0, 0, 1, 0, 0, 0, 0, 0, 0, 0, 0, 0, 0, 0, 0, 0, 0, 0, 0, 0, 0, 0, 0, 1, 0, 0, 1, 0, 0, 0, 0, 0, 0, 0, 0, 0, 0, 0, 0, 0, 0, 0, 0, 0, 0, 0, 0, 0, 0, 0, 0, 0, 0, 0, 0, 0, 0, 0, 0, 0, 0, 0, 0, 0, 0, 0, 0, 0, 0, 0, 0, 0, 0, 0, 0, 0, 0, 0, 0, 0, 0, 0, 0, 0, 0, 0, 0, 0, 0, 0, 0, 0, 0, 0, 0, 0, 0, 0, 0, 0, 0, 0, 0, 0, 0, 0, 0, 0, 0, 0, 0, 0, 0, 0, 0, 0, 0, 0, 0, 0, 0, 0, 0, 0, 0, 0, 0, 0, 0, 0, 0, 0, 0, 0, 0, 0, 0, 0, 0, 0, 0, 0, 0, 0, 0, 0, 0, 0, 0, 0, 0, 0, 0, 0, 0, 0, 0, 0, 0, 0, 0, 0, 0, 0, 0, 0, 0, 0, 0, 0, 0, 0, 0, 0, 0, 0, 0, 0, 0, 0, 0, 0, 0, 0, 0, 0, 0, 0, 0, 0, 0, 0, 0, 0, 0, 0, 0, 0, 0, 0, 0, 0, 0, 0, 0, 0, 0, 0, 0, 0, 0, 0, 0, 0, 0, 0, 0, 0, 0, 0, 0, 0, 0, 0, 0, 0, 0, 0, 0, 0, 0, 0, 0, 0, 0, 0, 0, 0, 0, 0, 0, 0, 0, 0, 0, 0, 0, 0, 0, 0, 0, 0, 0, 0, 0, 0, 0, 0, 0, 0, 0, 0, 0, 0, 0, 0, 0, 0, 0, 0, 0, 0, 0, 0, 0, 0, 0, 0, 0, 0, 0, 0, 0, 0, 0, 0, 0, 0, 0, 0, 0, 0, 0, 0, 0, 0, 0, 0, 0, 0, 0, 0, 0, 0, 0, 0, 0, 0, 0, 0, 0, 0, 0, 0, 0, 0, 0, 0, 0, 0, 0, 0, 0, 0, 0, 0, 0, 0, 0, 0, 0, 0, 0, 0, 0, 0, 0, 0, 0, 0, 0, 0, 0, 0, 0, 0, 0, 0, 0, 0, 0, 0, 0, 0, 0, 0, 0, 0, 0, 0, 0, 0, 0, 0, 0, 0, 0, 0, 0, 0, 0, 0, 0, 0, 0, 0, 0, 0, 0, 0, 0, 0, 0, 0, 0, 0, 0, 0, 0, 0, 0, 0, 0, 0, 0, 0, 0, 0, 0, 0, 0, 0, 0, 0, 0, 0, 0, 0, 0, 0, 0, 0, 0, 0, 0, 0, 0, 0, 0, 0, 0, 0, 0, 0, 0, 0, 0, 0, 0, 0, 0, 0, 0, 0, 0, 0, 0, 0, 0, 0, 0, 0, 0, 0, 0, 0, 0, 0, 0, 0, 0, 0, 0, 0, 0, 0, 0, 0, 0, 0, 0, 0, 0, 0, 0, 0, 0, 0, 0, 0, 0, 0, 0, 0, 0, 0, 0, 0, 0, 0, 0, 0, 0, 0, 0, 0, 0, 0, 0, 0, 0, 0, 0, 1, 0, 0, 0, 0, 0, 0, 0, 0, 0, 0, 0, 0, 0, 0, 0, 0, 0, 0, 0, 0, 0, 0, 0, 0, 0, 0, 0, 0, 0, 0, 0, 0, 0, 0, 0, 0, 0, 0, 0, 0, 0, 0, 0, 0, 0, 0, 0, 0, 0, 0, 0, 0, 0, 0, 0, 0, 0, 0, 0, 0, 0, 0, 0, 0, 0, 0, 0, 0, 0, 0, 0, 0, 0, 0, 0, 0, 0, 0, 0, 0, 0, 0, 0, 0, 0, 0, 0, 0, 0, 0, 0, 0, 0, 0, 0, 0, 0, 0, 0, 0, 0, 0, 0, 0, 0, 0, 0, 0, 0, 0, 0, 0, 0, 0, 0, 0, 0, 0, 0, 0, 0, 0, 0, 0, 0, 0, 0, 0, 0, 0, 0, 0, 0, 0, 0, 0, 0, 0, 0, 0, 0, 0, 0, 0, 0, 0, 0, 0, 0, 0, 0, 0, 0, 0, 0, 0, 0, 0, 0, 0, 0, 0, 0, 0, 0, 0, 0, 0, 0, 0, 0, 0, 0, 0, 0, 0, 0, 0, 0, 0, 0, 0, 0, 0, 0, 0, 0, 0, 0, 0, 0, 0, 0, 0, 0, 0, 0, 0, 0, 0, 0, 0, 0, 0, 0, 0, 0, 0, 0, 0, 0, 0, 0, 0, 0, 0, 0, 0, 0, 0, 0, 0, 0, 0, 0, 0, 0, 0, 0, 0, 0, 0, 0, 0, 0, 0, 0, 0, 0, 0, 0, 0, 0, 0, 0, 0, 0, 0, 0, 0, 0, 0, 0, 0, 0, 0, 0, 0, 0, 0, 0, 0, 0, 0, 0, 0, 0, 0, 0, 0, 0, 0, 0, 0, 0, 0, 0, 0, 0, 0, 0, 0, 0, 0, 0, 0, 0, 0, 0, 0, 0, 0, 0, 0, 0, 0, 0, 0, 0, 0, 0, 0, 0, 0, 0, 0, 0, 0, 0, 0, 0, 0, 0, 0, 0, 0, 0, 0, 0, 0, 0, 0, 0, 0, 0, 0, 0, 0, 0, 0, 0, 0, 0, 0, 0, 0, 0, 0, 0, 0, 0, 0, 0, 0, 0, 0, 0, 0, 0, 0, 0, 0, 0, 0, 0, 0, 0, 0, 0, 0, 0, 0, 0, 0, 0, 0, 0, 0, 0, 0, 0, 0, 0, 0, 0, 0, 0, 0, 0, 0, 0, 0, 0, 0, 0, 0, 0, 0, 0, 0, 0, 0, 0, 0, 0, 0, 0, 0, 0, 0, 0, 0, 0, 0, 0, 0, 0, 0, 0, 0, 0, 0, 0, 0, 0, 0, 0, 0, 0, 0, 0, 0, 0, 0, 0, 0, 0, 0, 0, 0, 0, 0, 0, 0, 0, 0, 0, 0, 0, 0, 0, 0, 0, 0, 0, 0, 0, 0, 0, 0, 0, 0, 0, 0, 0, 0, 0, 0, 0, 0, 0, 0, 0, 0, 0, 0, 0, 0, 0, 0, 0, 0, 0, 0, 0, 0, 0, 0, 0, 0, 0, 0, 0, 0, 0, 0, 0, 0, 0, 0, 0, 0, 0, 0, 0, 0, 0, 0, 0, 0, 0, 0, 0, 0, 0, 0, 0, 0, 0, 0, 0, 0, 1, 0, 0, 0, 0, 0, 0, 0, 0, 0, 0, 0, 0, 0, 0, 0, 0, 0, 0, 0, 0, 0, 0, 0, 0, 0, 0, 0, 0, 0, 0, 0, 0, 0, 0, 0, 2, 0, 0, 0, 0, 0, 0, 0, 0, 0, 0, 0, 0, 0, 0, 0, 0, 0, 0, 0, 0, 0, 0, 0, 0, 0, 0, 0, 0, 0, 0, 0, 0, 0, 0, 0, 0, 0, 0, 0, 0, 1, 0, 0, 0, 0, 0, 0, 0, 0, 0, 0, 0, 0, 0, 0, 0, 0, 0, 0, 0, 0, 0, 0, 0, 0, 0, 0, 0, 0, 0, 0, 0, 0, 0, 0, 0, 0, 0, 0, 0, 0, 0, 0, 0, 0, 0, 0, 0, 0, 0, 0, 0, 0, 0, 0, 0, 0, 0, 0, 0, 0, 0, 0, 0, 0, 0, 0, 0, 0, 0, 0, 0, 0, 0, 0, 0, 0, 0, 0, 0, 0, 0, 0, 0, 0, 0, 0, 0, 0, 0, 0, 0, 0, 0, 0, 0, 0, 0, 0, 0, 0, 0, 0, 0, 0, 0, 0, 0, 0, 0, 0, 0, 0, 0, 0, 0, 0, 0, 0, 0, 0, 0, 0, 0, 0, 0, 0, 0, 0, 0, 0, 0, 0, 0, 0, 0, 0, 0, 0, 0, 0, 0, 0, 0, 0, 0, 0, 0, 0, 0, 0, 0, 0, 0, 0, 0, 0, 0, 0, 0, 0, 0, 0, 0, 0, 0, 0, 0, 0, 0, 0, 0, 0, 0, 0, 0, 0, 0, 0, 0, 0, 0, 0, 0, 0, 0, 0, 0, 0, 0, 0, 0, 0, 0, 0, 0, 0, 0, 0, 0, 0, 0, 0, 0, 0, 0, 0, 0, 0, 0, 0, 0, 0, 0, 0, 0, 0, 0, 0, 0, 0, 0, 0, 0, 0, 0, 0, 0, 0, 0, 0, 0, 0, 0, 0, 0, 0, 0, 0, 0, 0, 0, 0, 0, 0, 0, 0, 0, 0, 0, 0, 0, 0, 0, 0, 0, 0, 0, 0, 0, 0, 0, 0, 0, 0, 0, 0, 0, 0, 0, 0, 0, 0, 0, 0, 0, 0, 0, 0, 0, 0, 0, 0, 0, 0, 0, 0, 0, 0, 0, 0, 0, 0, 0, 0, 0, 0, 0, 0, 0, 0, 0, 0, 0, 0, 0, 0, 0, 0, 0, 0, 0, 0, 0, 0, 0, 0, 0, 0, 0, 0, 0, 0, 0, 0, 0, 0, 0, 0, 0, 0, 0, 0, 0, 0, 0, 0, 0, 0, 0, 0, 0, 0, 0, 0, 0, 0, 0, 0, 0, 0, 0, 0, 0, 0, 0, 0, 0, 0, 0, 0, 0, 0, 0, 0, 0, 0, 0, 0, 0, 0, 0, 0, 0, 0, 0, 0, 0, 0, 0, 0, 0, 0, 0, 0, 0, 0, 0, 0, 0, 0, 0, 0, 0, 0, 0, 0, 0, 0, 0, 0, 0, 0, 0, 0, 0, 0, 0, 0, 0, 0, 0, 0, 0, 0, 0, 0, 0, 0, 0, 0, 0, 0, 0, 0, 0, 0, 0, 0, 0, 0, 0, 0, 0, 0, 0, 0, 0, 0, 0, 0, 0, 0, 0, 0, 0, 0, 0, 0, 0, 0, 0, 0, 0, 0, 0, 0, 0, 0, 0, 0, 0, 0, 0, 0, 0, 0, 0, 0, 0, 0, 0, 0, 0, 0, 0, 0, 0, 0, 0, 0, 0, 0, 0, 0, 0, 0, 0, 0, 0, 0, 0, 0, 0, 0, 0, 0, 0, 1, 0, 0, 0, 0, 0, 0, 0, 0, 0, 0, 0, 0, 0, 0, 0, 0, 0, 0, 0, 0, 0, 0, 0, 0, 0, 0, 0, 0, 0, 0, 0, 0, 0, 0, 0, 0, 0, 0, 0, 0, 0, 0, 0, 0, 0, 0, 0, 0, 0, 0, 0, 0, 0, 0, 0, 0, 0, 0, 0, 0, 0, 0, 0, 0, 0, 0, 0, 0, 0, 0, 0, 0, 0, 0, 0, 0, 0, 0, 0, 0, 0, 0, 0, 0, 0, 0, 0, 0, 0, 0, 0, 0, 0, 0, 0, 0, 0, 0, 0, 0, 0, 0, 0, 0, 0, 0, 0, 0, 0, 0, 2, 0, 0, 0, 0, 0, 0, 0, 0, 0, 0, 0, 0, 0, 0, 0, 0, 0, 0, 0, 0, 0, 0, 0, 0, 0, 0, 0, 0, 0, 0, 0, 0, 0, 0, 0, 0, 0, 0, 0, 0, 0, 0, 0, 0, 0, 0, 0, 0, 0, 0, 0, 0, 0, 0, 0, 0, 0, 0, 0, 0, 0, 0, 0, 0, 0, 0, 0, 0, 0, 0, 0, 0, 0, 0, 0, 0, 0, 0, 0, 0, 0, 0, 0, 0, 0, 0, 0, 0, 0, 0, 0, 0, 0, 0, 0, 0, 0, 0, 0, 0, 0, 0, 0, 0, 0, 0, 0, 0, 0, 0, 0, 0, 0, 0, 0, 0, 0, 0, 0, 0, 0, 0, 0, 0, 0, 0, 0, 0, 0, 0, 0, 0, 0, 0, 0, 0, 0, 0, 0, 0, 0, 0, 0, 0, 0, 0, 0, 0, 0, 0, 0, 0, 0, 0, 0, 0, 0, 0, 0, 0, 0, 0, 0, 0, 0, 0, 0, 0, 0, 0, 0, 0, 0, 0, 0, 0, 0, 0, 0, 0, 0, 0, 0, 0, 0, 0, 0, 0, 0, 0, 0, 0, 0, 0, 0, 0, 0, 0, 0, 0, 0, 0, 0, 0, 0, 0, 0, 0, 0, 0, 0, 0, 0, 0, 0, 0, 0, 0, 0, 0, 0, 0, 0, 0, 0, 0, 0, 0, 0, 0, 0, 0, 0, 0, 0, 0, 0, 0, 0, 0, 0, 0, 0, 0, 0, 0, 0, 0, 0, 0, 0, 0, 0, 0, 0, 0, 0, 0, 0, 0, 0, 0, 0, 0, 0, 0, 0, 0, 0, 0, 0, 0, 0, 0, 0, 0, 0, 0, 0, 0, 0, 0, 0, 0, 0, 0, 0, 0, 0, 0, 0, 0, 0, 0, 0, 0, 0, 0, 0, 0, 0, 0, 0, 0, 0, 0, 0, 0, 0, 0, 0, 0, 0, 0, 0, 0, 0, 0, 0, 0, 0, 0, 0, 0, 0, 0, 0, 0, 0, 0, 0, 0, 0, 0, 0, 0, 0, 0, 0, 0, 0, 0, 0, 0, 0, 0, 0, 0, 0, 0, 0, 0, 0, 0, 0, 0, 0, 0, 0, 0, 0, 0, 0, 0, 0, 0, 0, 0, 0, 0, 0, 0, 0, 0, 0, 0, 0, 0, 0, 0, 0, 0, 0, 0, 0, 0, 0, 0, 0, 0, 0, 0, 0, 0, 0, 0, 0, 0, 0, 0, 0, 0, 0, 0, 0, 0, 0, 0, 0, 0, 0, 0, 0, 0, 0, 0, 0, 0, 0, 0, 0, 0, 0, 0, 0, 0, 0, 0, 0, 0, 0, 0, 0, 0, 0, 0, 0, 0, 0, 0, 0, 0, 0, 0, 0, 0, 0, 0, 0, 0, 0, 0, 0, 0, 0, 0, 0, 0, 0, 0, 0, 0, 0, 0, 0, 0, 0, 0, 0, 0, 0, 0, 0, 0, 0, 0, 0, 0, 0, 0, 0, 0, 0, 0, 0, 0, 0, 0, 0, 0, 0, 0, 0, 0, 0, 0, 0, 0, 0, 0, 0, 0, 0, 0, 0, 0, 0, 0, 0, 0, 0, 0, 0, 0, 0, 0, 0, 0, 0, 0, 0, 0, 0, 0, 0, 0, 0, 0, 0, 0, 0, 0, 0, 0, 0, 0, 0, 0, 0, 0, 0, 0, 0, 0, 0, 0, 0, 0, 0, 0, 0, 0, 0, 0, 0, 0, 0, 0, 0, 0, 0, 0, 0, 0, 0, 0, 0, 0, 0, 0, 0, 0, 0, 0, 0, 0, 0, 0, 0, 0, 0, 0, 0, 0, 0, 0, 0, 0, 0, 0, 0, 0, 0, 0, 0, 0, 0, 0, 0, 0, 0, 0, 0, 0, 0, 0, 0, 0, 0, 0, 0, 0, 0, 0, 0, 0, 0, 0, 0, 0, 0, 0, 0, 0, 0, 0, 0, 0, 0, 0, 0, 0, 0, 0, 0, 0, 0, 0, 0, 0, 0, 0, 0, 0, 0, 0, 0, 0, 0, 0, 0, 0, 0, 0, 0, 0, 0, 0, 0, 0, 0, 0, 0, 0, 0, 0, 0, 0, 0, 0, 0, 0, 0, 0, 0, 0, 0, 0, 0, 0, 0, 0, 0, 0, 0, 0, 0, 0, 0, 0, 1, 0, 0, 0, 0, 0, 0, 0, 0, 0, 0, 0, 0, 0, 0, 0, 0, 0, 0, 0, 0, 0, 0, 0, 0, 0, 0, 0, 0, 0, 0, 0, 0, 0, 0, 0, 0, 0, 0, 0, 0, 0, 0, 0, 0, 0, 0, 0, 0, 0, 0, 0, 0, 0, 0, 0, 0, 0, 0, 0, 0, 0, 0, 0, 0, 0, 0, 0, 0, 0, 0, 0, 0, 0, 0, 0, 0, 0, 0, 0, 0, 0, 0, 0, 0, 0, 0, 0, 0, 0, 0, 0, 0, 0, 0, 0, 0, 0, 0, 0, 0, 0, 0, 0, 0, 0, 0, 0, 1, 0, 0, 0, 0, 0, 0, 0, 0, 0, 0, 0, 0, 0, 0, 0, 0, 0, 0, 0, 0, 0, 0, 0, 0, 0, 0, 0, 0, 0, 0, 0, 0, 0, 0, 0, 0, 0, 0, 0, 0, 0, 0, 0, 0, 0, 0, 0, 0, 0, 0, 0, 0, 0, 0, 0, 0, 0, 0, 0, 0, 0, 0, 0, 0, 0, 0, 0, 0, 0, 0, 0, 0, 0, 0, 0, 0, 0, 0, 0, 0, 0, 0, 0, 0, 0, 0, 0, 0, 0, 0, 0, 0, 0, 0, 0, 0, 0, 0, 0, 0, 0, 0, 0, 0, 0, 0, 0, 0, 0, 0, 0, 0, 0, 0, 0, 0, 0, 0, 0, 0, 0, 0, 0, 0, 0, 0, 0, 0, 0, 0, 0, 0, 0, 0, 0, 0, 0, 0, 0, 0, 0, 0, 0, 0, 0, 0, 0, 0, 0, 0, 0, 0, 0, 0, 0, 0, 0, 0, 0, 0, 0, 0, 0, 0, 0, 0, 0, 0, 0, 0, 0, 0, 0, 0, 0, 0, 0, 0, 0, 0, 0, 0, 0, 0, 0, 0, 0, 0, 0, 0, 0, 0, 0, 0, 0, 0, 0, 0, 0, 0, 0, 0, 0, 0, 0, 0, 0, 0, 0, 0, 0, 0, 0, 0, 0, 0, 0, 0, 0, 0, 0, 0, 0, 0, 0, 0, 0, 0, 0, 0, 0, 0, 0, 0, 0, 0, 0, 0, 0, 0, 0, 0, 0, 0, 0, 0, 0, 0, 0, 0, 0, 0, 0, 0, 0, 0, 0, 0, 0, 0, 0, 0, 0, 0, 0, 0, 0, 0, 0, 0, 0, 0, 0, 0, 0, 0, 0, 0, 0, 0, 0, 0, 0, 0, 0, 0, 0, 0, 0, 0, 0, 0, 0, 0, 0, 0, 0, 0, 0, 0, 0, 0, 0, 0, 0, 0, 0, 0, 0, 0, 0, 0, 0, 0, 0, 0, 0, 0, 0, 0, 0, 0, 0, 0, 0, 0, 0, 0, 0, 0, 0, 0, 0, 0, 0, 0, 0, 0, 0, 0, 0, 0, 0, 0, 0, 0, 0, 0, 0, 0, 0, 0, 0, 0, 0, 0, 0, 0, 0, 0, 0, 0, 0, 0, 0, 0, 0, 0, 0, 0, 0, 0, 0, 0, 0, 0, 0, 0, 0, 0, 0, 0, 0, 0, 0, 0, 0, 0, 0, 0, 0, 0, 0, 0, 0, 0, 0, 0, 0, 0, 0, 0, 0, 0, 0, 0, 0, 0, 0, 0, 0, 0, 0, 0, 0, 0, 0, 0, 0, 0, 0, 0, 0, 0, 0, 0, 0, 0, 0, 0, 0, 0, 0, 0, 0, 0, 0, 0, 0, 0, 0, 0, 0, 0, 0, 0, 0, 0, 0, 0, 0, 0, 0, 0, 0, 0, 0, 0, 0, 0, 0, 0, 0, 2, 0, 1, 0]\n"
     ]
    }
   ],
   "source": [
    "test_bow = bow_encoding(test_words, vocabulary)\n",
    "print(test_bow)"
   ]
  },
  {
   "cell_type": "code",
   "execution_count": 41,
   "metadata": {},
   "outputs": [
    {
     "data": {
      "text/plain": [
       "5000"
      ]
     },
     "execution_count": 41,
     "metadata": {},
     "output_type": "execute_result"
    }
   ],
   "source": [
    "len(test_bow)"
   ]
  },
  {
   "cell_type": "markdown",
   "metadata": {},
   "source": [
    "So now we know how to construct a bag of words encoding of a user provided review, how to we send it to our endpoint? First, we need to start the endpoint back up."
   ]
  },
  {
   "cell_type": "code",
   "execution_count": 42,
   "metadata": {},
   "outputs": [
    {
     "name": "stderr",
     "output_type": "stream",
     "text": [
      "Parameter image will be renamed to image_uri in SageMaker Python SDK v2.\n",
      "Using already existing model: xgboost-2020-08-03-13-18-08-666\n"
     ]
    },
    {
     "name": "stdout",
     "output_type": "stream",
     "text": [
      "-------------!"
     ]
    }
   ],
   "source": [
    "xgb_predictor = xgb.deploy(initial_instance_count = 1, instance_type = 'ml.m4.xlarge')"
   ]
  },
  {
   "cell_type": "markdown",
   "metadata": {},
   "source": [
    "At this point we could just do the same thing that we did earlier when we tested our deployed model and send `test_bow` to our endpoint using the `xgb_predictor` object. However, when we eventually construct our Lambda function we won't have access to this object, so how do we call a SageMaker endpoint?\n",
    "\n",
    "It turns out that Python functions that are used in Lambda have access to another Amazon library called `boto3`. This library provides an API for working with Amazon services, including SageMaker. To start with, we need to get a handle to the SageMaker runtime."
   ]
  },
  {
   "cell_type": "code",
   "execution_count": 43,
   "metadata": {},
   "outputs": [],
   "source": [
    "import boto3\n",
    "\n",
    "runtime = boto3.Session().client('sagemaker-runtime')"
   ]
  },
  {
   "cell_type": "markdown",
   "metadata": {},
   "source": [
    "And now that we have access to the SageMaker runtime, we can ask it to make use of (invoke) an endpoint that has already been created. However, we need to provide SageMaker with the name of the deployed endpoint. To find this out we can print it out using the `xgb_predictor` object."
   ]
  },
  {
   "cell_type": "code",
   "execution_count": 44,
   "metadata": {},
   "outputs": [
    {
     "data": {
      "text/plain": [
       "'xgboost-2020-08-03-13-18-08-666'"
      ]
     },
     "execution_count": 44,
     "metadata": {},
     "output_type": "execute_result"
    }
   ],
   "source": [
    "xgb_predictor.endpoint"
   ]
  },
  {
   "cell_type": "markdown",
   "metadata": {},
   "source": [
    "Using the SageMaker runtime and the name of our endpoint, we can invoke the endpoint and send it the `test_bow` data."
   ]
  },
  {
   "cell_type": "code",
   "execution_count": 45,
   "metadata": {},
   "outputs": [
    {
     "ename": "ParamValidationError",
     "evalue": "Parameter validation failed:\nInvalid type for parameter Body, value: [0, 0, 0, 0, 0, 0, 0, 0, 0, 0, 0, 0, 0, 0, 0, 0, 0, 0, 0, 0, 0, 0, 0, 0, 0, 0, 0, 0, 0, 0, 0, 0, 0, 0, 0, 0, 0, 0, 0, 0, 0, 0, 0, 0, 0, 0, 0, 0, 0, 0, 0, 0, 0, 0, 0, 0, 0, 0, 0, 0, 0, 0, 0, 0, 0, 0, 0, 0, 0, 0, 0, 0, 0, 0, 0, 0, 0, 0, 0, 0, 0, 0, 0, 0, 0, 0, 0, 0, 0, 0, 0, 0, 0, 0, 0, 0, 0, 0, 0, 0, 0, 0, 0, 0, 0, 0, 0, 0, 0, 0, 0, 0, 0, 0, 0, 0, 0, 0, 0, 0, 0, 0, 0, 0, 0, 0, 0, 0, 0, 0, 0, 0, 0, 0, 0, 0, 0, 0, 0, 0, 0, 0, 0, 0, 0, 0, 0, 0, 0, 0, 0, 0, 0, 0, 0, 0, 0, 0, 0, 0, 0, 0, 0, 0, 0, 0, 0, 0, 0, 0, 0, 0, 0, 0, 0, 0, 0, 0, 0, 0, 0, 0, 0, 0, 0, 0, 0, 0, 0, 0, 0, 0, 0, 0, 0, 0, 0, 0, 0, 0, 0, 0, 0, 0, 0, 0, 0, 0, 0, 0, 0, 0, 0, 0, 0, 0, 0, 0, 0, 0, 0, 0, 0, 0, 0, 0, 1, 0, 0, 0, 0, 0, 0, 0, 0, 0, 0, 0, 0, 0, 0, 0, 0, 0, 0, 0, 0, 0, 0, 0, 0, 0, 0, 0, 0, 0, 1, 0, 0, 0, 0, 0, 0, 0, 0, 0, 0, 0, 0, 0, 0, 0, 0, 0, 0, 0, 0, 0, 0, 0, 0, 0, 0, 0, 0, 0, 0, 0, 0, 0, 0, 0, 0, 0, 0, 0, 0, 0, 0, 0, 0, 0, 0, 0, 0, 0, 0, 0, 0, 0, 0, 0, 0, 0, 0, 0, 0, 0, 0, 0, 0, 0, 0, 0, 0, 0, 0, 0, 0, 0, 0, 0, 0, 0, 0, 0, 0, 0, 0, 0, 0, 0, 0, 0, 0, 0, 0, 0, 0, 0, 0, 0, 0, 0, 0, 0, 0, 0, 0, 0, 0, 0, 0, 0, 0, 0, 0, 0, 0, 0, 0, 0, 0, 0, 0, 0, 0, 0, 0, 0, 0, 0, 0, 0, 0, 0, 0, 0, 0, 0, 0, 0, 0, 0, 0, 0, 0, 0, 0, 0, 0, 0, 0, 0, 0, 0, 0, 0, 0, 0, 0, 0, 0, 0, 0, 0, 0, 0, 0, 0, 0, 0, 0, 0, 0, 0, 0, 0, 0, 0, 0, 0, 0, 0, 0, 0, 0, 0, 0, 0, 0, 0, 0, 0, 0, 0, 0, 0, 0, 0, 0, 0, 0, 0, 0, 0, 0, 0, 0, 0, 0, 0, 0, 0, 0, 0, 0, 0, 0, 0, 0, 0, 0, 0, 0, 0, 0, 0, 0, 0, 0, 0, 0, 0, 0, 0, 0, 0, 0, 0, 0, 0, 0, 0, 0, 0, 0, 0, 0, 0, 0, 0, 0, 0, 0, 0, 0, 0, 0, 0, 0, 0, 0, 0, 0, 0, 0, 0, 0, 0, 0, 0, 0, 0, 0, 0, 0, 0, 0, 0, 0, 0, 0, 0, 0, 0, 0, 0, 0, 0, 0, 0, 0, 0, 0, 0, 0, 0, 0, 0, 0, 0, 0, 0, 0, 0, 0, 0, 0, 0, 0, 0, 0, 0, 0, 0, 0, 0, 0, 0, 0, 0, 0, 0, 0, 0, 0, 0, 0, 0, 0, 0, 0, 0, 0, 0, 0, 0, 0, 0, 0, 0, 0, 0, 0, 0, 0, 0, 0, 0, 0, 0, 0, 0, 0, 0, 0, 0, 0, 0, 0, 0, 0, 0, 0, 0, 0, 0, 0, 0, 0, 0, 0, 0, 0, 0, 0, 0, 0, 0, 0, 0, 0, 0, 0, 0, 1, 0, 0, 0, 0, 0, 0, 0, 0, 0, 0, 0, 0, 0, 0, 0, 0, 0, 0, 0, 0, 0, 0, 0, 0, 0, 0, 0, 0, 0, 0, 0, 0, 0, 0, 0, 0, 0, 0, 0, 0, 0, 0, 0, 0, 0, 0, 0, 0, 0, 0, 0, 0, 0, 0, 0, 0, 0, 0, 0, 0, 0, 0, 0, 0, 0, 0, 0, 0, 0, 0, 0, 0, 0, 0, 0, 0, 0, 0, 0, 0, 0, 0, 0, 0, 0, 0, 0, 0, 0, 0, 0, 0, 0, 0, 0, 0, 0, 0, 0, 0, 0, 0, 0, 0, 0, 0, 0, 0, 0, 0, 0, 0, 0, 0, 0, 0, 0, 0, 0, 0, 0, 0, 0, 0, 0, 0, 0, 0, 0, 0, 0, 0, 0, 0, 0, 0, 0, 0, 0, 0, 0, 0, 0, 0, 0, 0, 0, 0, 0, 0, 0, 0, 0, 0, 0, 0, 0, 0, 0, 0, 0, 0, 0, 0, 0, 0, 0, 0, 0, 0, 0, 0, 0, 0, 0, 0, 0, 0, 0, 0, 0, 0, 0, 0, 0, 0, 0, 0, 0, 0, 0, 0, 0, 0, 0, 0, 0, 0, 0, 0, 0, 0, 0, 0, 0, 0, 0, 0, 0, 0, 0, 0, 0, 0, 0, 0, 0, 0, 0, 0, 0, 0, 0, 0, 0, 0, 0, 0, 0, 0, 0, 0, 0, 0, 0, 0, 0, 0, 0, 0, 0, 0, 0, 0, 0, 0, 0, 0, 0, 0, 0, 0, 0, 1, 0, 0, 0, 0, 0, 0, 0, 0, 0, 0, 0, 0, 0, 0, 0, 0, 0, 0, 0, 0, 0, 0, 0, 0, 0, 0, 0, 0, 0, 0, 0, 0, 0, 0, 0, 0, 0, 0, 0, 0, 0, 0, 0, 0, 0, 0, 0, 0, 0, 0, 0, 0, 0, 0, 0, 0, 0, 0, 0, 0, 0, 0, 0, 0, 0, 0, 0, 0, 0, 0, 0, 0, 0, 0, 0, 0, 0, 0, 0, 0, 0, 0, 0, 0, 0, 0, 1, 0, 0, 0, 0, 0, 0, 0, 0, 0, 0, 0, 0, 0, 0, 0, 0, 0, 0, 0, 0, 0, 0, 0, 0, 0, 0, 0, 0, 0, 0, 0, 0, 0, 0, 0, 0, 0, 0, 0, 0, 0, 0, 0, 0, 0, 0, 0, 0, 0, 0, 0, 0, 0, 0, 0, 0, 0, 0, 0, 0, 0, 0, 0, 0, 0, 0, 0, 0, 0, 0, 0, 0, 0, 0, 0, 0, 0, 0, 0, 0, 0, 0, 0, 0, 0, 0, 0, 0, 0, 0, 0, 0, 0, 0, 0, 0, 0, 0, 0, 0, 0, 0, 0, 0, 0, 0, 0, 0, 0, 0, 0, 0, 0, 0, 0, 0, 0, 0, 0, 0, 0, 0, 0, 0, 0, 0, 0, 0, 0, 0, 0, 0, 0, 0, 0, 0, 0, 0, 0, 0, 0, 0, 0, 0, 0, 0, 0, 0, 0, 0, 0, 0, 0, 0, 0, 0, 0, 0, 0, 0, 0, 0, 0, 0, 0, 0, 0, 0, 0, 0, 0, 0, 0, 0, 0, 0, 0, 0, 0, 0, 0, 0, 0, 0, 0, 0, 0, 0, 0, 0, 0, 0, 0, 0, 0, 0, 0, 0, 0, 0, 0, 0, 0, 0, 0, 0, 0, 0, 0, 0, 0, 0, 0, 0, 0, 0, 0, 0, 0, 0, 0, 0, 0, 0, 0, 0, 0, 0, 0, 0, 0, 0, 0, 0, 0, 0, 0, 0, 0, 0, 0, 0, 0, 0, 0, 0, 0, 0, 0, 0, 0, 0, 1, 0, 0, 0, 0, 0, 0, 0, 0, 0, 0, 0, 0, 0, 0, 0, 0, 0, 0, 0, 0, 0, 0, 0, 0, 0, 0, 0, 0, 0, 0, 0, 0, 0, 0, 0, 0, 0, 0, 0, 0, 0, 0, 0, 0, 0, 0, 0, 0, 0, 0, 0, 0, 0, 0, 0, 1, 0, 0, 0, 0, 0, 0, 0, 0, 0, 0, 0, 0, 0, 0, 0, 0, 0, 0, 0, 0, 0, 0, 0, 0, 0, 0, 0, 0, 0, 0, 0, 0, 0, 0, 0, 0, 0, 0, 0, 0, 0, 0, 0, 0, 0, 0, 0, 0, 0, 0, 0, 0, 0, 0, 0, 0, 0, 0, 0, 0, 0, 0, 0, 0, 0, 0, 0, 0, 0, 0, 0, 0, 0, 0, 0, 0, 0, 0, 0, 0, 0, 0, 0, 0, 0, 0, 0, 0, 0, 0, 0, 0, 0, 0, 0, 0, 0, 0, 0, 0, 0, 0, 0, 0, 0, 0, 0, 0, 0, 0, 0, 0, 0, 0, 0, 0, 0, 0, 0, 0, 0, 0, 0, 0, 0, 0, 0, 0, 0, 0, 0, 0, 0, 0, 0, 0, 0, 0, 0, 0, 0, 0, 0, 0, 0, 0, 0, 0, 0, 0, 0, 0, 0, 0, 0, 0, 0, 0, 0, 0, 0, 0, 0, 0, 0, 0, 0, 0, 0, 0, 0, 0, 0, 0, 0, 0, 0, 0, 0, 0, 0, 0, 0, 0, 0, 0, 0, 0, 0, 0, 0, 0, 0, 0, 0, 0, 0, 0, 0, 0, 0, 0, 0, 0, 0, 0, 0, 0, 0, 0, 0, 0, 0, 0, 0, 0, 0, 0, 0, 0, 0, 0, 0, 0, 0, 0, 0, 0, 0, 0, 0, 0, 0, 0, 0, 0, 0, 0, 0, 0, 0, 0, 0, 0, 0, 0, 0, 0, 0, 0, 0, 0, 0, 0, 0, 0, 0, 0, 0, 0, 0, 0, 0, 0, 0, 0, 0, 0, 0, 0, 0, 0, 0, 0, 0, 0, 0, 0, 0, 0, 0, 0, 0, 0, 0, 0, 0, 0, 0, 0, 0, 0, 0, 0, 0, 0, 0, 0, 0, 0, 0, 0, 0, 0, 0, 0, 0, 0, 0, 0, 0, 0, 0, 0, 0, 0, 0, 0, 0, 0, 0, 0, 0, 0, 0, 0, 0, 0, 0, 0, 0, 0, 0, 0, 0, 0, 0, 0, 0, 0, 0, 0, 0, 0, 0, 0, 0, 0, 0, 0, 0, 0, 0, 0, 0, 0, 0, 0, 0, 0, 0, 0, 0, 0, 0, 0, 0, 0, 0, 0, 0, 0, 0, 0, 0, 0, 0, 0, 0, 0, 0, 0, 0, 0, 0, 0, 0, 0, 0, 0, 0, 0, 0, 0, 0, 0, 0, 0, 0, 0, 0, 0, 0, 0, 0, 0, 0, 0, 0, 0, 0, 0, 0, 0, 0, 0, 0, 0, 0, 0, 0, 0, 0, 0, 0, 0, 0, 0, 0, 0, 0, 0, 0, 0, 0, 0, 0, 0, 0, 0, 0, 0, 0, 0, 0, 0, 0, 0, 0, 0, 0, 0, 0, 0, 0, 0, 0, 0, 0, 0, 0, 0, 0, 0, 0, 0, 0, 0, 0, 0, 0, 0, 0, 0, 0, 0, 0, 0, 0, 0, 0, 0, 0, 0, 0, 0, 0, 0, 0, 0, 0, 0, 0, 0, 0, 0, 0, 0, 0, 0, 0, 0, 0, 0, 0, 0, 0, 0, 0, 0, 0, 0, 0, 0, 0, 0, 0, 0, 0, 0, 0, 0, 0, 0, 0, 0, 0, 0, 0, 0, 0, 0, 0, 0, 0, 0, 0, 0, 0, 0, 0, 0, 0, 0, 0, 0, 0, 0, 0, 0, 0, 0, 0, 0, 0, 0, 0, 0, 0, 0, 0, 0, 0, 0, 0, 0, 0, 0, 0, 0, 0, 0, 0, 0, 0, 0, 0, 0, 0, 0, 0, 0, 0, 0, 0, 0, 0, 0, 0, 0, 0, 0, 0, 0, 0, 0, 0, 0, 0, 0, 0, 0, 0, 0, 0, 0, 0, 0, 0, 0, 0, 0, 0, 0, 0, 0, 0, 0, 0, 0, 0, 0, 0, 0, 0, 0, 0, 0, 0, 0, 0, 0, 0, 0, 0, 0, 0, 0, 0, 0, 0, 0, 0, 0, 0, 0, 0, 0, 0, 0, 0, 0, 0, 0, 0, 0, 0, 0, 0, 0, 0, 0, 0, 0, 0, 0, 0, 0, 0, 0, 0, 0, 0, 0, 0, 0, 0, 0, 0, 0, 0, 1, 0, 0, 0, 0, 0, 0, 0, 0, 0, 0, 0, 0, 0, 0, 0, 0, 0, 0, 0, 0, 0, 0, 0, 0, 0, 0, 0, 0, 0, 0, 0, 0, 0, 0, 0, 0, 0, 0, 0, 0, 0, 0, 0, 0, 0, 0, 0, 0, 0, 0, 0, 0, 0, 0, 0, 0, 0, 0, 0, 0, 0, 0, 0, 0, 0, 0, 0, 0, 0, 0, 0, 0, 0, 0, 1, 0, 0, 0, 0, 0, 0, 0, 0, 0, 0, 0, 0, 0, 0, 0, 0, 0, 0, 0, 0, 1, 0, 0, 1, 0, 0, 0, 0, 0, 0, 0, 0, 0, 0, 0, 0, 0, 0, 0, 0, 0, 0, 0, 0, 0, 0, 0, 0, 0, 0, 0, 0, 0, 0, 0, 0, 0, 0, 0, 0, 0, 0, 0, 0, 0, 0, 0, 0, 0, 0, 0, 0, 0, 0, 0, 0, 0, 0, 0, 0, 0, 0, 0, 0, 0, 0, 0, 0, 0, 0, 0, 0, 0, 0, 0, 0, 0, 0, 0, 0, 0, 0, 0, 0, 0, 0, 0, 0, 0, 0, 0, 0, 0, 0, 0, 0, 0, 0, 0, 0, 0, 0, 0, 0, 0, 0, 0, 0, 0, 0, 0, 0, 0, 0, 0, 0, 0, 0, 0, 0, 0, 0, 0, 0, 0, 0, 0, 0, 0, 0, 0, 0, 0, 0, 0, 0, 0, 0, 0, 0, 0, 0, 0, 0, 0, 0, 0, 0, 0, 0, 0, 0, 0, 0, 0, 0, 0, 0, 0, 0, 0, 0, 0, 0, 0, 0, 0, 0, 0, 0, 0, 0, 0, 0, 0, 0, 0, 0, 0, 0, 0, 0, 0, 0, 0, 0, 0, 0, 0, 0, 0, 0, 0, 0, 0, 0, 0, 0, 0, 0, 0, 0, 0, 0, 0, 0, 0, 0, 0, 0, 0, 0, 0, 0, 0, 0, 0, 0, 0, 0, 0, 0, 0, 0, 0, 0, 0, 0, 0, 0, 0, 0, 0, 0, 0, 0, 0, 0, 0, 0, 0, 0, 0, 0, 0, 0, 0, 0, 0, 0, 0, 0, 0, 0, 0, 0, 0, 0, 0, 0, 0, 0, 0, 0, 0, 0, 0, 0, 0, 0, 0, 0, 0, 0, 0, 0, 0, 0, 0, 0, 0, 0, 0, 0, 0, 0, 0, 0, 0, 0, 0, 0, 0, 0, 0, 0, 0, 0, 0, 0, 0, 0, 0, 0, 0, 0, 0, 0, 0, 0, 0, 0, 0, 0, 0, 0, 0, 0, 0, 0, 0, 0, 0, 0, 0, 0, 0, 0, 0, 0, 0, 0, 0, 0, 0, 0, 0, 0, 0, 0, 0, 0, 0, 0, 0, 0, 0, 0, 0, 0, 0, 0, 0, 0, 0, 0, 0, 0, 0, 0, 0, 0, 0, 0, 0, 0, 0, 0, 0, 0, 0, 0, 0, 0, 0, 0, 0, 0, 0, 0, 0, 0, 0, 0, 0, 0, 0, 0, 0, 0, 0, 0, 0, 0, 0, 0, 0, 0, 0, 0, 0, 0, 0, 0, 0, 0, 0, 0, 0, 0, 0, 0, 0, 0, 0, 0, 0, 0, 0, 0, 0, 0, 0, 0, 0, 0, 0, 0, 0, 0, 0, 0, 0, 0, 0, 0, 0, 0, 0, 0, 0, 0, 0, 0, 0, 0, 0, 0, 0, 0, 0, 0, 0, 0, 0, 0, 0, 0, 0, 0, 0, 0, 0, 0, 0, 0, 0, 0, 0, 0, 1, 0, 0, 0, 0, 0, 0, 0, 0, 0, 0, 0, 0, 0, 0, 0, 0, 0, 0, 0, 0, 0, 0, 0, 0, 0, 0, 0, 0, 0, 0, 0, 0, 0, 0, 0, 0, 0, 0, 0, 0, 0, 0, 0, 0, 0, 0, 0, 0, 0, 0, 0, 0, 0, 0, 0, 0, 0, 0, 0, 0, 0, 0, 0, 0, 0, 0, 0, 0, 0, 0, 0, 0, 0, 0, 0, 0, 0, 0, 0, 0, 0, 0, 0, 0, 0, 0, 0, 0, 0, 0, 0, 0, 0, 0, 0, 0, 0, 0, 0, 0, 0, 0, 0, 0, 0, 0, 0, 0, 0, 0, 0, 0, 0, 0, 0, 0, 0, 0, 0, 0, 0, 0, 0, 0, 0, 0, 0, 0, 0, 0, 0, 0, 0, 0, 0, 0, 0, 0, 0, 0, 0, 0, 0, 0, 0, 0, 0, 0, 0, 0, 0, 0, 0, 0, 0, 0, 0, 0, 0, 0, 0, 0, 0, 0, 0, 0, 0, 0, 0, 0, 0, 0, 0, 0, 0, 0, 0, 0, 0, 0, 0, 0, 0, 0, 0, 0, 0, 0, 0, 0, 0, 0, 0, 0, 0, 0, 0, 0, 0, 0, 0, 0, 0, 0, 0, 0, 0, 0, 0, 0, 0, 0, 0, 0, 0, 0, 0, 0, 0, 0, 0, 0, 0, 0, 0, 0, 0, 0, 0, 0, 0, 0, 0, 0, 0, 0, 0, 0, 0, 0, 0, 0, 0, 0, 0, 0, 0, 0, 0, 0, 0, 0, 0, 0, 0, 0, 0, 0, 0, 0, 0, 0, 0, 0, 0, 0, 0, 0, 0, 0, 0, 0, 0, 0, 0, 0, 0, 0, 0, 0, 0, 0, 0, 0, 0, 0, 0, 0, 0, 0, 0, 0, 0, 0, 0, 0, 0, 0, 0, 0, 0, 0, 0, 0, 0, 0, 0, 0, 0, 0, 0, 0, 0, 0, 0, 0, 0, 0, 0, 0, 0, 0, 0, 0, 0, 0, 0, 0, 0, 0, 0, 0, 0, 0, 0, 0, 0, 0, 0, 0, 0, 0, 0, 0, 0, 0, 0, 0, 0, 0, 0, 0, 0, 0, 0, 0, 0, 0, 0, 0, 0, 0, 0, 0, 0, 0, 0, 0, 0, 0, 0, 0, 0, 0, 0, 0, 0, 0, 0, 0, 0, 0, 0, 0, 0, 0, 0, 0, 0, 0, 0, 0, 0, 0, 0, 0, 0, 0, 0, 0, 0, 0, 0, 0, 0, 0, 0, 0, 0, 0, 0, 0, 0, 0, 0, 0, 0, 0, 0, 0, 0, 0, 0, 0, 0, 0, 0, 0, 0, 0, 0, 0, 0, 0, 0, 0, 0, 0, 0, 0, 0, 0, 0, 0, 0, 0, 0, 0, 0, 0, 0, 0, 0, 0, 0, 0, 0, 0, 0, 0, 0, 0, 0, 0, 0, 0, 0, 0, 0, 0, 0, 0, 0, 0, 0, 0, 0, 0, 0, 0, 0, 0, 0, 0, 0, 0, 0, 0, 0, 0, 0, 0, 0, 0, 0, 0, 0, 0, 0, 0, 0, 0, 0, 0, 0, 0, 0, 0, 0, 0, 0, 0, 1, 0, 0, 0, 0, 0, 0, 0, 0, 0, 0, 0, 0, 0, 0, 0, 0, 0, 0, 0, 0, 0, 0, 0, 0, 0, 0, 0, 0, 0, 0, 0, 0, 0, 0, 0, 2, 0, 0, 0, 0, 0, 0, 0, 0, 0, 0, 0, 0, 0, 0, 0, 0, 0, 0, 0, 0, 0, 0, 0, 0, 0, 0, 0, 0, 0, 0, 0, 0, 0, 0, 0, 0, 0, 0, 0, 0, 1, 0, 0, 0, 0, 0, 0, 0, 0, 0, 0, 0, 0, 0, 0, 0, 0, 0, 0, 0, 0, 0, 0, 0, 0, 0, 0, 0, 0, 0, 0, 0, 0, 0, 0, 0, 0, 0, 0, 0, 0, 0, 0, 0, 0, 0, 0, 0, 0, 0, 0, 0, 0, 0, 0, 0, 0, 0, 0, 0, 0, 0, 0, 0, 0, 0, 0, 0, 0, 0, 0, 0, 0, 0, 0, 0, 0, 0, 0, 0, 0, 0, 0, 0, 0, 0, 0, 0, 0, 0, 0, 0, 0, 0, 0, 0, 0, 0, 0, 0, 0, 0, 0, 0, 0, 0, 0, 0, 0, 0, 0, 0, 0, 0, 0, 0, 0, 0, 0, 0, 0, 0, 0, 0, 0, 0, 0, 0, 0, 0, 0, 0, 0, 0, 0, 0, 0, 0, 0, 0, 0, 0, 0, 0, 0, 0, 0, 0, 0, 0, 0, 0, 0, 0, 0, 0, 0, 0, 0, 0, 0, 0, 0, 0, 0, 0, 0, 0, 0, 0, 0, 0, 0, 0, 0, 0, 0, 0, 0, 0, 0, 0, 0, 0, 0, 0, 0, 0, 0, 0, 0, 0, 0, 0, 0, 0, 0, 0, 0, 0, 0, 0, 0, 0, 0, 0, 0, 0, 0, 0, 0, 0, 0, 0, 0, 0, 0, 0, 0, 0, 0, 0, 0, 0, 0, 0, 0, 0, 0, 0, 0, 0, 0, 0, 0, 0, 0, 0, 0, 0, 0, 0, 0, 0, 0, 0, 0, 0, 0, 0, 0, 0, 0, 0, 0, 0, 0, 0, 0, 0, 0, 0, 0, 0, 0, 0, 0, 0, 0, 0, 0, 0, 0, 0, 0, 0, 0, 0, 0, 0, 0, 0, 0, 0, 0, 0, 0, 0, 0, 0, 0, 0, 0, 0, 0, 0, 0, 0, 0, 0, 0, 0, 0, 0, 0, 0, 0, 0, 0, 0, 0, 0, 0, 0, 0, 0, 0, 0, 0, 0, 0, 0, 0, 0, 0, 0, 0, 0, 0, 0, 0, 0, 0, 0, 0, 0, 0, 0, 0, 0, 0, 0, 0, 0, 0, 0, 0, 0, 0, 0, 0, 0, 0, 0, 0, 0, 0, 0, 0, 0, 0, 0, 0, 0, 0, 0, 0, 0, 0, 0, 0, 0, 0, 0, 0, 0, 0, 0, 0, 0, 0, 0, 0, 0, 0, 0, 0, 0, 0, 0, 0, 0, 0, 0, 0, 0, 0, 0, 0, 0, 0, 0, 0, 0, 0, 0, 0, 0, 0, 0, 0, 0, 0, 0, 0, 0, 0, 0, 0, 0, 0, 0, 0, 0, 0, 0, 0, 0, 0, 0, 0, 0, 0, 0, 0, 0, 0, 0, 0, 0, 0, 0, 0, 0, 0, 0, 0, 0, 0, 0, 0, 0, 0, 0, 0, 0, 0, 0, 0, 0, 0, 0, 0, 0, 0, 0, 0, 0, 0, 0, 0, 0, 0, 0, 0, 0, 0, 0, 0, 0, 0, 0, 0, 0, 0, 0, 0, 0, 0, 0, 0, 0, 0, 0, 0, 0, 0, 0, 1, 0, 0, 0, 0, 0, 0, 0, 0, 0, 0, 0, 0, 0, 0, 0, 0, 0, 0, 0, 0, 0, 0, 0, 0, 0, 0, 0, 0, 0, 0, 0, 0, 0, 0, 0, 0, 0, 0, 0, 0, 0, 0, 0, 0, 0, 0, 0, 0, 0, 0, 0, 0, 0, 0, 0, 0, 0, 0, 0, 0, 0, 0, 0, 0, 0, 0, 0, 0, 0, 0, 0, 0, 0, 0, 0, 0, 0, 0, 0, 0, 0, 0, 0, 0, 0, 0, 0, 0, 0, 0, 0, 0, 0, 0, 0, 0, 0, 0, 0, 0, 0, 0, 0, 0, 0, 0, 0, 0, 0, 0, 2, 0, 0, 0, 0, 0, 0, 0, 0, 0, 0, 0, 0, 0, 0, 0, 0, 0, 0, 0, 0, 0, 0, 0, 0, 0, 0, 0, 0, 0, 0, 0, 0, 0, 0, 0, 0, 0, 0, 0, 0, 0, 0, 0, 0, 0, 0, 0, 0, 0, 0, 0, 0, 0, 0, 0, 0, 0, 0, 0, 0, 0, 0, 0, 0, 0, 0, 0, 0, 0, 0, 0, 0, 0, 0, 0, 0, 0, 0, 0, 0, 0, 0, 0, 0, 0, 0, 0, 0, 0, 0, 0, 0, 0, 0, 0, 0, 0, 0, 0, 0, 0, 0, 0, 0, 0, 0, 0, 0, 0, 0, 0, 0, 0, 0, 0, 0, 0, 0, 0, 0, 0, 0, 0, 0, 0, 0, 0, 0, 0, 0, 0, 0, 0, 0, 0, 0, 0, 0, 0, 0, 0, 0, 0, 0, 0, 0, 0, 0, 0, 0, 0, 0, 0, 0, 0, 0, 0, 0, 0, 0, 0, 0, 0, 0, 0, 0, 0, 0, 0, 0, 0, 0, 0, 0, 0, 0, 0, 0, 0, 0, 0, 0, 0, 0, 0, 0, 0, 0, 0, 0, 0, 0, 0, 0, 0, 0, 0, 0, 0, 0, 0, 0, 0, 0, 0, 0, 0, 0, 0, 0, 0, 0, 0, 0, 0, 0, 0, 0, 0, 0, 0, 0, 0, 0, 0, 0, 0, 0, 0, 0, 0, 0, 0, 0, 0, 0, 0, 0, 0, 0, 0, 0, 0, 0, 0, 0, 0, 0, 0, 0, 0, 0, 0, 0, 0, 0, 0, 0, 0, 0, 0, 0, 0, 0, 0, 0, 0, 0, 0, 0, 0, 0, 0, 0, 0, 0, 0, 0, 0, 0, 0, 0, 0, 0, 0, 0, 0, 0, 0, 0, 0, 0, 0, 0, 0, 0, 0, 0, 0, 0, 0, 0, 0, 0, 0, 0, 0, 0, 0, 0, 0, 0, 0, 0, 0, 0, 0, 0, 0, 0, 0, 0, 0, 0, 0, 0, 0, 0, 0, 0, 0, 0, 0, 0, 0, 0, 0, 0, 0, 0, 0, 0, 0, 0, 0, 0, 0, 0, 0, 0, 0, 0, 0, 0, 0, 0, 0, 0, 0, 0, 0, 0, 0, 0, 0, 0, 0, 0, 0, 0, 0, 0, 0, 0, 0, 0, 0, 0, 0, 0, 0, 0, 0, 0, 0, 0, 0, 0, 0, 0, 0, 0, 0, 0, 0, 0, 0, 0, 0, 0, 0, 0, 0, 0, 0, 0, 0, 0, 0, 0, 0, 0, 0, 0, 0, 0, 0, 0, 0, 0, 0, 0, 0, 0, 0, 0, 0, 0, 0, 0, 0, 0, 0, 0, 0, 0, 0, 0, 0, 0, 0, 0, 0, 0, 0, 0, 0, 0, 0, 0, 0, 0, 0, 0, 0, 0, 0, 0, 0, 0, 0, 0, 0, 0, 0, 0, 0, 0, 0, 0, 0, 0, 0, 0, 0, 0, 0, 0, 0, 0, 0, 0, 0, 0, 0, 0, 0, 0, 0, 0, 0, 0, 0, 0, 0, 0, 0, 0, 0, 0, 0, 0, 0, 0, 0, 0, 0, 0, 0, 0, 0, 0, 0, 0, 0, 0, 0, 0, 0, 0, 0, 0, 0, 0, 0, 0, 0, 0, 0, 0, 0, 0, 0, 0, 0, 0, 0, 0, 0, 0, 0, 0, 0, 0, 0, 0, 0, 0, 0, 0, 0, 0, 0, 0, 0, 0, 0, 0, 0, 0, 0, 0, 0, 0, 0, 0, 0, 0, 0, 0, 0, 0, 0, 0, 0, 0, 0, 0, 0, 0, 0, 0, 0, 0, 0, 0, 0, 0, 0, 0, 0, 0, 0, 0, 0, 0, 0, 0, 0, 0, 0, 0, 0, 0, 0, 0, 0, 0, 0, 0, 0, 0, 0, 0, 0, 0, 0, 0, 0, 0, 0, 0, 0, 0, 0, 0, 0, 0, 0, 0, 0, 0, 0, 0, 0, 0, 0, 0, 0, 0, 0, 0, 0, 0, 0, 0, 0, 0, 0, 0, 0, 0, 0, 0, 0, 0, 0, 0, 0, 0, 0, 0, 0, 0, 0, 0, 0, 0, 0, 0, 0, 0, 0, 0, 0, 0, 0, 0, 0, 0, 0, 0, 0, 0, 0, 0, 0, 0, 0, 0, 1, 0, 0, 0, 0, 0, 0, 0, 0, 0, 0, 0, 0, 0, 0, 0, 0, 0, 0, 0, 0, 0, 0, 0, 0, 0, 0, 0, 0, 0, 0, 0, 0, 0, 0, 0, 0, 0, 0, 0, 0, 0, 0, 0, 0, 0, 0, 0, 0, 0, 0, 0, 0, 0, 0, 0, 0, 0, 0, 0, 0, 0, 0, 0, 0, 0, 0, 0, 0, 0, 0, 0, 0, 0, 0, 0, 0, 0, 0, 0, 0, 0, 0, 0, 0, 0, 0, 0, 0, 0, 0, 0, 0, 0, 0, 0, 0, 0, 0, 0, 0, 0, 0, 0, 0, 0, 0, 0, 1, 0, 0, 0, 0, 0, 0, 0, 0, 0, 0, 0, 0, 0, 0, 0, 0, 0, 0, 0, 0, 0, 0, 0, 0, 0, 0, 0, 0, 0, 0, 0, 0, 0, 0, 0, 0, 0, 0, 0, 0, 0, 0, 0, 0, 0, 0, 0, 0, 0, 0, 0, 0, 0, 0, 0, 0, 0, 0, 0, 0, 0, 0, 0, 0, 0, 0, 0, 0, 0, 0, 0, 0, 0, 0, 0, 0, 0, 0, 0, 0, 0, 0, 0, 0, 0, 0, 0, 0, 0, 0, 0, 0, 0, 0, 0, 0, 0, 0, 0, 0, 0, 0, 0, 0, 0, 0, 0, 0, 0, 0, 0, 0, 0, 0, 0, 0, 0, 0, 0, 0, 0, 0, 0, 0, 0, 0, 0, 0, 0, 0, 0, 0, 0, 0, 0, 0, 0, 0, 0, 0, 0, 0, 0, 0, 0, 0, 0, 0, 0, 0, 0, 0, 0, 0, 0, 0, 0, 0, 0, 0, 0, 0, 0, 0, 0, 0, 0, 0, 0, 0, 0, 0, 0, 0, 0, 0, 0, 0, 0, 0, 0, 0, 0, 0, 0, 0, 0, 0, 0, 0, 0, 0, 0, 0, 0, 0, 0, 0, 0, 0, 0, 0, 0, 0, 0, 0, 0, 0, 0, 0, 0, 0, 0, 0, 0, 0, 0, 0, 0, 0, 0, 0, 0, 0, 0, 0, 0, 0, 0, 0, 0, 0, 0, 0, 0, 0, 0, 0, 0, 0, 0, 0, 0, 0, 0, 0, 0, 0, 0, 0, 0, 0, 0, 0, 0, 0, 0, 0, 0, 0, 0, 0, 0, 0, 0, 0, 0, 0, 0, 0, 0, 0, 0, 0, 0, 0, 0, 0, 0, 0, 0, 0, 0, 0, 0, 0, 0, 0, 0, 0, 0, 0, 0, 0, 0, 0, 0, 0, 0, 0, 0, 0, 0, 0, 0, 0, 0, 0, 0, 0, 0, 0, 0, 0, 0, 0, 0, 0, 0, 0, 0, 0, 0, 0, 0, 0, 0, 0, 0, 0, 0, 0, 0, 0, 0, 0, 0, 0, 0, 0, 0, 0, 0, 0, 0, 0, 0, 0, 0, 0, 0, 0, 0, 0, 0, 0, 0, 0, 0, 0, 0, 0, 0, 0, 0, 0, 0, 0, 0, 0, 0, 0, 0, 0, 0, 0, 0, 0, 0, 0, 0, 0, 0, 0, 0, 0, 0, 0, 0, 0, 0, 0, 0, 0, 0, 0, 0, 0, 0, 0, 0, 0, 0, 0, 0, 0, 0, 0, 0, 0, 0, 0, 0, 0, 0, 0, 0, 0, 0, 0, 0, 0, 0, 0, 0, 0, 0, 0, 0, 0, 0, 0, 0, 0, 0, 0, 0, 0, 0, 0, 0, 0, 0, 0, 0, 0, 0, 0, 0, 0, 0, 0, 0, 0, 0, 0, 0, 0, 0, 0, 0, 0, 0, 2, 0, 1, 0], type: <class 'list'>, valid types: <class 'bytes'>, <class 'bytearray'>, file-like object",
     "output_type": "error",
     "traceback": [
      "\u001b[0;31m---------------------------------------------------------------------------\u001b[0m",
      "\u001b[0;31mParamValidationError\u001b[0m                      Traceback (most recent call last)",
      "\u001b[0;32m<ipython-input-45-c9ab54ae3a48>\u001b[0m in \u001b[0;36m<module>\u001b[0;34m\u001b[0m\n\u001b[1;32m      1\u001b[0m response = runtime.invoke_endpoint(EndpointName = xgb_predictor.endpoint, # The name of the endpoint we created\n\u001b[1;32m      2\u001b[0m                                        \u001b[0mContentType\u001b[0m \u001b[0;34m=\u001b[0m \u001b[0;34m'text/csv'\u001b[0m\u001b[0;34m,\u001b[0m                     \u001b[0;31m# The data format that is expected\u001b[0m\u001b[0;34m\u001b[0m\u001b[0;34m\u001b[0m\u001b[0m\n\u001b[0;32m----> 3\u001b[0;31m                                        Body = test_bow)\n\u001b[0m",
      "\u001b[0;32m~/anaconda3/envs/python3/lib/python3.6/site-packages/botocore/client.py\u001b[0m in \u001b[0;36m_api_call\u001b[0;34m(self, *args, **kwargs)\u001b[0m\n\u001b[1;32m    314\u001b[0m                     \"%s() only accepts keyword arguments.\" % py_operation_name)\n\u001b[1;32m    315\u001b[0m             \u001b[0;31m# The \"self\" in this scope is referring to the BaseClient.\u001b[0m\u001b[0;34m\u001b[0m\u001b[0;34m\u001b[0m\u001b[0;34m\u001b[0m\u001b[0m\n\u001b[0;32m--> 316\u001b[0;31m             \u001b[0;32mreturn\u001b[0m \u001b[0mself\u001b[0m\u001b[0;34m.\u001b[0m\u001b[0m_make_api_call\u001b[0m\u001b[0;34m(\u001b[0m\u001b[0moperation_name\u001b[0m\u001b[0;34m,\u001b[0m \u001b[0mkwargs\u001b[0m\u001b[0;34m)\u001b[0m\u001b[0;34m\u001b[0m\u001b[0;34m\u001b[0m\u001b[0m\n\u001b[0m\u001b[1;32m    317\u001b[0m \u001b[0;34m\u001b[0m\u001b[0m\n\u001b[1;32m    318\u001b[0m         \u001b[0m_api_call\u001b[0m\u001b[0;34m.\u001b[0m\u001b[0m__name__\u001b[0m \u001b[0;34m=\u001b[0m \u001b[0mstr\u001b[0m\u001b[0;34m(\u001b[0m\u001b[0mpy_operation_name\u001b[0m\u001b[0;34m)\u001b[0m\u001b[0;34m\u001b[0m\u001b[0;34m\u001b[0m\u001b[0m\n",
      "\u001b[0;32m~/anaconda3/envs/python3/lib/python3.6/site-packages/botocore/client.py\u001b[0m in \u001b[0;36m_make_api_call\u001b[0;34m(self, operation_name, api_params)\u001b[0m\n\u001b[1;32m    606\u001b[0m         }\n\u001b[1;32m    607\u001b[0m         request_dict = self._convert_to_request_dict(\n\u001b[0;32m--> 608\u001b[0;31m             api_params, operation_model, context=request_context)\n\u001b[0m\u001b[1;32m    609\u001b[0m \u001b[0;34m\u001b[0m\u001b[0m\n\u001b[1;32m    610\u001b[0m         \u001b[0mservice_id\u001b[0m \u001b[0;34m=\u001b[0m \u001b[0mself\u001b[0m\u001b[0;34m.\u001b[0m\u001b[0m_service_model\u001b[0m\u001b[0;34m.\u001b[0m\u001b[0mservice_id\u001b[0m\u001b[0;34m.\u001b[0m\u001b[0mhyphenize\u001b[0m\u001b[0;34m(\u001b[0m\u001b[0;34m)\u001b[0m\u001b[0;34m\u001b[0m\u001b[0;34m\u001b[0m\u001b[0m\n",
      "\u001b[0;32m~/anaconda3/envs/python3/lib/python3.6/site-packages/botocore/client.py\u001b[0m in \u001b[0;36m_convert_to_request_dict\u001b[0;34m(self, api_params, operation_model, context)\u001b[0m\n\u001b[1;32m    654\u001b[0m             api_params, operation_model, context)\n\u001b[1;32m    655\u001b[0m         request_dict = self._serializer.serialize_to_request(\n\u001b[0;32m--> 656\u001b[0;31m             api_params, operation_model)\n\u001b[0m\u001b[1;32m    657\u001b[0m         \u001b[0;32mif\u001b[0m \u001b[0;32mnot\u001b[0m \u001b[0mself\u001b[0m\u001b[0;34m.\u001b[0m\u001b[0m_client_config\u001b[0m\u001b[0;34m.\u001b[0m\u001b[0minject_host_prefix\u001b[0m\u001b[0;34m:\u001b[0m\u001b[0;34m\u001b[0m\u001b[0;34m\u001b[0m\u001b[0m\n\u001b[1;32m    658\u001b[0m             \u001b[0mrequest_dict\u001b[0m\u001b[0;34m.\u001b[0m\u001b[0mpop\u001b[0m\u001b[0;34m(\u001b[0m\u001b[0;34m'host_prefix'\u001b[0m\u001b[0;34m,\u001b[0m \u001b[0;32mNone\u001b[0m\u001b[0;34m)\u001b[0m\u001b[0;34m\u001b[0m\u001b[0;34m\u001b[0m\u001b[0m\n",
      "\u001b[0;32m~/anaconda3/envs/python3/lib/python3.6/site-packages/botocore/validate.py\u001b[0m in \u001b[0;36mserialize_to_request\u001b[0;34m(self, parameters, operation_model)\u001b[0m\n\u001b[1;32m    295\u001b[0m                                                     operation_model.input_shape)\n\u001b[1;32m    296\u001b[0m             \u001b[0;32mif\u001b[0m \u001b[0mreport\u001b[0m\u001b[0;34m.\u001b[0m\u001b[0mhas_errors\u001b[0m\u001b[0;34m(\u001b[0m\u001b[0;34m)\u001b[0m\u001b[0;34m:\u001b[0m\u001b[0;34m\u001b[0m\u001b[0;34m\u001b[0m\u001b[0m\n\u001b[0;32m--> 297\u001b[0;31m                 \u001b[0;32mraise\u001b[0m \u001b[0mParamValidationError\u001b[0m\u001b[0;34m(\u001b[0m\u001b[0mreport\u001b[0m\u001b[0;34m=\u001b[0m\u001b[0mreport\u001b[0m\u001b[0;34m.\u001b[0m\u001b[0mgenerate_report\u001b[0m\u001b[0;34m(\u001b[0m\u001b[0;34m)\u001b[0m\u001b[0;34m)\u001b[0m\u001b[0;34m\u001b[0m\u001b[0;34m\u001b[0m\u001b[0m\n\u001b[0m\u001b[1;32m    298\u001b[0m         return self._serializer.serialize_to_request(parameters,\n\u001b[1;32m    299\u001b[0m                                                      operation_model)\n",
      "\u001b[0;31mParamValidationError\u001b[0m: Parameter validation failed:\nInvalid type for parameter Body, value: [0, 0, 0, 0, 0, 0, 0, 0, 0, 0, 0, 0, 0, 0, 0, 0, 0, 0, 0, 0, 0, 0, 0, 0, 0, 0, 0, 0, 0, 0, 0, 0, 0, 0, 0, 0, 0, 0, 0, 0, 0, 0, 0, 0, 0, 0, 0, 0, 0, 0, 0, 0, 0, 0, 0, 0, 0, 0, 0, 0, 0, 0, 0, 0, 0, 0, 0, 0, 0, 0, 0, 0, 0, 0, 0, 0, 0, 0, 0, 0, 0, 0, 0, 0, 0, 0, 0, 0, 0, 0, 0, 0, 0, 0, 0, 0, 0, 0, 0, 0, 0, 0, 0, 0, 0, 0, 0, 0, 0, 0, 0, 0, 0, 0, 0, 0, 0, 0, 0, 0, 0, 0, 0, 0, 0, 0, 0, 0, 0, 0, 0, 0, 0, 0, 0, 0, 0, 0, 0, 0, 0, 0, 0, 0, 0, 0, 0, 0, 0, 0, 0, 0, 0, 0, 0, 0, 0, 0, 0, 0, 0, 0, 0, 0, 0, 0, 0, 0, 0, 0, 0, 0, 0, 0, 0, 0, 0, 0, 0, 0, 0, 0, 0, 0, 0, 0, 0, 0, 0, 0, 0, 0, 0, 0, 0, 0, 0, 0, 0, 0, 0, 0, 0, 0, 0, 0, 0, 0, 0, 0, 0, 0, 0, 0, 0, 0, 0, 0, 0, 0, 0, 0, 0, 0, 0, 0, 1, 0, 0, 0, 0, 0, 0, 0, 0, 0, 0, 0, 0, 0, 0, 0, 0, 0, 0, 0, 0, 0, 0, 0, 0, 0, 0, 0, 0, 0, 1, 0, 0, 0, 0, 0, 0, 0, 0, 0, 0, 0, 0, 0, 0, 0, 0, 0, 0, 0, 0, 0, 0, 0, 0, 0, 0, 0, 0, 0, 0, 0, 0, 0, 0, 0, 0, 0, 0, 0, 0, 0, 0, 0, 0, 0, 0, 0, 0, 0, 0, 0, 0, 0, 0, 0, 0, 0, 0, 0, 0, 0, 0, 0, 0, 0, 0, 0, 0, 0, 0, 0, 0, 0, 0, 0, 0, 0, 0, 0, 0, 0, 0, 0, 0, 0, 0, 0, 0, 0, 0, 0, 0, 0, 0, 0, 0, 0, 0, 0, 0, 0, 0, 0, 0, 0, 0, 0, 0, 0, 0, 0, 0, 0, 0, 0, 0, 0, 0, 0, 0, 0, 0, 0, 0, 0, 0, 0, 0, 0, 0, 0, 0, 0, 0, 0, 0, 0, 0, 0, 0, 0, 0, 0, 0, 0, 0, 0, 0, 0, 0, 0, 0, 0, 0, 0, 0, 0, 0, 0, 0, 0, 0, 0, 0, 0, 0, 0, 0, 0, 0, 0, 0, 0, 0, 0, 0, 0, 0, 0, 0, 0, 0, 0, 0, 0, 0, 0, 0, 0, 0, 0, 0, 0, 0, 0, 0, 0, 0, 0, 0, 0, 0, 0, 0, 0, 0, 0, 0, 0, 0, 0, 0, 0, 0, 0, 0, 0, 0, 0, 0, 0, 0, 0, 0, 0, 0, 0, 0, 0, 0, 0, 0, 0, 0, 0, 0, 0, 0, 0, 0, 0, 0, 0, 0, 0, 0, 0, 0, 0, 0, 0, 0, 0, 0, 0, 0, 0, 0, 0, 0, 0, 0, 0, 0, 0, 0, 0, 0, 0, 0, 0, 0, 0, 0, 0, 0, 0, 0, 0, 0, 0, 0, 0, 0, 0, 0, 0, 0, 0, 0, 0, 0, 0, 0, 0, 0, 0, 0, 0, 0, 0, 0, 0, 0, 0, 0, 0, 0, 0, 0, 0, 0, 0, 0, 0, 0, 0, 0, 0, 0, 0, 0, 0, 0, 0, 0, 0, 0, 0, 0, 0, 0, 0, 0, 0, 0, 0, 0, 0, 0, 0, 0, 0, 0, 0, 0, 0, 0, 0, 0, 0, 0, 0, 0, 0, 0, 0, 0, 0, 0, 0, 0, 0, 0, 0, 0, 0, 0, 0, 0, 0, 0, 0, 0, 0, 0, 0, 0, 0, 1, 0, 0, 0, 0, 0, 0, 0, 0, 0, 0, 0, 0, 0, 0, 0, 0, 0, 0, 0, 0, 0, 0, 0, 0, 0, 0, 0, 0, 0, 0, 0, 0, 0, 0, 0, 0, 0, 0, 0, 0, 0, 0, 0, 0, 0, 0, 0, 0, 0, 0, 0, 0, 0, 0, 0, 0, 0, 0, 0, 0, 0, 0, 0, 0, 0, 0, 0, 0, 0, 0, 0, 0, 0, 0, 0, 0, 0, 0, 0, 0, 0, 0, 0, 0, 0, 0, 0, 0, 0, 0, 0, 0, 0, 0, 0, 0, 0, 0, 0, 0, 0, 0, 0, 0, 0, 0, 0, 0, 0, 0, 0, 0, 0, 0, 0, 0, 0, 0, 0, 0, 0, 0, 0, 0, 0, 0, 0, 0, 0, 0, 0, 0, 0, 0, 0, 0, 0, 0, 0, 0, 0, 0, 0, 0, 0, 0, 0, 0, 0, 0, 0, 0, 0, 0, 0, 0, 0, 0, 0, 0, 0, 0, 0, 0, 0, 0, 0, 0, 0, 0, 0, 0, 0, 0, 0, 0, 0, 0, 0, 0, 0, 0, 0, 0, 0, 0, 0, 0, 0, 0, 0, 0, 0, 0, 0, 0, 0, 0, 0, 0, 0, 0, 0, 0, 0, 0, 0, 0, 0, 0, 0, 0, 0, 0, 0, 0, 0, 0, 0, 0, 0, 0, 0, 0, 0, 0, 0, 0, 0, 0, 0, 0, 0, 0, 0, 0, 0, 0, 0, 0, 0, 0, 0, 0, 0, 0, 0, 0, 0, 0, 0, 0, 0, 1, 0, 0, 0, 0, 0, 0, 0, 0, 0, 0, 0, 0, 0, 0, 0, 0, 0, 0, 0, 0, 0, 0, 0, 0, 0, 0, 0, 0, 0, 0, 0, 0, 0, 0, 0, 0, 0, 0, 0, 0, 0, 0, 0, 0, 0, 0, 0, 0, 0, 0, 0, 0, 0, 0, 0, 0, 0, 0, 0, 0, 0, 0, 0, 0, 0, 0, 0, 0, 0, 0, 0, 0, 0, 0, 0, 0, 0, 0, 0, 0, 0, 0, 0, 0, 0, 0, 1, 0, 0, 0, 0, 0, 0, 0, 0, 0, 0, 0, 0, 0, 0, 0, 0, 0, 0, 0, 0, 0, 0, 0, 0, 0, 0, 0, 0, 0, 0, 0, 0, 0, 0, 0, 0, 0, 0, 0, 0, 0, 0, 0, 0, 0, 0, 0, 0, 0, 0, 0, 0, 0, 0, 0, 0, 0, 0, 0, 0, 0, 0, 0, 0, 0, 0, 0, 0, 0, 0, 0, 0, 0, 0, 0, 0, 0, 0, 0, 0, 0, 0, 0, 0, 0, 0, 0, 0, 0, 0, 0, 0, 0, 0, 0, 0, 0, 0, 0, 0, 0, 0, 0, 0, 0, 0, 0, 0, 0, 0, 0, 0, 0, 0, 0, 0, 0, 0, 0, 0, 0, 0, 0, 0, 0, 0, 0, 0, 0, 0, 0, 0, 0, 0, 0, 0, 0, 0, 0, 0, 0, 0, 0, 0, 0, 0, 0, 0, 0, 0, 0, 0, 0, 0, 0, 0, 0, 0, 0, 0, 0, 0, 0, 0, 0, 0, 0, 0, 0, 0, 0, 0, 0, 0, 0, 0, 0, 0, 0, 0, 0, 0, 0, 0, 0, 0, 0, 0, 0, 0, 0, 0, 0, 0, 0, 0, 0, 0, 0, 0, 0, 0, 0, 0, 0, 0, 0, 0, 0, 0, 0, 0, 0, 0, 0, 0, 0, 0, 0, 0, 0, 0, 0, 0, 0, 0, 0, 0, 0, 0, 0, 0, 0, 0, 0, 0, 0, 0, 0, 0, 0, 0, 0, 0, 0, 0, 0, 0, 0, 0, 0, 0, 1, 0, 0, 0, 0, 0, 0, 0, 0, 0, 0, 0, 0, 0, 0, 0, 0, 0, 0, 0, 0, 0, 0, 0, 0, 0, 0, 0, 0, 0, 0, 0, 0, 0, 0, 0, 0, 0, 0, 0, 0, 0, 0, 0, 0, 0, 0, 0, 0, 0, 0, 0, 0, 0, 0, 0, 1, 0, 0, 0, 0, 0, 0, 0, 0, 0, 0, 0, 0, 0, 0, 0, 0, 0, 0, 0, 0, 0, 0, 0, 0, 0, 0, 0, 0, 0, 0, 0, 0, 0, 0, 0, 0, 0, 0, 0, 0, 0, 0, 0, 0, 0, 0, 0, 0, 0, 0, 0, 0, 0, 0, 0, 0, 0, 0, 0, 0, 0, 0, 0, 0, 0, 0, 0, 0, 0, 0, 0, 0, 0, 0, 0, 0, 0, 0, 0, 0, 0, 0, 0, 0, 0, 0, 0, 0, 0, 0, 0, 0, 0, 0, 0, 0, 0, 0, 0, 0, 0, 0, 0, 0, 0, 0, 0, 0, 0, 0, 0, 0, 0, 0, 0, 0, 0, 0, 0, 0, 0, 0, 0, 0, 0, 0, 0, 0, 0, 0, 0, 0, 0, 0, 0, 0, 0, 0, 0, 0, 0, 0, 0, 0, 0, 0, 0, 0, 0, 0, 0, 0, 0, 0, 0, 0, 0, 0, 0, 0, 0, 0, 0, 0, 0, 0, 0, 0, 0, 0, 0, 0, 0, 0, 0, 0, 0, 0, 0, 0, 0, 0, 0, 0, 0, 0, 0, 0, 0, 0, 0, 0, 0, 0, 0, 0, 0, 0, 0, 0, 0, 0, 0, 0, 0, 0, 0, 0, 0, 0, 0, 0, 0, 0, 0, 0, 0, 0, 0, 0, 0, 0, 0, 0, 0, 0, 0, 0, 0, 0, 0, 0, 0, 0, 0, 0, 0, 0, 0, 0, 0, 0, 0, 0, 0, 0, 0, 0, 0, 0, 0, 0, 0, 0, 0, 0, 0, 0, 0, 0, 0, 0, 0, 0, 0, 0, 0, 0, 0, 0, 0, 0, 0, 0, 0, 0, 0, 0, 0, 0, 0, 0, 0, 0, 0, 0, 0, 0, 0, 0, 0, 0, 0, 0, 0, 0, 0, 0, 0, 0, 0, 0, 0, 0, 0, 0, 0, 0, 0, 0, 0, 0, 0, 0, 0, 0, 0, 0, 0, 0, 0, 0, 0, 0, 0, 0, 0, 0, 0, 0, 0, 0, 0, 0, 0, 0, 0, 0, 0, 0, 0, 0, 0, 0, 0, 0, 0, 0, 0, 0, 0, 0, 0, 0, 0, 0, 0, 0, 0, 0, 0, 0, 0, 0, 0, 0, 0, 0, 0, 0, 0, 0, 0, 0, 0, 0, 0, 0, 0, 0, 0, 0, 0, 0, 0, 0, 0, 0, 0, 0, 0, 0, 0, 0, 0, 0, 0, 0, 0, 0, 0, 0, 0, 0, 0, 0, 0, 0, 0, 0, 0, 0, 0, 0, 0, 0, 0, 0, 0, 0, 0, 0, 0, 0, 0, 0, 0, 0, 0, 0, 0, 0, 0, 0, 0, 0, 0, 0, 0, 0, 0, 0, 0, 0, 0, 0, 0, 0, 0, 0, 0, 0, 0, 0, 0, 0, 0, 0, 0, 0, 0, 0, 0, 0, 0, 0, 0, 0, 0, 0, 0, 0, 0, 0, 0, 0, 0, 0, 0, 0, 0, 0, 0, 0, 0, 0, 0, 0, 0, 0, 0, 0, 0, 0, 0, 0, 0, 0, 0, 0, 0, 0, 0, 0, 0, 0, 0, 0, 0, 0, 0, 0, 0, 0, 0, 0, 0, 0, 0, 0, 0, 0, 0, 0, 0, 0, 0, 0, 0, 0, 0, 0, 0, 0, 0, 0, 0, 0, 0, 0, 0, 0, 0, 0, 0, 0, 0, 0, 0, 0, 0, 0, 0, 0, 0, 0, 0, 0, 0, 0, 0, 0, 0, 0, 0, 0, 0, 0, 0, 0, 0, 0, 0, 0, 0, 0, 0, 0, 0, 0, 0, 0, 0, 0, 0, 0, 0, 0, 0, 0, 0, 0, 0, 0, 0, 0, 0, 0, 0, 0, 0, 0, 0, 0, 0, 0, 0, 0, 0, 0, 0, 0, 0, 0, 0, 0, 0, 0, 0, 0, 0, 0, 0, 0, 0, 0, 0, 0, 0, 0, 0, 0, 0, 0, 0, 0, 0, 0, 0, 0, 0, 0, 0, 0, 0, 0, 0, 0, 0, 0, 0, 0, 0, 0, 0, 0, 0, 0, 0, 0, 0, 0, 0, 0, 0, 0, 0, 0, 0, 0, 0, 0, 0, 0, 0, 0, 0, 0, 0, 0, 0, 1, 0, 0, 0, 0, 0, 0, 0, 0, 0, 0, 0, 0, 0, 0, 0, 0, 0, 0, 0, 0, 0, 0, 0, 0, 0, 0, 0, 0, 0, 0, 0, 0, 0, 0, 0, 0, 0, 0, 0, 0, 0, 0, 0, 0, 0, 0, 0, 0, 0, 0, 0, 0, 0, 0, 0, 0, 0, 0, 0, 0, 0, 0, 0, 0, 0, 0, 0, 0, 0, 0, 0, 0, 0, 0, 1, 0, 0, 0, 0, 0, 0, 0, 0, 0, 0, 0, 0, 0, 0, 0, 0, 0, 0, 0, 0, 1, 0, 0, 1, 0, 0, 0, 0, 0, 0, 0, 0, 0, 0, 0, 0, 0, 0, 0, 0, 0, 0, 0, 0, 0, 0, 0, 0, 0, 0, 0, 0, 0, 0, 0, 0, 0, 0, 0, 0, 0, 0, 0, 0, 0, 0, 0, 0, 0, 0, 0, 0, 0, 0, 0, 0, 0, 0, 0, 0, 0, 0, 0, 0, 0, 0, 0, 0, 0, 0, 0, 0, 0, 0, 0, 0, 0, 0, 0, 0, 0, 0, 0, 0, 0, 0, 0, 0, 0, 0, 0, 0, 0, 0, 0, 0, 0, 0, 0, 0, 0, 0, 0, 0, 0, 0, 0, 0, 0, 0, 0, 0, 0, 0, 0, 0, 0, 0, 0, 0, 0, 0, 0, 0, 0, 0, 0, 0, 0, 0, 0, 0, 0, 0, 0, 0, 0, 0, 0, 0, 0, 0, 0, 0, 0, 0, 0, 0, 0, 0, 0, 0, 0, 0, 0, 0, 0, 0, 0, 0, 0, 0, 0, 0, 0, 0, 0, 0, 0, 0, 0, 0, 0, 0, 0, 0, 0, 0, 0, 0, 0, 0, 0, 0, 0, 0, 0, 0, 0, 0, 0, 0, 0, 0, 0, 0, 0, 0, 0, 0, 0, 0, 0, 0, 0, 0, 0, 0, 0, 0, 0, 0, 0, 0, 0, 0, 0, 0, 0, 0, 0, 0, 0, 0, 0, 0, 0, 0, 0, 0, 0, 0, 0, 0, 0, 0, 0, 0, 0, 0, 0, 0, 0, 0, 0, 0, 0, 0, 0, 0, 0, 0, 0, 0, 0, 0, 0, 0, 0, 0, 0, 0, 0, 0, 0, 0, 0, 0, 0, 0, 0, 0, 0, 0, 0, 0, 0, 0, 0, 0, 0, 0, 0, 0, 0, 0, 0, 0, 0, 0, 0, 0, 0, 0, 0, 0, 0, 0, 0, 0, 0, 0, 0, 0, 0, 0, 0, 0, 0, 0, 0, 0, 0, 0, 0, 0, 0, 0, 0, 0, 0, 0, 0, 0, 0, 0, 0, 0, 0, 0, 0, 0, 0, 0, 0, 0, 0, 0, 0, 0, 0, 0, 0, 0, 0, 0, 0, 0, 0, 0, 0, 0, 0, 0, 0, 0, 0, 0, 0, 0, 0, 0, 0, 0, 0, 0, 0, 0, 0, 0, 0, 0, 0, 0, 0, 0, 0, 0, 0, 0, 0, 0, 0, 0, 0, 0, 0, 0, 0, 0, 0, 0, 0, 0, 0, 0, 0, 0, 0, 0, 0, 0, 0, 0, 0, 0, 0, 0, 0, 0, 0, 0, 0, 0, 0, 0, 0, 0, 0, 0, 0, 0, 0, 0, 0, 0, 0, 0, 0, 0, 0, 0, 0, 0, 0, 0, 0, 0, 0, 0, 0, 0, 0, 0, 0, 0, 0, 0, 0, 0, 0, 0, 0, 0, 0, 0, 0, 0, 0, 0, 0, 0, 0, 0, 0, 0, 0, 0, 0, 0, 1, 0, 0, 0, 0, 0, 0, 0, 0, 0, 0, 0, 0, 0, 0, 0, 0, 0, 0, 0, 0, 0, 0, 0, 0, 0, 0, 0, 0, 0, 0, 0, 0, 0, 0, 0, 0, 0, 0, 0, 0, 0, 0, 0, 0, 0, 0, 0, 0, 0, 0, 0, 0, 0, 0, 0, 0, 0, 0, 0, 0, 0, 0, 0, 0, 0, 0, 0, 0, 0, 0, 0, 0, 0, 0, 0, 0, 0, 0, 0, 0, 0, 0, 0, 0, 0, 0, 0, 0, 0, 0, 0, 0, 0, 0, 0, 0, 0, 0, 0, 0, 0, 0, 0, 0, 0, 0, 0, 0, 0, 0, 0, 0, 0, 0, 0, 0, 0, 0, 0, 0, 0, 0, 0, 0, 0, 0, 0, 0, 0, 0, 0, 0, 0, 0, 0, 0, 0, 0, 0, 0, 0, 0, 0, 0, 0, 0, 0, 0, 0, 0, 0, 0, 0, 0, 0, 0, 0, 0, 0, 0, 0, 0, 0, 0, 0, 0, 0, 0, 0, 0, 0, 0, 0, 0, 0, 0, 0, 0, 0, 0, 0, 0, 0, 0, 0, 0, 0, 0, 0, 0, 0, 0, 0, 0, 0, 0, 0, 0, 0, 0, 0, 0, 0, 0, 0, 0, 0, 0, 0, 0, 0, 0, 0, 0, 0, 0, 0, 0, 0, 0, 0, 0, 0, 0, 0, 0, 0, 0, 0, 0, 0, 0, 0, 0, 0, 0, 0, 0, 0, 0, 0, 0, 0, 0, 0, 0, 0, 0, 0, 0, 0, 0, 0, 0, 0, 0, 0, 0, 0, 0, 0, 0, 0, 0, 0, 0, 0, 0, 0, 0, 0, 0, 0, 0, 0, 0, 0, 0, 0, 0, 0, 0, 0, 0, 0, 0, 0, 0, 0, 0, 0, 0, 0, 0, 0, 0, 0, 0, 0, 0, 0, 0, 0, 0, 0, 0, 0, 0, 0, 0, 0, 0, 0, 0, 0, 0, 0, 0, 0, 0, 0, 0, 0, 0, 0, 0, 0, 0, 0, 0, 0, 0, 0, 0, 0, 0, 0, 0, 0, 0, 0, 0, 0, 0, 0, 0, 0, 0, 0, 0, 0, 0, 0, 0, 0, 0, 0, 0, 0, 0, 0, 0, 0, 0, 0, 0, 0, 0, 0, 0, 0, 0, 0, 0, 0, 0, 0, 0, 0, 0, 0, 0, 0, 0, 0, 0, 0, 0, 0, 0, 0, 0, 0, 0, 0, 0, 0, 0, 0, 0, 0, 0, 0, 0, 0, 0, 0, 0, 0, 0, 0, 0, 0, 0, 0, 0, 0, 0, 0, 0, 0, 0, 0, 0, 0, 0, 0, 0, 0, 0, 0, 0, 0, 0, 0, 0, 0, 0, 0, 0, 0, 0, 0, 0, 0, 0, 0, 0, 0, 0, 0, 0, 0, 0, 0, 0, 0, 0, 0, 0, 0, 0, 0, 0, 0, 0, 0, 0, 0, 0, 0, 0, 0, 0, 0, 0, 0, 0, 0, 0, 0, 0, 0, 0, 0, 0, 0, 0, 0, 0, 0, 0, 0, 0, 0, 0, 0, 0, 0, 0, 0, 0, 0, 0, 0, 0, 0, 0, 0, 0, 0, 0, 1, 0, 0, 0, 0, 0, 0, 0, 0, 0, 0, 0, 0, 0, 0, 0, 0, 0, 0, 0, 0, 0, 0, 0, 0, 0, 0, 0, 0, 0, 0, 0, 0, 0, 0, 0, 2, 0, 0, 0, 0, 0, 0, 0, 0, 0, 0, 0, 0, 0, 0, 0, 0, 0, 0, 0, 0, 0, 0, 0, 0, 0, 0, 0, 0, 0, 0, 0, 0, 0, 0, 0, 0, 0, 0, 0, 0, 1, 0, 0, 0, 0, 0, 0, 0, 0, 0, 0, 0, 0, 0, 0, 0, 0, 0, 0, 0, 0, 0, 0, 0, 0, 0, 0, 0, 0, 0, 0, 0, 0, 0, 0, 0, 0, 0, 0, 0, 0, 0, 0, 0, 0, 0, 0, 0, 0, 0, 0, 0, 0, 0, 0, 0, 0, 0, 0, 0, 0, 0, 0, 0, 0, 0, 0, 0, 0, 0, 0, 0, 0, 0, 0, 0, 0, 0, 0, 0, 0, 0, 0, 0, 0, 0, 0, 0, 0, 0, 0, 0, 0, 0, 0, 0, 0, 0, 0, 0, 0, 0, 0, 0, 0, 0, 0, 0, 0, 0, 0, 0, 0, 0, 0, 0, 0, 0, 0, 0, 0, 0, 0, 0, 0, 0, 0, 0, 0, 0, 0, 0, 0, 0, 0, 0, 0, 0, 0, 0, 0, 0, 0, 0, 0, 0, 0, 0, 0, 0, 0, 0, 0, 0, 0, 0, 0, 0, 0, 0, 0, 0, 0, 0, 0, 0, 0, 0, 0, 0, 0, 0, 0, 0, 0, 0, 0, 0, 0, 0, 0, 0, 0, 0, 0, 0, 0, 0, 0, 0, 0, 0, 0, 0, 0, 0, 0, 0, 0, 0, 0, 0, 0, 0, 0, 0, 0, 0, 0, 0, 0, 0, 0, 0, 0, 0, 0, 0, 0, 0, 0, 0, 0, 0, 0, 0, 0, 0, 0, 0, 0, 0, 0, 0, 0, 0, 0, 0, 0, 0, 0, 0, 0, 0, 0, 0, 0, 0, 0, 0, 0, 0, 0, 0, 0, 0, 0, 0, 0, 0, 0, 0, 0, 0, 0, 0, 0, 0, 0, 0, 0, 0, 0, 0, 0, 0, 0, 0, 0, 0, 0, 0, 0, 0, 0, 0, 0, 0, 0, 0, 0, 0, 0, 0, 0, 0, 0, 0, 0, 0, 0, 0, 0, 0, 0, 0, 0, 0, 0, 0, 0, 0, 0, 0, 0, 0, 0, 0, 0, 0, 0, 0, 0, 0, 0, 0, 0, 0, 0, 0, 0, 0, 0, 0, 0, 0, 0, 0, 0, 0, 0, 0, 0, 0, 0, 0, 0, 0, 0, 0, 0, 0, 0, 0, 0, 0, 0, 0, 0, 0, 0, 0, 0, 0, 0, 0, 0, 0, 0, 0, 0, 0, 0, 0, 0, 0, 0, 0, 0, 0, 0, 0, 0, 0, 0, 0, 0, 0, 0, 0, 0, 0, 0, 0, 0, 0, 0, 0, 0, 0, 0, 0, 0, 0, 0, 0, 0, 0, 0, 0, 0, 0, 0, 0, 0, 0, 0, 0, 0, 0, 0, 0, 0, 0, 0, 0, 0, 0, 0, 0, 0, 0, 0, 0, 0, 0, 0, 0, 0, 0, 0, 0, 0, 0, 0, 0, 0, 0, 0, 0, 0, 0, 0, 0, 0, 0, 0, 0, 0, 0, 0, 0, 0, 0, 0, 0, 0, 0, 0, 0, 0, 0, 0, 0, 0, 0, 0, 0, 0, 0, 0, 0, 0, 0, 0, 0, 0, 0, 0, 0, 0, 0, 0, 0, 0, 0, 0, 0, 1, 0, 0, 0, 0, 0, 0, 0, 0, 0, 0, 0, 0, 0, 0, 0, 0, 0, 0, 0, 0, 0, 0, 0, 0, 0, 0, 0, 0, 0, 0, 0, 0, 0, 0, 0, 0, 0, 0, 0, 0, 0, 0, 0, 0, 0, 0, 0, 0, 0, 0, 0, 0, 0, 0, 0, 0, 0, 0, 0, 0, 0, 0, 0, 0, 0, 0, 0, 0, 0, 0, 0, 0, 0, 0, 0, 0, 0, 0, 0, 0, 0, 0, 0, 0, 0, 0, 0, 0, 0, 0, 0, 0, 0, 0, 0, 0, 0, 0, 0, 0, 0, 0, 0, 0, 0, 0, 0, 0, 0, 0, 2, 0, 0, 0, 0, 0, 0, 0, 0, 0, 0, 0, 0, 0, 0, 0, 0, 0, 0, 0, 0, 0, 0, 0, 0, 0, 0, 0, 0, 0, 0, 0, 0, 0, 0, 0, 0, 0, 0, 0, 0, 0, 0, 0, 0, 0, 0, 0, 0, 0, 0, 0, 0, 0, 0, 0, 0, 0, 0, 0, 0, 0, 0, 0, 0, 0, 0, 0, 0, 0, 0, 0, 0, 0, 0, 0, 0, 0, 0, 0, 0, 0, 0, 0, 0, 0, 0, 0, 0, 0, 0, 0, 0, 0, 0, 0, 0, 0, 0, 0, 0, 0, 0, 0, 0, 0, 0, 0, 0, 0, 0, 0, 0, 0, 0, 0, 0, 0, 0, 0, 0, 0, 0, 0, 0, 0, 0, 0, 0, 0, 0, 0, 0, 0, 0, 0, 0, 0, 0, 0, 0, 0, 0, 0, 0, 0, 0, 0, 0, 0, 0, 0, 0, 0, 0, 0, 0, 0, 0, 0, 0, 0, 0, 0, 0, 0, 0, 0, 0, 0, 0, 0, 0, 0, 0, 0, 0, 0, 0, 0, 0, 0, 0, 0, 0, 0, 0, 0, 0, 0, 0, 0, 0, 0, 0, 0, 0, 0, 0, 0, 0, 0, 0, 0, 0, 0, 0, 0, 0, 0, 0, 0, 0, 0, 0, 0, 0, 0, 0, 0, 0, 0, 0, 0, 0, 0, 0, 0, 0, 0, 0, 0, 0, 0, 0, 0, 0, 0, 0, 0, 0, 0, 0, 0, 0, 0, 0, 0, 0, 0, 0, 0, 0, 0, 0, 0, 0, 0, 0, 0, 0, 0, 0, 0, 0, 0, 0, 0, 0, 0, 0, 0, 0, 0, 0, 0, 0, 0, 0, 0, 0, 0, 0, 0, 0, 0, 0, 0, 0, 0, 0, 0, 0, 0, 0, 0, 0, 0, 0, 0, 0, 0, 0, 0, 0, 0, 0, 0, 0, 0, 0, 0, 0, 0, 0, 0, 0, 0, 0, 0, 0, 0, 0, 0, 0, 0, 0, 0, 0, 0, 0, 0, 0, 0, 0, 0, 0, 0, 0, 0, 0, 0, 0, 0, 0, 0, 0, 0, 0, 0, 0, 0, 0, 0, 0, 0, 0, 0, 0, 0, 0, 0, 0, 0, 0, 0, 0, 0, 0, 0, 0, 0, 0, 0, 0, 0, 0, 0, 0, 0, 0, 0, 0, 0, 0, 0, 0, 0, 0, 0, 0, 0, 0, 0, 0, 0, 0, 0, 0, 0, 0, 0, 0, 0, 0, 0, 0, 0, 0, 0, 0, 0, 0, 0, 0, 0, 0, 0, 0, 0, 0, 0, 0, 0, 0, 0, 0, 0, 0, 0, 0, 0, 0, 0, 0, 0, 0, 0, 0, 0, 0, 0, 0, 0, 0, 0, 0, 0, 0, 0, 0, 0, 0, 0, 0, 0, 0, 0, 0, 0, 0, 0, 0, 0, 0, 0, 0, 0, 0, 0, 0, 0, 0, 0, 0, 0, 0, 0, 0, 0, 0, 0, 0, 0, 0, 0, 0, 0, 0, 0, 0, 0, 0, 0, 0, 0, 0, 0, 0, 0, 0, 0, 0, 0, 0, 0, 0, 0, 0, 0, 0, 0, 0, 0, 0, 0, 0, 0, 0, 0, 0, 0, 0, 0, 0, 0, 0, 0, 0, 0, 0, 0, 0, 0, 0, 0, 0, 0, 0, 0, 0, 0, 0, 0, 0, 0, 0, 0, 0, 0, 0, 0, 0, 0, 0, 0, 0, 0, 0, 0, 0, 0, 0, 0, 0, 0, 0, 0, 0, 0, 0, 0, 0, 0, 0, 0, 0, 0, 0, 0, 0, 0, 0, 0, 0, 0, 0, 0, 0, 0, 0, 0, 0, 0, 0, 0, 0, 0, 0, 0, 0, 0, 0, 0, 0, 0, 0, 0, 0, 0, 0, 0, 0, 0, 0, 0, 0, 0, 0, 0, 0, 0, 0, 0, 0, 0, 0, 0, 0, 0, 0, 0, 0, 0, 0, 0, 0, 0, 0, 0, 0, 0, 0, 0, 0, 0, 0, 0, 0, 0, 0, 0, 0, 0, 0, 0, 0, 0, 0, 0, 0, 0, 0, 0, 0, 0, 0, 0, 0, 0, 0, 0, 0, 0, 0, 0, 0, 0, 0, 0, 0, 0, 0, 0, 0, 0, 0, 0, 0, 0, 0, 1, 0, 0, 0, 0, 0, 0, 0, 0, 0, 0, 0, 0, 0, 0, 0, 0, 0, 0, 0, 0, 0, 0, 0, 0, 0, 0, 0, 0, 0, 0, 0, 0, 0, 0, 0, 0, 0, 0, 0, 0, 0, 0, 0, 0, 0, 0, 0, 0, 0, 0, 0, 0, 0, 0, 0, 0, 0, 0, 0, 0, 0, 0, 0, 0, 0, 0, 0, 0, 0, 0, 0, 0, 0, 0, 0, 0, 0, 0, 0, 0, 0, 0, 0, 0, 0, 0, 0, 0, 0, 0, 0, 0, 0, 0, 0, 0, 0, 0, 0, 0, 0, 0, 0, 0, 0, 0, 0, 1, 0, 0, 0, 0, 0, 0, 0, 0, 0, 0, 0, 0, 0, 0, 0, 0, 0, 0, 0, 0, 0, 0, 0, 0, 0, 0, 0, 0, 0, 0, 0, 0, 0, 0, 0, 0, 0, 0, 0, 0, 0, 0, 0, 0, 0, 0, 0, 0, 0, 0, 0, 0, 0, 0, 0, 0, 0, 0, 0, 0, 0, 0, 0, 0, 0, 0, 0, 0, 0, 0, 0, 0, 0, 0, 0, 0, 0, 0, 0, 0, 0, 0, 0, 0, 0, 0, 0, 0, 0, 0, 0, 0, 0, 0, 0, 0, 0, 0, 0, 0, 0, 0, 0, 0, 0, 0, 0, 0, 0, 0, 0, 0, 0, 0, 0, 0, 0, 0, 0, 0, 0, 0, 0, 0, 0, 0, 0, 0, 0, 0, 0, 0, 0, 0, 0, 0, 0, 0, 0, 0, 0, 0, 0, 0, 0, 0, 0, 0, 0, 0, 0, 0, 0, 0, 0, 0, 0, 0, 0, 0, 0, 0, 0, 0, 0, 0, 0, 0, 0, 0, 0, 0, 0, 0, 0, 0, 0, 0, 0, 0, 0, 0, 0, 0, 0, 0, 0, 0, 0, 0, 0, 0, 0, 0, 0, 0, 0, 0, 0, 0, 0, 0, 0, 0, 0, 0, 0, 0, 0, 0, 0, 0, 0, 0, 0, 0, 0, 0, 0, 0, 0, 0, 0, 0, 0, 0, 0, 0, 0, 0, 0, 0, 0, 0, 0, 0, 0, 0, 0, 0, 0, 0, 0, 0, 0, 0, 0, 0, 0, 0, 0, 0, 0, 0, 0, 0, 0, 0, 0, 0, 0, 0, 0, 0, 0, 0, 0, 0, 0, 0, 0, 0, 0, 0, 0, 0, 0, 0, 0, 0, 0, 0, 0, 0, 0, 0, 0, 0, 0, 0, 0, 0, 0, 0, 0, 0, 0, 0, 0, 0, 0, 0, 0, 0, 0, 0, 0, 0, 0, 0, 0, 0, 0, 0, 0, 0, 0, 0, 0, 0, 0, 0, 0, 0, 0, 0, 0, 0, 0, 0, 0, 0, 0, 0, 0, 0, 0, 0, 0, 0, 0, 0, 0, 0, 0, 0, 0, 0, 0, 0, 0, 0, 0, 0, 0, 0, 0, 0, 0, 0, 0, 0, 0, 0, 0, 0, 0, 0, 0, 0, 0, 0, 0, 0, 0, 0, 0, 0, 0, 0, 0, 0, 0, 0, 0, 0, 0, 0, 0, 0, 0, 0, 0, 0, 0, 0, 0, 0, 0, 0, 0, 0, 0, 0, 0, 0, 0, 0, 0, 0, 0, 0, 0, 0, 0, 0, 0, 0, 0, 0, 0, 0, 0, 0, 0, 0, 0, 0, 0, 0, 0, 0, 0, 0, 0, 0, 0, 0, 0, 0, 0, 0, 0, 0, 0, 0, 0, 0, 0, 0, 0, 0, 0, 0, 0, 0, 0, 0, 0, 0, 0, 0, 0, 2, 0, 1, 0], type: <class 'list'>, valid types: <class 'bytes'>, <class 'bytearray'>, file-like object"
     ]
    }
   ],
   "source": [
    "response = runtime.invoke_endpoint(EndpointName = xgb_predictor.endpoint, # The name of the endpoint we created\n",
    "                                       ContentType = 'text/csv',                     # The data format that is expected\n",
    "                                       Body = test_bow)"
   ]
  },
  {
   "cell_type": "markdown",
   "metadata": {},
   "source": [
    "So why did we get an error?\n",
    "\n",
    "Because we tried to send the endpoint a list of integers but it expected us to send data of type `text/csv`. So, we need to convert it."
   ]
  },
  {
   "cell_type": "code",
   "execution_count": 46,
   "metadata": {},
   "outputs": [],
   "source": [
    "response = runtime.invoke_endpoint(EndpointName = xgb_predictor.endpoint, # The name of the endpoint we created\n",
    "                                       ContentType = 'text/csv',                     # The data format that is expected\n",
    "                                       Body = ','.join([str(val) for val in test_bow]).encode('utf-8'))"
   ]
  },
  {
   "cell_type": "code",
   "execution_count": 47,
   "metadata": {},
   "outputs": [
    {
     "name": "stdout",
     "output_type": "stream",
     "text": [
      "{'ResponseMetadata': {'RequestId': '151069ef-8f68-4364-a359-ab4e1bfbb6d7', 'HTTPStatusCode': 200, 'HTTPHeaders': {'x-amzn-requestid': '151069ef-8f68-4364-a359-ab4e1bfbb6d7', 'x-amzn-invoked-production-variant': 'AllTraffic', 'date': 'Mon, 3 Aug 2020 13:53:15 GMT', 'content-type': 'text/csv; charset=utf-8', 'content-length': '14'}, 'RetryAttempts': 0}, 'ContentType': 'text/csv; charset=utf-8', 'InvokedProductionVariant': 'AllTraffic', 'Body': <botocore.response.StreamingBody object at 0x7f3739c96d68>}\n"
     ]
    }
   ],
   "source": [
    "print(response)"
   ]
  },
  {
   "cell_type": "markdown",
   "metadata": {},
   "source": [
    "As we can see, the response from our model is a somewhat complicated looking dict that contains a bunch of information. The bit that we are most interested in is `'Body'` object which is a streaming object that we need to `read` in order to make use of."
   ]
  },
  {
   "cell_type": "code",
   "execution_count": 48,
   "metadata": {},
   "outputs": [
    {
     "name": "stdout",
     "output_type": "stream",
     "text": [
      "0.482617765665\n"
     ]
    }
   ],
   "source": [
    "response = response['Body'].read().decode('utf-8') # decode to convert it to a string\n",
    "print(response)"
   ]
  },
  {
   "cell_type": "markdown",
   "metadata": {},
   "source": [
    "Now that we know how to process the incoming user data we can start setting up the infrastructure to make our simple web app work. To do this we will make use of two different services. Amazon's Lambda and API Gateway services.\n",
    "\n",
    "Lambda is a service which allows someone to write some relatively simple code and have it executed whenever a chosen trigger occurs. For example, you may want to update a database whenever new data is uploaded to a folder stored on S3.\n",
    "\n",
    "API Gateway is a service that allows you to create HTTP endpoints (url addresses) which are connected to other AWS services. One of the benefits to this is that you get to decide what credentials, if any, are required to access these endpoints.\n",
    "\n",
    "In our case we are going to set up an HTTP endpoint through API Gateway which is open to the public. Then, whenever anyone sends data to our public endpoint we will trigger a Lambda function which will send the input (in our case a review) to our model's endpoint and then return the result."
   ]
  },
  {
   "cell_type": "markdown",
   "metadata": {},
   "source": [
    "### Setting up a Lambda function\n",
    "\n",
    "The first thing we are going to do is set up a Lambda function. This Lambda function will be executed whenever our public API has data sent to it. When it is executed it will receive the data, perform any sort of processing that is required, send the data (the review) to the SageMaker endpoint we've created and then return the result.\n",
    "\n",
    "#### Part A: Create an IAM Role for the Lambda function\n",
    "\n",
    "Since we want the Lambda function to call a SageMaker endpoint, we need to make sure that it has permission to do so. To do this, we will construct a role that we can later give the Lambda function.\n",
    "\n",
    "Using the AWS Console, navigate to the **IAM** page and click on **Roles**. Then, click on **Create role**. Make sure that the **AWS service** is the type of trusted entity selected and choose **Lambda** as the service that will use this role, then click **Next: Permissions**.\n",
    "\n",
    "In the search box type `sagemaker` and select the check box next to the **AmazonSageMakerFullAccess** policy. Then, click on **Next: Review**.\n",
    "\n",
    "Lastly, give this role a name. Make sure you use a name that you will remember later on, for example `LambdaSageMakerRole`. Then, click on **Create role**."
   ]
  },
  {
   "cell_type": "markdown",
   "metadata": {},
   "source": [
    "#### Part B: Create a Lambda function\n",
    "\n",
    "Now it is time to actually create the Lambda function. Remember from earlier that in order to process the user provided input and send it to our endpoint we need to gather two pieces of information:\n",
    "\n",
    " - The name of the endpoint, and\n",
    " - the vocabulary object.\n",
    "\n",
    "We will copy these pieces of information to our Lambda function after we create it.\n",
    "\n",
    "To start, using the AWS Console, navigate to the AWS Lambda page and click on **Create a function**. When you get to the next page, make sure that **Author from scratch** is selected. Now, name your Lambda function, using a name that you will remember later on, for example `sentiment_analysis_xgboost_func`. Make sure that the **Python 3.6** runtime is selected and then choose the role that you created in the previous part. Then, click on **Create Function**.\n",
    "\n",
    "On the next page you will see some information about the Lambda function you've just created. If you scroll down you should see an editor in which you can write the code that will be executed when your Lambda function is triggered. Collecting the code we wrote above to process a single review and adding it to the provided example `lambda_handler` we arrive at the following.\n",
    "\n",
    "```python\n",
    "# We need to use the low-level library to interact with SageMaker since the SageMaker API\n",
    "# is not available natively through Lambda.\n",
    "import boto3\n",
    "\n",
    "# And we need the regular expression library to do some of the data processing\n",
    "import re\n",
    "\n",
    "REPLACE_NO_SPACE = re.compile(\"(\\.)|(\\;)|(\\:)|(\\!)|(\\')|(\\?)|(\\,)|(\\\")|(\\()|(\\))|(\\[)|(\\])\")\n",
    "REPLACE_WITH_SPACE = re.compile(\"(<br\\s*/><br\\s*/>)|(\\-)|(\\/)\")\n",
    "\n",
    "def review_to_words(review):\n",
    "    words = REPLACE_NO_SPACE.sub(\"\", review.lower())\n",
    "    words = REPLACE_WITH_SPACE.sub(\" \", words)\n",
    "    return words\n",
    "    \n",
    "def bow_encoding(words, vocabulary):\n",
    "    bow = [0] * len(vocabulary) # Start by setting the count for each word in the vocabulary to zero.\n",
    "    for word in words.split():  # For each word in the string\n",
    "        if word in vocabulary:  # If the word is one that occurs in the vocabulary, increase its count.\n",
    "            bow[vocabulary[word]] += 1\n",
    "    return bow\n",
    "\n",
    "\n",
    "def lambda_handler(event, context):\n",
    "    \n",
    "    vocab = \"*** ACTUAL VOCABULARY GOES HERE ***\"\n",
    "    \n",
    "    words = review_to_words(event['body'])\n",
    "    bow = bow_encoding(words, vocab)\n",
    "\n",
    "    # The SageMaker runtime is what allows us to invoke the endpoint that we've created.\n",
    "    runtime = boto3.Session().client('sagemaker-runtime')\n",
    "\n",
    "    # Now we use the SageMaker runtime to invoke our endpoint, sending the review we were given\n",
    "    response = runtime.invoke_endpoint(EndpointName = '***ENDPOINT NAME HERE***',# The name of the endpoint we created\n",
    "                                       ContentType = 'text/csv',                 # The data format that is expected\n",
    "                                       Body = ','.join([str(val) for val in bow]).encode('utf-8')) # The actual review\n",
    "\n",
    "    # The response is an HTTP response whose body contains the result of our inference\n",
    "    result = response['Body'].read().decode('utf-8')\n",
    "    \n",
    "    # Round the result so that our web app only gets '1' or '0' as a response.\n",
    "    result = round(float(result))\n",
    "\n",
    "    return {\n",
    "        'statusCode' : 200,\n",
    "        'headers' : { 'Content-Type' : 'text/plain', 'Access-Control-Allow-Origin' : '*' },\n",
    "        'body' : str(result)\n",
    "    }\n",
    "```"
   ]
  },
  {
   "cell_type": "markdown",
   "metadata": {},
   "source": [
    "Once you have copy and pasted the code above into the Lambda code editor, replace the `**ENDPOINT NAME HERE**` portion with the name of the endpoint that we deployed earlier. You can determine the name of the endpoint using the code cell below."
   ]
  },
  {
   "cell_type": "code",
   "execution_count": 50,
   "metadata": {},
   "outputs": [
    {
     "data": {
      "text/plain": [
       "'xgboost-2020-08-03-13-18-08-666'"
      ]
     },
     "execution_count": 50,
     "metadata": {},
     "output_type": "execute_result"
    }
   ],
   "source": [
    "xgb_predictor.endpoint"
   ]
  },
  {
   "cell_type": "markdown",
   "metadata": {},
   "source": [
    "In addition, you will need to copy the vocabulary dict to the appropriate place in the code at the beginning of the `lambda_handler` method. The cell below prints out the vocabulary dict in a way that is easy to copy and paste."
   ]
  },
  {
   "cell_type": "code",
   "execution_count": 51,
   "metadata": {},
   "outputs": [
    {
     "name": "stdout",
     "output_type": "stream",
     "text": [
      "{'couldnt': 1008, 'watch': 4811, 'more': 2904, 'than': 4420, '14': 6, 'minutes': 2859, 'of': 3083, 'it': 2366, 'its': 2370, 'great': 1964, 'combination': 883, 'really': 3556, 'bad': 382, 'acting': 99, 'and': 226, 'directing': 1260, 'the': 4426, 'shots': 3950, 'used': 4693, 'are': 285, 'disgusting': 1286, 'they': 4442, 'broke': 593, 'angle': 236, 'all': 187, 'time': 4495, 'my': 2951, 'head': 2057, 'hurts': 2203, 'try': 4600, 'to': 4507, 'that': 4424, 'load': 2631, 'you': 4986, 'know': 2489, 'what': 4858, 'on': 3105, 'mystery': 2956, 'machine': 2693, 'window': 4894, 'make': 2713, 'see': 3855, 'light': 2595, 'from': 1840, 'lighting': 2596, 'else': 1448, 'so': 4046, 'badly': 383, 'just': 2437, 'want': 4788, 'scream': 3826, 'at': 331, 'lady': 2507, 'there': 4438, 'only': 3110, 'directed': 1259, 'short': 3946, 'films': 1721, 'but': 636, 'im': 2232, 'pretty': 3384, 'sure': 4308, 'id': 2212, 'be': 418, 'way': 4820, 'better': 472, 'feature': 1678, 'film': 1716, 'story': 4207, 'is': 2360, 'unbelievable': 4634, 'long': 2644, 'french': 1830, 'kissing': 2484, 'scene': 3809, 'beginning': 443, 'tell': 4395, 'gonna': 1936, 'awful': 372, 'much': 2934, 'avoid': 363, 'this': 4457, 'movies': 2927, 'cost': 1003, 'itll': 2369, 'save': 3794, 'bucks': 606, 'or': 3124, 'for': 1784, 'rental': 3627, 'hour': 2176, 'your': 4991, 'life': 2592, 'youll': 4988, 'never': 3001, 'get': 1899, 'back': 378, 'thought': 4462, 'spirit': 4113, 'was': 4805, 'movie': 2926, 'however': 2183, 'were': 4848, 'few': 1700, 'things': 4451, 'stop': 4201, 'me': 2778, 'rating': 3529, 'higher': 2101, 'being': 448, 'little': 2624, 'bit': 488, 'generous': 1886, 'with': 4911, 'point': 3316, 'matt': 2768, 'damon': 1101, 'thinking': 4453, 'voice': 4761, 'got': 1944, 'main': 2707, 'character': 758, 'when': 4862, 'first': 1736, 'heard': 2062, 'him': 2110, 'then': 4436, 'realized': 3553, 'man': 2721, 'bugs': 613, 'very': 4723, 'his': 2118, 'performance': 3228, 'in': 2257, 'terrible': 4407, 'ruined': 3751, 'before': 440, 'chance': 747, 'ruin': 3750, 'itself': 2371, 'thats': 4425, 'another': 250, 'some': 4061, 'other': 3135, 'as': 311, 'almost': 193, 'did': 1241, 'able': 66, 'past': 3207, 'fact': 1621, 'because': 432, 'how': 2181, 'narration': 2965, 'actually': 109, 'thankfully': 4422, 'brian': 576, 'adams': 112, 'sucks': 4271, 'whole': 4873, 'score': 3822, 'songs': 4072, 'unoriginal': 4673, 'generic': 1885, 'poorly': 3329, 'executed': 1565, 'not': 3040, 'once': 3106, 'find': 1726, 'music': 2946, 'fit': 1740, 'lyrics': 2692, 'every': 1539, 'one': 3107, 'lame': 2510, 'came': 656, 'turned': 4606, 'off': 3084, 'start': 4156, 'hearing': 2063, 'propaganda': 3435, 'into': 2332, 'super': 4295, 'american': 213, 'freedom': 1828, 'style': 4249, 'help': 2079, 'reminded': 3619, 'those': 4460, 'played': 3297, 'radio': 3504, 'constantly': 958, 'after': 143, '11': 2, 'native': 2972, 'aspects': 322, 'should': 3951, 'have': 2052, 'gone': 1935, 'fitting': 1742, 'using': 4698, 'right': 3696, 'petty': 3249, 'hit': 2122, 'teen': 4388, 'year': 4978, 'old': 3100, 'girl': 1909, 'crap': 1031, 'junior': 2435, 'high': 2100, 'school': 3813, 'cant': 671, 'believe': 454, 'no': 3020, 'could': 1007, 'been': 438, 'done': 1322, 'had': 2003, 'rank': 3518, 'up': 4683, 'disney': 1289, 'which': 4867, 'knows': 2493, 'thing': 4450, 'two': 4620, 'about': 67, 'originality': 3130, 'ok': 3098, 'dont': 1324, 'bother': 548, 'saying': 3800, 'probably': 3407, 'too': 4522, 'shame': 3918, 'hired': 2117, 'liked': 2600, 'art': 304, 'animation': 242, 'except': 1556, 'here': 2086, 'like': 2599, 'sometimes': 4067, 'angles': 237, 'appear': 273, 'sharp': 3922, 'face': 1616, 'lines': 2612, 'thick': 4447, 'dark': 1115, 'body': 527, 'mainly': 2708, 'near': 2979, 'end': 1468, 'often': 3095, 'times': 4497, 'emotion': 1458, 'facial': 1619, 'expressions': 1603, 'failed': 1626, 'drawing': 1350, 'any': 256, 'real': 3547, 'also': 199, 'ran': 3513, 'many': 2732, 'scenes': 3811, 'lazy': 2543, 'apparent': 269, 'falling': 1639, 'asleep': 320, 'ill': 2228, 'sum': 4289, 'making': 2718, 'less': 2575, 'sense': 3877, 'nice': 3008, 'an': 223, 'epic': 1506, 'out': 3141, 'mediocre': 2791, 'though': 4461, 'suck': 4269, 'woody': 4936, 'second': 3846, 'set': 3898, 'london': 2641, 'card': 681, 'murderer': 2941, 'killing': 2472, 'journalist': 2420, 'gets': 1900, 'he': 2056, 'may': 2775, 'lord': 2652, 'peter': 3247, 'hugh': 2186, 'she': 3923, 'starts': 4159, 'romance': 3732, 'quickly': 3491, 'falls': 1640, 'love': 2669, 'shes': 3930, 'helped': 2080, 'by': 642, 'stage': 4139, 'sid': 3964, 'allen': 188, 'who': 4871, 'doesnt': 1309, 'sees': 3866, 'over': 3148, 'rated': 3527, 'match': 2762, 'last': 2521, 'moved': 2922, 'plot': 3309, 'entertained': 1498, 'kept': 2456, 'guessing': 1991, 'till': 4493, 'comedy': 890, 'good': 1937, 'comedic': 888, 'course': 1019, 'best': 469, 'far': 1653, 'worst': 4952, 'most': 2909, 'part': 3193, 'hes': 2093, 'million': 2847, 'gotten': 1947, 'tiresome': 4502, 'look': 2646, 'fantastic': 1651, 'give': 1912, 'appealing': 272, 'believable': 453, 'performances': 3229, 'surprisingly': 4316, 'works': 4945, 'their': 4431, 'sex': 3907, 'appeal': 271, 'sequence': 3887, 'where': 4864, 'theyre': 4445, 'both': 547, 'suits': 4287, 'show': 3953, 'bodies': 526, 'still': 4188, 'seems': 3864, 'shot': 3949, 'maybe': 2776, 'hell': 2077, 'goes': 1930, 'along': 195, 'worth': 4953, 'seeing': 3857, 'several': 3905, 'people': 3221, 'watched': 4813, 'place': 3282, 'filmed': 1717, 'live': 2625, 'if': 2222, 'lived': 2626, 'wouldnt': 4958, 'mentioning': 2812, 'review': 3676, 'horrid': 2165, 'reviews': 3679, 'state': 4160, 'spoof': 4127, 'tongue': 4518, 'cheek': 779, 'horror': 2168, 'neither': 2996, 'sad': 3767, 'makes': 2716, 'attempt': 340, 'well': 4843, 'laugh': 2529, 'unbelievably': 4635, 'has': 2043, 'going': 1931, 'mask': 2752, 'weapon': 4828, 'choice': 797, 'unfortunately': 4654, 'would': 4957, 'interesting': 2325, 'watching': 4815, 'half': 2007, 'table': 4346, 'garbage': 1870, 'social': 4049, 'commentary': 899, 'behind': 447, 'laughable': 2530, 'juvenile': 2441, 'stupid': 4247, 'youve': 4995, 'already': 197, 'wasted': 4809, 'reading': 3544, 'waste': 4808, 'anymore': 258, 'even': 1533, 'made': 2697, 'expecting': 1578, 'entire': 1502, 'cast': 710, 'crew': 1053, 'alan': 171, 'name': 2960, 'person': 3238, 'usually': 4700, 'director': 1264, 'nothing': 3047, 'redeeming': 3577, 'spent': 4108, 'feel': 1684, 'ripped': 3701, '10': 0, 'sat': 3786, 'through': 4477, 'enjoyable': 1485, 'fast': 1661, 'paced': 3162, '45': 50, 'roll': 3728, 'country': 1014, 'boy': 557, 'dreams': 1355, 'becoming': 435, 'sports': 4130, 'star': 4150, 'travels': 4569, 'city': 825, 'picked': 3266, 'cousin': 1021, 'george': 1893, 'plan': 3287, 'anyway': 261, 'involved': 2346, 'gangster': 1868, 'tiny': 4500, 'john': 2409, 'delivery': 1173, 'needless': 2989, 'say': 3799, 'dragged': 1343, 'georges': 1894, 'world': 4946, 'respect': 3652, 'while': 4868, 'enjoy': 1484, 'together': 4511, 'outstanding': 3147, 'job': 2405, 'each': 1395, 'cops': 993, 'david': 1124, 'brought': 600, 'comic': 893, 'relief': 3605, 'likable': 2598, 'favourite': 1673, 'characters': 760, 'hands': 2020, 'cities': 823, 'grew': 1972, '20': 29, 'years': 4979, 'especially': 1520, 'rocks': 3722, 'effective': 1429, 'thriller': 4472, 'michelle': 2830, 'successful': 4266, 'professional': 3421, 'couple': 1016, 'writer': 4968, 'photographer': 3259, 'desperate': 1208, 'move': 2921, 'california': 650, 'act': 97, 'agrees': 157, 'condition': 937, 'visit': 4755, 'historical': 2119, 'interest': 2323, 'concerning': 933, 'famous': 1647, 'serial': 3889, 'killers': 2471, 'idea': 2213, 'writes': 4970, 'words': 4938, 'takes': 4351, 'pictures': 3270, 'result': 3660, 'coffee': 870, 'book': 535, 'will': 4886, 'them': 4432, 'trip': 4588, 'decide': 1148, 'car': 680, 'share': 3920, 'luck': 2681, 'brad': 560, 'pitt': 3280, 'shortly': 3947, 'girlfriend': 1910, 'lewis': 2586, 'meet': 2793, 'begin': 442, 'cross': 1066, 'trek': 4578, 'inevitably': 2283, 'ensues': 1493, 'genuinely': 1892, 'inspiring': 2302, 'early': 1400, 'playing': 3300, 'her': 2085, 'white': 4870, 'trash': 4565, 'setting': 3900, 'convincing': 985, 'double': 1331, 'events': 1536, 'control': 977, 'viewer': 4738, 'sucked': 4270, 'plight': 3308, 'can': 665, 'tension': 4404, 'intelligent': 2314, 'sinister': 3998, 'beautifully': 429, 'deserves': 1201, 'recognition': 3568, 'beyond': 476, 'current': 1084, 'status': 4165, 'top': 4525, 'note': 3044, 'previous': 3387, 'reviewer': 3677, 'science': 3816, 'fiction': 1702, 'adaptation': 113, 'according': 88, 'screenwriter': 3833, 'whether': 4866, 'references': 3583, 'painful': 3171, 'basis': 408, 'admit': 122, 'adapted': 114, 'term': 4405, 'flick': 1754, 'didnt': 1242, 'come': 886, 'author': 359, 'studio': 4240, 'wanted': 4789, 'damn': 1100, 'fun': 1848, 'during': 1387, 'helps': 2082, 'add': 115, 'big': 478, 'budget': 610, 'remake': 3612, 'do': 1302, 'screenplay': 3831, 'justice': 2438, 'dream': 1354, 'potential': 3355, 'dvd': 1391, 'release': 3602, 'extras': 1608, 'apparently': 270, 'available': 361, 'think': 4452, 'play': 3296, 'players': 3299, 'expert': 1585, 'thus': 4486, 'trying': 4601, 'figure': 1711, 'now': 3054, 'vhs': 4725, 'ive': 2372, 'handful': 2017, 'episodes': 1508, 'seemed': 3862, 'completely': 922, 'different': 1248, 'next': 3007, 'season': 3843, 'producers': 3416, 'decided': 1149, 'drop': 1369, 'introduce': 2336, 'new': 3003, 'ones': 3108, 'dynamic': 1394, 'quirky': 3493, 'unpredictable': 4675, 'teenager': 4390, 'holly': 2136, 'amanda': 205, 'moves': 2925, 'sister': 4001, 'york': 4985, 'decent': 1147, 'enough': 1491, 'premise': 3370, 'odd': 3080, 'fish': 1738, 'water': 4816, 'miss': 2866, 'misses': 2868, 'mark': 2739, 'funny': 1852, 'repeatedly': 3632, 'talent': 4354, 'everything': 1544, 'changing': 752, 'living': 2629, 'regular': 3592, 'suddenly': 4273, 'opens': 3115, 'change': 749, 'feeling': 1685, 'mean': 2779, 'sets': 3899, 'written': 4972, 'side': 3965, 'television': 4394, 'huge': 2185, 'manhattan': 2726, 'serious': 3891, 'considered': 951, 'myself': 2953, 'student': 4238, 'comes': 891, 'form': 1798, 'opinion': 3118, 'changed': 750, 'without': 4913, 'doubt': 1332, 'inept': 2281, 'ever': 1538, 'seen': 3865, 'kid': 2464, 'university': 4667, 'spielberg': 4110, 'needs': 2990, 'handed': 2016, 'titled': 4505, 'makers': 2715, 'werent': 4849, 'competent': 917, 'since': 3990, 'saw': 3798, 'opening': 3114, 'ending': 1471, 'having': 2054, 'teeth': 4393, 'pulled': 3462, 'alright': 198, 'dying': 1393, 'whos': 4876, 'land': 2511, 'friend': 1835, 'rented': 3628, 'we': 4823, 'started': 4157, 'supposed': 4306, 'until': 4680, 'does': 1308, 'theres': 4440, 'close': 853, 'absolutely': 72, 'amazing': 209, 'anyways': 262, 'realize': 3552, 'similarities': 3979, 'ie': 2221, 'stealing': 4171, 'low': 2676, 'indie': 2276, 'actress': 105, 'read': 3543, 'power': 3359, 'stolen': 4195, 'lets': 2580, 'couldve': 1009, 'lot': 2661, 'jokes': 2415, 'fall': 1637, 'flat': 1748, 'wasnt': 4807, 'totally': 4532, 'reason': 3557, 'awesome': 371, 'fan': 1648, 'keeps': 2451, 'wish': 4904, 'hadnt': 2004, 'shows': 3960, 'kinds': 2478, 'drugs': 1374, 'alcohol': 176, 'eating': 1413, 'faces': 1618, 'weve': 4856, 'accomplished': 87, 'player': 3298, 'young': 4989, 'need': 2987, 'showing': 3958, 'follow': 1772, 'ups': 4686, 'aired': 165, 'havent': 2053, 'please': 3304, 'sunday': 4293, 'nights': 3016, 'remember': 3616, 'hate': 2046, 'hoping': 2160, 'disappointed': 1273, 'everyone': 1542, 'downright': 1337, 'reasons': 3560, 'mentioned': 2811, 'might': 2835, 'agree': 155, 'gave': 1875, 'deserved': 1200, 'upon': 4684, 'said': 3774, 'am': 204, 'quite': 3495, 'ashamed': 312, 'taking': 4352, 'same': 3778, 'someone': 4064, 'commented': 900, 'definitely': 1162, 'lacks': 2505, 'looking': 2648, 'females': 1694, 'let': 2579, 'wow': 4962, 'depth': 1190, 'mind': 2849, 'hardly': 2036, 'philosophical': 3253, 'seriously': 3892, 'lack': 2502, 'shouldnt': 3952, 'essential': 1522, 'youre': 4992, 'types': 4622, 'necessarily': 2983, 'sci': 3815, 'fi': 1701, 'category': 718, 'wild': 4885, 'ride': 3692, 'training': 4558, 'soldiers': 4054, 'fighting': 1709, 'war': 4792, 'drama': 1346, 'constant': 957, 'horrors': 2169, 'boot': 538, 'camp': 662, 'actors': 104, 'humorous': 2193, 'deals': 1137, 'matthew': 2772, 'davis': 1126, 'throughout': 4478, 'storyline': 4208, 'helping': 2081, 'innovative': 2295, 'free': 1827, 'hand': 2015, 'filming': 1718, 'certain': 737, 'taste': 4369, 'moving': 2928, 'action': 100, 'confusion': 943, 'others': 3136, 'increasingly': 2268, 'realistic': 3550, 'points': 3319, 'particular': 3194, 'tad': 4347, 'added': 116, 'effect': 1428, 'gritty': 1977, 'superb': 4296, 'promised': 3431, 'unintentional': 4658, 'entertainment': 1500, 'value': 4709, 'surprised': 4313, 'put': 3480, 'basketball': 409, 'professor': 3422, 'doing': 1312, 'research': 3644, 'human': 2188, 'hopes': 2159, 'cure': 1081, 'aging': 153, 'hasnt': 2044, 'trouble': 4592, 'trial': 4580, 'monkey': 2890, 'dies': 1245, 'tries': 4585, 'himself': 2111, 'relationship': 3597, 'single': 3996, 'mother': 2911, 'extremely': 1610, 'annoying': 249, 'results': 3662, 'initially': 2291, 'effects': 1431, 'strength': 4219, 'realizes': 3554, 'memory': 2804, 'loss': 2659, 'happened': 2027, 'named': 2961, 'eventually': 1537, 'something': 4066, 'wont': 4932, 'eyes': 1613, 'either': 1438, 'crappy': 1032, 'costume': 1005, 'actor': 103, 'wearing': 4831, 'incredibly': 2270, 'further': 1853, 'store': 4204, 'absurd': 73, 'laura': 2536, 'small': 4033, 'video': 4733, 'box': 555, 'plastic': 3294, 'possibly': 3351, 'perhaps': 3235, 'occasionally': 3075, 'turn': 4605, 'green': 1971, 'copy': 994, 'showed': 3956, 'tear': 4379, 'marks': 2742, 'held': 2074, 'removed': 3624, 'onto': 3111, 'getting': 1901, 'rid': 3690, 'waiting': 4772, 'superhero': 4299, 'men': 2805, 'among': 217, 'classic': 835, 'strip': 4228, 'tv': 4610, 'batman': 413, 'captain': 674, 'cartoons': 705, 'lives': 2628, 'tone': 4517, 'courage': 1018, 'heroic': 2090, 'risk': 3704, 'ridiculous': 3693, 'these': 4441, 'manage': 2722, 'weak': 4824, 'ordinary': 3128, 'wonderful': 4928, 'bright': 581, 'party': 3200, 'home': 2142, 'energy': 1478, 'looks': 2649, 'feels': 1687, 'red': 3576, 'crash': 1033, 'expect': 1575, 'tom': 4514, 'plays': 3301, 'weapons': 4829, 'ladies': 2506, 'eighties': 1437, 'stand': 4143, 'excitement': 1562, 'neil': 2995, 'introduction': 2339, 'trio': 4587, 'william': 4887, 'macy': 2695, 'blue': 518, 'hank': 2024, 'mr': 2929, 'ben': 463, 'stiller': 4189, 'seem': 3861, 'nowhere': 3056, 'day': 1129, 'problems': 3409, 'care': 684, 'go': 1924, 'villain': 4744, 'frankenstein': 1822, 'rest': 3657, 'rush': 3759, 'wrong': 4973, 'conflict': 939, 'between': 475, 'evil': 1548, 'hope': 2155, 'adventures': 131, 'dry': 1377, 'paul': 3214, 'freeman': 1829, 'lost': 2660, 'instead': 2307, 'fully': 1847, 'ideas': 2215, 'running': 3756, 'anyone': 259, 'tie': 4488, 'problem': 3408, 'whatever': 4859, 'kind': 2476, 'mess': 2818, 'always': 203, 'roles': 3727, 'exception': 1557, 'such': 4268, 'away': 369, 'hed': 2072, 'learned': 2551, 'growing': 1983, 'household': 2179, 'run': 3755, 'jerry': 2396, 'anne': 246, 'roy': 3745, 'related': 3594, 'overly': 3155, 'sensitive': 3879, 'popular': 3333, 'waitress': 4773, 'favorite': 1671, 'claire': 831, 'wisdom': 4902, 'fellow': 1691, 'wes': 4851, 'giving': 1915, 'member': 2800, 'group': 1980, 'funniest': 1851, 'moments': 2887, 'screen': 3829, 'hard': 2033, 'exactly': 1551, 'mary': 2751, 'proves': 3447, 'true': 4596, 'funnier': 1850, 'daughter': 1121, 'father': 1666, 'okay': 3099, 'dead': 1132, 'ball': 388, 'sue': 4274, 'role': 3726, 'emily': 1456, 'talks': 4361, 'god': 1926, 'breaking': 570, 'waves': 4819, 'version': 4720, 'die': 1243, 'ring': 3698, 'difficult': 1249, 'understand': 4643, 'whats': 4860, 'attracted': 349, 'eddie': 1416, 'alone': 194, 'drive': 1363, 'edge': 1418, 'adorable': 124, 'son': 4070, 'says': 3801, 'daddy': 1096, 'standing': 4146, 'rate': 3526, 'wit': 4908, 'whose': 4877, 'moment': 2886, 'bare': 398, 'louise': 2666, 'decades': 1145, 'took': 4523, 'jay': 2386, 'mitchell': 2875, 'invisible': 2344, 'lena': 2568, 'sight': 3969, 'kapoor': 2443, 'piece': 3272, 'sleep': 4024, 'disappointing': 1274, 'cinemas': 817, 'weekend': 4838, 'week': 4837, 'audience': 352, 'granted': 1957, 'filmmakers': 1720, 'common': 906, 'theyve': 4446, 'stars': 4155, 'youd': 4987, 'describe': 1194, 'road': 3709, 'directions': 1262, 'khan': 2459, 'jimmy': 2403, 'cliff': 847, 'call': 651, 'executive': 1567, 'teach': 4374, 'english': 1483, 'ambitious': 211, 'cool': 989, 'eye': 1611, 'gangsters': 1869, 'assistant': 326, 'uses': 4697, 'boss': 546, '25': 40, 'determined': 1221, 'money': 2888, 'akshay': 169, 'faithful': 1634, 'tracks': 4545, 'down': 1335, 'hidden': 2096, 'across': 96, 'length': 2569, 'script': 3834, 'fails': 1628, 'connect': 944, 'coherent': 871, 'traditional': 4550, 'three': 4469, 'structure': 4233, 'pieces': 3273, 'around': 297, 'loosely': 2651, 'constructed': 959, 'song': 4071, 'desert': 1198, 'bullet': 620, 'complete': 921, 'dirty': 1268, 'horse': 2170, 'driven': 1365, 'neat': 2982, 'larger': 2519, 'picture': 3269, 'seemingly': 3863, 'sentimental': 3882, 'flashback': 1746, 'track': 4544, 'childhood': 790, 'nobody': 3022, 'associated': 327, 'knew': 2486, 'cared': 685, 'elements': 1443, 'genre': 1888, 'mix': 2876, 'work': 4940, 'kill': 2468, 'kills': 2474, 'finish': 1732, 'camera': 659, 'exotic': 1574, 'locations': 2636, 'fancy': 1649, 'costumes': 1006, 'frame': 1815, 'hollow': 2135, 'hold': 2129, 'narrative': 2966, 'stephen': 4176, 'blend': 504, 'thin': 4449, 'engaging': 1481, 'dialogue': 1234, 'unable': 4631, 'feet': 1688, 'meanwhile': 2785, 'queen': 3485, 'extent': 1605, 'thanks': 4423, 'presence': 3373, 'approach': 282, 'cringe': 1059, 'delivers': 1172, 'meaning': 2780, 'dialogues': 1235, 'take': 4349, 'misery': 2865, 'test': 4416, 'case': 707, 'means': 2783, 'sorry': 4076, 'none': 3028, 'friends': 1837, 'gabriel': 1859, 'terrifying': 4410, 'assault': 324, 'deadly': 1133, 'final': 1722, 'revenge': 3675, 'explain': 1586, 'feelings': 1686, 'mission': 2870, 'similar': 3978, 'called': 652, 'elephant': 1444, 'why': 4878, 'bring': 585, 'compare': 911, 'difference': 1246, 'ask': 316, 'blair': 497, 'witch': 4909, 'project': 3427, 'painfully': 3172, 'won': 4925, 'willing': 4889, 'unlike': 4670, 'actions': 101, 'sympathetic': 4342, 'black': 493, 'honest': 2146, 'cried': 1054, 'beings': 449, 'logic': 2638, 'attention': 345, 'overall': 3150, 'emotionally': 1460, 'gripping': 1976, 'haunting': 2051, 're': 3535, 'curious': 1083, 'non': 3027, 'shock': 3938, 'boring': 543, 'tale': 4353, 'gag': 1861, 'house': 2178, 'jeff': 2390, 'east': 1407, 'paying': 3217, 'charles': 764, 'martin': 2748, 'smith': 4038, 'acted': 98, 'cinematic': 818, 'lucas': 2680, 'sam': 3777, 'tape': 4365, 'belongs': 460, 'talked': 4359, 'shelley': 3928, 'drink': 1361, 'smoke': 4039, 'arent': 288, 'qualities': 3483, 'yes': 4982, 'pick': 3265, 'towards': 4540, 'rent': 3626, 'trust': 4598, 'absolute': 71, 'michael': 2829, 'figured': 1712, 'fair': 1630, '80': 58, 'missed': 2867, 'buy': 640, 'original': 3129, 'gun': 1996, 'elvis': 1451, 'king': 2479, 'imdb': 2240, 'imagine': 2238, 'cut': 1089, 'open': 3112, 'listen': 2619, 'german': 1896, 'ironic': 2355, 'stuff': 4243, 'yeah': 4977, 'telling': 4396, 'yourself': 4993, 'pain': 3170, 'died': 1244, 'plus': 3311, 'found': 1811, 'letters': 2582, 'jessica': 2398, 'bag': 384, 'hospital': 2172, 'police': 3322, 'patient': 3211, 'drunk': 1375, 'doctor': 1304, 'anything': 260, 'despite': 1211, 'count': 1010, 'mistakes': 2873, 'wrote': 4974, 'above': 68, 'drew': 1360, 'complicated': 925, 'leaves': 2556, 'apartment': 265, 'coming': 896, 'strange': 4211, 'happen': 2026, 'seeks': 3860, 'brother': 598, 'mental': 2808, 'killed': 2469, 'halloween': 2010, 'night': 3013, 'surprises': 4314, 'horrible': 2163, 'number': 3060, 'lower': 2677, 'looked': 2647, 'resort': 3650, 'somewhere': 4069, 'joe': 2407, 'join': 2412, 'forever': 1792, 'astaire': 330, 'rogers': 3725, 'popularity': 3334, 'americans': 214, 'navy': 2976, 'dance': 1103, 'wwii': 4975, 'fred': 1825, 'ginger': 1908, 'town': 4541, 'cares': 690, 'notice': 3048, 'cameo': 657, 'betty': 474, 'berlin': 467, 'including': 2264, 'heavy': 2070, 'dress': 1357, 'keeping': 2450, 'dancing': 1107, 'nonetheless': 3029, 'dancer': 1104, 'step': 4175, 'motion': 2913, 'heres': 2087, 'loved': 2670, 'kick': 2460, 'shoes': 3941, 'maker': 2714, 'darkness': 1117, 'important': 2247, 'our': 3139, 'credits': 1050, 'committed': 905, 'nor': 3032, 'parties': 3196, 'mention': 2810, 'excellent': 1555, 'obviously': 3072, 'harsh': 2040, 'credit': 1049, 'accidentally': 85, 'production': 3419, 'values': 4710, 'special': 4097, 'indeed': 2271, 'strong': 4229, 'cinematography': 820, 'efforts': 1433, 'worked': 4941, 'thank': 4421, 'title': 4504, 'poster': 3353, 'obvious': 3071, 'rip': 3700, 'fly': 1763, 'typical': 4623, 'acceptable': 81, 'vincent': 4746, 'price': 3389, 'although': 201, 'unless': 4669, 'mood': 2898, 'british': 589, 'hammer': 2014, 'theme': 4433, 'experiment': 1583, 'horribly': 2164, 'pass': 3201, 'bin': 483, 'local': 2634, 'accident': 84, 'isnt': 2362, 'caught': 722, 'mst3k': 2932, 'devil': 1228, 'doll': 1313, 'carry': 700, 'practically': 3362, 'forward': 1808, 'nonsense': 3030, 'politics': 3326, 'guy': 2000, 'fail': 1625, 'steal': 4170, 'dramatic': 1348, 'sequences': 3888, 'involve': 2345, 'phone': 3255, 'calls': 654, 'unconvincing': 4638, 'machines': 2694, 'rats': 3531, 'poor': 3328, 'spend': 4105, 'rubber': 3747, 'various': 4715, 'path': 3209, 'cruise': 1071, 'eric': 1514, 'roberts': 3714, 'corrupt': 1001, 'failing': 1627, 'werewolf': 4850, 'suit': 4284, 'ex': 1549, 'least': 2554, 'history': 2121, 'cinema': 816, 'secretary': 3850, 'forced': 1787, 'stops': 4203, 'leaving': 2557, 'excuse': 1564, 'easily': 1406, 'dozen': 1338, 'period': 3236, 'worse': 4951, 'follows': 1775, 'bottom': 551, '100': 1, 'pay': 3216, 'own': 3158, 'included': 2262, 'collection': 874, 'perfect': 3224, 'festival': 1697, 'saturday': 3792, 'evening': 1534, 'weird': 4841, 'frankly': 1823, 'brain': 562, 'hurt': 2202, 'impossible': 2249, 'understood': 4647, 'incomprehensible': 2267, 'begins': 444, 'cute': 1090, 'japanese': 2382, 'involving': 2349, 'cat': 713, 'tons': 4520, 'twisted': 4618, 'disturbing': 1300, 'occur': 3076, 'wonder': 4926, 'losing': 2658, 'translation': 4562, 'treated': 4573, 'images': 2235, 'magic': 2703, 'trick': 4582, 'clever': 841, 'animals': 240, 'fire': 1734, 'etc': 1527, 'random': 3514, 'oddly': 3081, 'genius': 1887, 'familiar': 1643, 'guys': 2001, 'dolls': 1316, 'fond': 1776, 'general': 1880, 'brando': 566, 'sinatra': 3989, 'reviewers': 3678, 'broadway': 592, 'soundtrack': 4085, 'jean': 2389, 'simmons': 3981, 'pleasant': 3302, 'rather': 3528, 'quality': 3484, 'admittedly': 123, 'concern': 931, 'musicals': 2948, 'particularly': 3195, 'noticed': 3049, 'rendition': 3625, 'previously': 3388, 'redemption': 3578, 'complaint': 920, 'lots': 2662, 'inferior': 2285, 'gem': 1877, 'replaced': 3634, 'pet': 3246, 'hot': 2174, 'material': 2766, 'personally': 3243, 'marry': 2745, 'today': 4508, 'dressing': 1359, 'room': 3735, 'woman': 4921, 'equally': 1510, 'range': 3516, 'reach': 3536, 'recommend': 3571, 'cannot': 670, 'superior': 4300, 'lead': 2545, 'charming': 768, 'recently': 3567, 'international': 2326, 'directorial': 1265, 'debut': 1143, 'veteran': 4724, 'dutch': 1389, 'van': 4713, 'de': 1131, 'based': 404, 'implausible': 2245, 'picking': 3267, 'apart': 264, 'immediately': 2242, 'aid': 160, 'mountains': 2918, 'conversation': 980, 'rocket': 3721, 'truck': 4595, 'front': 1841, 'vehicle': 4718, 'guns': 1998, 'five': 1743, 'bob': 524, 'throwing': 4480, 'distance': 1294, '50': 51, 'yet': 4984, 'somehow': 4063, 'blown': 516, 'impact': 2244, 'wins': 4899, 'prize': 3405, 'photo': 3257, 'situation': 4008, 'following': 1774, 'finds': 1728, 'national': 2970, 'island': 2361, 'meets': 2795, 'drug': 1373, '40': 48, 'runs': 3757, 'gang': 1867, 'scooby': 3820, 'doo': 1325, 'anime': 243, 'danger': 1109, 'lose': 2654, 'generation': 1883, 'clue': 864, 'attached': 336, 'tried': 4584, 'punk': 3468, 'series': 3890, 'ghost': 1902, 'emotional': 1459, 'animal': 239, 'lover': 2672, 'beautiful': 428, 'episode': 1507, 'aliens': 184, 'dialog': 1232, 'unpleasant': 4674, 'learn': 2550, 'death': 1141, 'al': 170, 'gore': 1941, 'certainly': 738, 'presents': 3377, 'praise': 3364, 'sounds': 4084, 'concerned': 932, 'speak': 4094, 'political': 3324, 'career': 686, 'carter': 703, 'integrity': 2311, 'talk': 4358, 'walks': 4780, 'walk': 4775, 'needed': 2988, 'warm': 4794, 'tells': 4397, 'us': 4690, 'claims': 830, 'creating': 1039, 'global': 1920, 'warming': 4795, 'private': 3404, 'jet': 2400, 'use': 4692, 'create': 1036, 'heat': 2067, 'swimming': 4338, 'pool': 3327, 'mansion': 2731, 'smaller': 4034, 'company': 910, 'react': 3540, 'calling': 653, 'raising': 3509, 'turning': 4608, 'allow': 189, 'saving': 3797, 'planet': 3289, 'earth': 1403, 'games': 1865, 'wicked': 4879, 'herself': 2092, 'enjoys': 1489, 'thrill': 4471, 'finally': 1724, 'pitch': 3279, 'responsibility': 3655, 'perform': 3227, 'shown': 3959, 'wear': 4830, 'days': 1130, 'straight': 4210, 'speaking': 4095, 'wanting': 4790, 'unsettling': 4679, 'atmosphere': 333, 'suspense': 4330, 'presumably': 3380, 'loses': 2657, 'connection': 946, 'behave': 445, 'becomes': 434, 'spin': 4112, 'jazz': 2387, 'ultimate': 4627, 'outcome': 3142, 'bored': 541, 'dimensional': 1253, 'success': 4265, 'eva': 1531, 'ideal': 2214, 'editing': 1421, 'continuity': 972, 'must': 2950, 'directors': 1266, 'viewing': 4740, 'public': 3460, 'lovers': 2673, 'fate': 1665, 'ends': 1474, 'left': 2561, 'wondering': 4930, 'hero': 2088, 'rain': 3506, 'brothers': 599, 'turkey': 4604, 'tune': 4602, 'record': 3573, 'abandoned': 62, 'account': 89, 'post': 3352, 'comment': 898, 'existence': 1571, 'whatsoever': 4861, 'writing': 4971, 'embarrassing': 1454, 'grace': 1950, 'repetitive': 3633, 'word': 4937, 'brilliant': 583, 'sound': 4081, 'design': 1202, 'faced': 1617, 'again': 146, 'against': 147, 'decision': 1151, 'personality': 3242, 'techniques': 4384, 'demented': 1176, 'include': 2261, 'crazy': 1035, 'somewhat': 4068, 'women': 4923, 'enormous': 1490, 'accent': 78, 'stay': 4166, 'matrix': 2767, 'creators': 1044, 'inspired': 2301, 'trailer': 4554, 'sort': 4077, '1980s': 21, 'japan': 2381, 'recent': 3566, 'language': 2516, 'ad': 110, 'vision': 4754, 'directly': 1263, 'era': 1513, 'due': 1382, 'date': 1118, 'guessed': 1990, 'nuclear': 3057, 'destroyed': 1214, 'survivors': 4325, 'escape': 1517, 'space': 4090, 'continued': 970, 'began': 441, 'inside': 2297, 'via': 4726, 'mysterious': 2955, 'advanced': 128, 'leads': 2548, 'aids': 161, 'military': 2844, 'discovered': 1280, 'closer': 856, 'conflicts': 940, 'computer': 927, 'spoilers': 4124, 'basically': 407, 'synopsis': 4344, 'emotions': 1461, 'become': 433, 'happy': 2032, '80s': 59, 'tragic': 4552, 'cardboard': 682, 'suffering': 4277, 'conspiracy': 956, 'impressive': 2253, 'age': 148, 'reminiscent': 3621, 'cultural': 1078, 'prepared': 3371, 'violence': 4747, 'blood': 512, 'erotic': 1515, 'supposedly': 4307, 'followed': 1773, 'sequel': 3885, 'pleasure': 3306, 'greatest': 1966, 'incredible': 2269, 'purchased': 3470, 'holding': 2130, 'sequels': 3886, 'released': 3603, 'highly': 2105, 'fans': 1650, 'heck': 2071, 'enjoyed': 1486, 'virgin': 4749, 'summer': 4291, 'wedding': 4836, 'romantic': 3733, 'comedies': 889, 'teens': 4392, 'usual': 4699, 'dating': 1120, 'crowd': 1067, 'formula': 1802, 'stories': 4205, 'satisfying': 3791, 'guess': 1989, 'steve': 4181, 'andy': 230, 'catherine': 719, 'basic': 406, 'leading': 2547, 'supporting': 4304, 'identify': 2216, 'knowing': 2490, 'wilson': 4891, 'built': 618, 'cult': 1077, 'daily': 1097, 'bruce': 602, 'starring': 4154, 'third': 4455, 'co': 867, 'treat': 4572, 'level': 2584, 'figures': 1713, 'painting': 3175, 'line': 2610, 'entertaining': 1499, 'sexual': 3908, 'suggests': 4282, 'hilarious': 2106, 'sign': 3970, 'break': 569, 'curse': 1086, 'pop': 3330, 'jane': 2380, 'lynch': 2691, 'buddy': 609, 'soon': 4074, 'meaningful': 2781, 'street': 4216, 'build': 614, 'worry': 4950, 'degree': 1164, 'barely': 399, 'laughing': 2533, 'laughs': 2534, 'workers': 4943, 'reactions': 3542, 'humor': 2192, 'charm': 767, 'truth': 4599, 'gives': 1914, 'genuine': 1891, 'un': 4630, 'wise': 4903, 'loves': 2674, 'comedian': 887, 'outrageous': 3145, 'total': 4531, 'musical': 2947, 'surprise': 4312, 'offended': 3085, 'masses': 2755, 'therefore': 4439, 'hated': 2047, 'nation': 2969, 'taken': 4350, 'ago': 154, 'returned': 3666, 'caused': 724, 'criminal': 1057, 'sheer': 3925, 'fascinating': 1658, 'cusack': 1088, 'joan': 2404, 'dan': 1102, 'ned': 2986, 'williams': 4888, 'century': 736, 'jeremy': 2394, 'brand': 565, 'decides': 1150, 'thru': 4483, 'middle': 2833, 'eastern': 1408, 'oil': 3097, 'vice': 4727, 'president': 3378, 'usa': 4691, 'blank': 501, 'dick': 1239, 'under': 4639, 'trade': 4547, 'producer': 3415, 'iraq': 2351, 'unlikely': 4671, 'union': 4661, 'european': 1530, 'celebrity': 729, 'idiot': 2218, 'leader': 2546, 'bold': 528, 'la': 2500, 'dr': 1340, 'intense': 2316, 'purposes': 3475, 'sadly': 3769, 'hits': 2125, 'broad': 590, 'message': 2819, 'check': 777, 'aforementioned': 139, 'touches': 4535, 'catch': 714, 'mass': 2753, 'skills': 4014, 'earlier': 1399, 'allows': 192, 'views': 4742, 'pace': 3161, 'largely': 2518, 'filmmaker': 1719, 'choreographed': 801, 'fight': 1707, 'idiotic': 2219, 'failure': 1629, 'deaf': 1134, 'spirited': 4114, 'male': 2719, 'suggest': 4280, 'insult': 2309, 'con': 928, 'covers': 1024, 'asks': 319, 'return': 3665, 'favor': 1670, 'drawn': 1351, 'ruthless': 3764, 'lone': 2642, 'shark': 3921, 'olivier': 3103, 'ability': 65, 'lips': 2615, 'full': 1846, 'comparison': 914, 'storm': 4206, 'choose': 799, 'clearly': 840, 'nazi': 2977, 'treatment': 4574, 'academy': 77, 'arts': 310, 'chose': 804, 'oscar': 3133, 'strike': 4224, 'england': 1482, 'rick': 3689, 'instance': 2304, 'ignored': 2225, 'treasure': 4571, 'murder': 2939, 'suspect': 4327, 'lonely': 2643, 'philip': 3252, 'francis': 1818, 'caine': 647, 'african': 142, 'lucky': 2683, 'lesser': 2576, 'claim': 828, 'searching': 3842, 'wind': 4893, 'americas': 215, '1930s': 11, 'entry': 1504, 'ii': 2226, 'weeks': 4839, 'led': 2558, 'anti': 254, 'fighter': 1708, 'loyal': 2679, 'wife': 4884, 'possible': 3350, 'center': 732, 'activities': 102, 'selfish': 3870, 'ultimately': 4628, 'fed': 1682, 'kurt': 2499, 'chief': 788, 'deal': 1135, 'nazis': 2978, 'bite': 489, 'poetry': 3314, 'witness': 4914, 'write': 4967, 'given': 1913, 'told': 4513, 'felt': 1692, 'longer': 2645, 'pages': 3168, '1970s': 17, 'fictional': 1703, 'south': 4087, 'six': 4010, 'mini': 2854, 'minute': 2858, 'rushed': 3760, 'skip': 4016, 'confusing': 942, 'fairly': 1631, 'fault': 1668, 'supernatural': 4302, 'powers': 3361, 'appeared': 276, 'faults': 1669, 'goodness': 1938, 'happens': 2029, 'endure': 1475, 'glenn': 1918, 'brutal': 603, 'self': 3869, 'rich': 3685, 'streep': 4215, 'performed': 3230, 'biggest': 480, 'coach': 868, 'flicks': 1755, 'pg': 3250, '13': 4, 'appropriate': 283, 'crude': 1069, 'acts': 107, 'legal': 2563, 'moral': 2902, 'bigger': 479, 'ready': 3546, 'trap': 4563, 'glad': 1916, 'earned': 1401, 'media': 2789, 'cleverly': 842, 'separate': 3883, 'commercial': 902, 'breaks': 571, 'streisand': 4218, 'masterful': 2758, 'variety': 4714, 'format': 1799, 'guest': 1992, 'paid': 3169, 'standard': 4144, 'glorious': 1921, 'adds': 119, 'conceived': 929, 'truly': 4597, 'performer': 3231, 'thrilling': 4474, 'performs': 3234, 'evidence': 1546, 'allowing': 191, 'simply': 3986, 'sing': 3992, 'powerful': 3360, 'brief': 579, 'leonard': 2572, 'barbara': 397, 'proceeds': 3411, 'multi': 2935, 'performing': 3233, 'late': 2523, 'levels': 2585, 'terrific': 4409, 'numbers': 3061, 'halfway': 2008, 'enters': 1496, 'sweet': 4336, 'fantasy': 1652, 'sings': 3997, 'innocence': 2293, 'lovely': 2671, 'surrounded': 4318, 'campy': 664, 'blues': 519, 'delivering': 1171, 'pearl': 3220, 'heads': 2059, 'department': 1182, 'poverty': 3357, 'elegant': 1441, 'segment': 3867, 'highlight': 2103, 'critics': 1064, 'singing': 3995, 'rose': 3739, 'appearing': 277, 'latin': 2527, 'portraying': 3343, 'frustrated': 1842, 'spare': 4093, 'concert': 935, 'sun': 4292, 'continues': 971, 'holiday': 2134, 'instantly': 2306, 'became': 431, 'singers': 3994, 'closing': 859, 'triumph': 4590, 'awards': 367, 'addition': 118, 'gold': 1932, 'selling': 3873, 'delight': 1167, 'headed': 2058, 'burns': 628, 'typically': 4624, 'silly': 3976, 'victim': 4729, 'castle': 712, 'aunt': 355, 'bothered': 549, 'inventive': 2341, 'park': 3190, 'harry': 2039, 'albert': 174, 'ray': 3533, 'noble': 3021, 'singer': 3993, 'fields': 1705, 'fashioned': 1660, 'abuse': 74, 'absence': 70, 'noted': 3045, 'elsewhere': 1449, 'miscast': 2862, 'host': 2173, 'notes': 3046, 'ruby': 3749, 'fine': 1729, 'belong': 459, 'rare': 3523, 'stilted': 4190, 'clichéd': 845, 'predictable': 3367, 'christopher': 811, 'rubbish': 3748, 'established': 1524, 'masterpieces': 2760, 'accents': 79, 'innocent': 2294, 'amongst': 218, 'knife': 2487, 'buried': 624, 'deep': 1154, 'pulls': 3464, 'seconds': 3848, 'later': 2525, 'arm': 292, 'leg': 2562, 'sorts': 4078, 'pants': 3182, 'fights': 1710, 'multiple': 2936, 'door': 1328, 'floor': 1759, 'slightest': 4028, 'dull': 1384, 'class': 833, 'undoubtedly': 4648, 'ham': 2011, 'villains': 4745, 'type': 4621, 'menace': 2806, 'aware': 368, '70s': 56, 'wooden': 4934, 'lees': 2560, 'anywhere': 263, 'roger': 3724, 'moore': 2901, 'lee': 2559, 'cry': 1073, 'family': 1645, 'passionate': 3206, 'cause': 723, 'survive': 4321, 'manages': 2725, 'unbearable': 4633, 'regret': 3591, 'met': 2822, 'sitting': 4007, 'peace': 3219, 'dear': 1140, 'deserve': 1199, 'christian': 808, 'frank': 1821, 'turner': 4607, 'walker': 4778, 'uwe': 4703, 'boll': 529, 'game': 1864, 'attempts': 343, 'packed': 3166, 'nail': 2957, 'succeed': 4262, 'minor': 2857, 'necessary': 2984, 'creative': 1041, 'cgi': 740, 'monsters': 2893, 'honestly': 2147, 'hbo': 2055, 'pathetic': 3210, 'jim': 2402, 'reduced': 3579, 'survived': 4322, 'lies': 2591, 'beaten': 424, 'timothy': 4499, 'southern': 4088, 'sheriff': 3929, 'blond': 510, 'violent': 4748, 'thugs': 4484, 'lately': 2524, 'justify': 2439, 'irony': 2357, 'humour': 2194, 'pulp': 3465, 'combined': 885, 'gordon': 1940, 'unfortunate': 4653, 'farce': 1654, 'contemporary': 965, 'centers': 734, 'arthur': 305, 'drunken': 1376, 'susan': 4326, 'johnson': 2411, 'grandmother': 1955, 'linda': 2609, 'working': 4944, 'endearing': 1469, 'loads': 2633, 'slapstick': 4019, 'spoiled': 4122, 'talents': 4356, 'devoted': 1231, 'reality': 3551, 'memorable': 2802, 'brings': 587, 'welcome': 4842, 'proceedings': 3410, 'motivation': 2914, 'pre': 3365, 'law': 2538, 'dad': 1095, 'steals': 4172, 'ralph': 3510, 'dated': 1119, 'photos': 3261, '60s': 54, 'cold': 872, 'exceptionally': 1559, 'forces': 1788, 'source': 4086, 'novel': 3052, 'central': 735, 'refreshing': 3586, 'considering': 952, 'todays': 4509, 'simplistic': 3985, 'manipulative': 2727, 'dramas': 1347, 'convinced': 984, 'force': 1786, 'consider': 949, 'admire': 121, 'disagree': 1269, 'capital': 673, 'punishment': 3467, 'plenty': 3307, 'scott': 3824, 'underrated': 4642, 'chilling': 794, 'charisma': 762, 'hide': 2097, 'robert': 3713, 'blake': 498, 'amount': 219, 'impression': 2252, 'documentary': 1307, 'jones': 2418, 'masterpiece': 2759, 'suggested': 4281, 'candy': 668, 'disappointment': 1275, 'warren': 4801, 'beatty': 427, 'heaven': 2068, 'wait': 4770, 'rock': 3720, 'remains': 3611, 'gods': 1928, 'chooses': 800, 'murdered': 2940, 'mrs': 2930, 'suffers': 4278, 'aged': 149, 'miserably': 2864, 'portray': 3340, 'spoil': 4121, 'clip': 851, 'clips': 852, 'stretch': 4221, 'theyd': 4443, 'entirely': 1503, 'unusual': 4681, 'travel': 4567, 'traveling': 4568, 'stuck': 4237, 'hours': 2177, 'cutting': 1092, 'futuristic': 1857, 'library': 2589, 'ha': 2002, 'turns': 4609, 'destruction': 1216, 'escaped': 1518, 'send': 3875, 'dvds': 1392, 'kirk': 2482, 'womans': 4922, 'sword': 4340, 'arrested': 298, 'eccentric': 1414, 'female': 1693, 'theyll': 4444, 'burn': 625, 'ice': 2210, 'responsible': 3656, 'oh': 3096, 'affected': 137, 'transition': 4561, 'mentions': 2813, 'millions': 2848, 'correct': 1000, 'hundreds': 2196, 'thousands': 4466, 'gross': 1978, 'logical': 2639, 'nasty': 2968, 'forget': 1793, 'nearly': 2981, 'novels': 3053, 'holds': 2131, 'elderly': 1440, 'adventure': 130, 'definite': 1161, 'expectations': 1576, 'per': 3223, 'hollywood': 2137, 'blockbuster': 509, 'cheap': 774, 'thrills': 4475, 'station': 4164, 'afternoon': 144, 'cliché': 844, 'sub': 4252, 'par': 3184, 'desire': 1205, 'pretend': 3381, 'average': 362, 'holes': 2133, 'bizarre': 492, 'context': 968, 'spoiler': 4123, 'politically': 3325, 'blacks': 494, 'contrived': 976, 'manner': 2729, 'racist': 3503, 'annoyed': 248, 'positive': 3346, 'martial': 2747, 'artist': 307, 'helicopter': 2076, 'ninja': 3018, 'neck': 2985, 'prior': 3400, 'air': 164, 'rotten': 3740, 'view': 4736, 'dozens': 1339, 'hong': 2149, 'kong': 2494, 'improved': 2255, 'adding': 117, 'plausible': 3295, 'steven': 4182, '90': 60, 'junk': 2436, 'relate': 3593, 'facing': 1620, 'jesus': 2399, 'experience': 1580, 'questions': 3489, 'comments': 901, 'anderson': 227, 'whereas': 4865, 'likes': 2602, 'parker': 3191, 'spectacular': 4101, 'scope': 3821, 'primary': 3394, 'entertain': 1497, 'medium': 2792, 'express': 1600, 'pretentious': 3383, '1960s': 15, '1968': 16, 'france': 1816, 'climax': 849, 'wave': 4818, 'mainstream': 2709, 'dislike': 1288, 'grows': 1985, 'talented': 4355, 'dumb': 1385, 'heights': 2073, 'johnny': 2410, 'lousy': 2667, 'cover': 1022, 'child': 789, 'mad': 2696, 'boyfriend': 558, 'beating': 425, 'killer': 2470, '12': 3, 'essentially': 1523, 'wandering': 4785, 'pair': 3176, 'providing': 3451, 'changes': 751, 'ways': 4822, 'chasing': 772, 'officers': 3093, 'virtually': 4751, 'heart': 2064, 'development': 1225, 'checking': 778, 'accused': 91, 'danes': 1108, 'kate': 2446, 'matter': 2769, 'stinks': 4192, 'prefer': 3368, 'germany': 1898, 'stick': 4185, 'united': 4664, 'states': 4163, 'theatre': 4429, 'false': 1641, 'mars': 2746, 'ratings': 3530, 'beat': 423, 'fox': 1814, 'abc': 63, 'hip': 2114, 'proved': 3446, 'saved': 3795, 'influence': 2286, 'cynical': 1093, 'explanation': 1590, 'chosen': 805, 'costs': 1004, 'grade': 1951, 'sit': 4003, 'lacking': 2504, 'scenery': 3810, 'designed': 1203, 'whenever': 4863, 'chemistry': 782, 'uncomfortable': 4637, 'oliver': 3102, 'slow': 4031, 'twist': 4617, 'loose': 2650, 'aint': 163, 'core': 995, 'overwhelming': 3157, 'majority': 2712, 'stellar': 4174, 'catchy': 717, 'older': 3101, 'performers': 3232, 'reed': 3580, 'menacing': 2807, 'bill': 481, 'dog': 1310, 'puts': 3481, 'details': 1219, 'exaggerated': 1552, 'enjoyment': 1488, 'laughter': 2535, 'summary': 4290, 'foreign': 1790, 'oscars': 3134, 'daring': 1114, 'modern': 2882, 'korean': 2495, 'list': 2617, 'happening': 2028, 'pure': 3471, 'stock': 4193, 'wounded': 4961, 'bunch': 623, 'nominated': 3025, 'keep': 2449, 'steps': 4177, 'younger': 4990, 'discuss': 1283, 'explained': 1587, 'swedish': 4335, 'hyde': 2206, 'terribly': 4408, 'excited': 1561, 'greatly': 1967, 'brave': 567, 'managed': 2723, 'believing': 457, 'went': 4847, 'moon': 2900, 'tender': 4401, 'stunning': 4244, 'quick': 3490, 'bond': 532, 'thoroughly': 4459, 'controversial': 978, 'pleasantly': 3303, 'composed': 926, 'twenty': 4612, 'wants': 4791, 'information': 2288, 'experiments': 1584, 'relationships': 3598, 'nudity': 3059, 'explicit': 1591, 'fourth': 1813, 'wall': 4781, 'broken': 594, 'direct': 1258, 'firstly': 1737, 'opportunities': 3120, 'remind': 3618, 'nowadays': 3055, 'mostly': 2910, 'teenagers': 4391, 'hang': 2022, 'reflect': 3584, 'thoughts': 4464, 'minds': 2852, 'grown': 1984, 'broadcast': 591, 'within': 4912, '20th': 38, 'section': 3853, 'gay': 1876, 'hollywoods': 2138, 'golden': 1934, 'themselves': 4435, 'draw': 1349, 'cary': 706, 'grant': 1956, 'victor': 4731, 'douglas': 1334, 'jr': 2423, 'attitude': 346, 'corny': 997, 'europe': 1529, 'audiences': 353, 'perfectly': 3226, 'letting': 2583, 'search': 3841, 'everyday': 1541, 'pacing': 3163, 'appreciated': 280, 'flaw': 1749, 'captured': 677, 'technically': 4382, 'todd': 4510, 'finest': 1730, 'intimate': 2331, 'gorgeous': 1942, 'italian': 2367, 'demands': 1175, 'contained': 963, 'tight': 4492, 'joy': 2422, 'casting': 711, 'choices': 798, 'thoughtful': 4463, 'secret': 3849, 'ya': 4976, 'north': 3036, 'mistaken': 2872, 'protect': 3443, 'birthday': 487, 'corner': 996, 'sexuality': 3909, 'boys': 559, 'spends': 4107, 'slasher': 4020, 'bo': 521, 'loving': 2675, 'friday': 1834, '13th': 5, 'killings': 2473, 'focuses': 1768, 'melodrama': 2797, 'stress': 4220, '18': 10, 'convey': 982, 'unnecessary': 4672, 'shirley': 3936, 'bush': 632, 'ass': 323, 'code': 869, 'theatrical': 4430, 'audio': 354, 'interview': 2329, 'trailers': 4555, 'nightmare': 3014, 'stunt': 4245, '2000': 30, 'kevin': 2457, 'believed': 455, 'prison': 3401, 'busy': 635, 'homeless': 2143, 'dogs': 1311, 'strikes': 4225, 'repeat': 3630, 'ken': 2453, 'nurse': 3063, 'anna': 245, 'wide': 4880, 'chaos': 755, 'flesh': 1753, 'zombies': 4998, 'rising': 3703, 'escapes': 1519, 'streets': 4217, 'officer': 3092, 'mall': 2720, 'heroes': 2089, 'locked': 2637, 'eaten': 1412, 'outside': 3146, 'mentally': 2809, 'spending': 4106, 'clear': 839, 'behavior': 446, 'culture': 1079, 'murders': 2943, 'widely': 4881, 'accepted': 82, 'issue': 2364, 'countries': 1013, 'connected': 945, 'laws': 2540, 'system': 4345, 'daughters': 1122, 'image': 2233, 'negative': 2991, 'community': 908, 'born': 544, 'luckily': 2682, 'mid': 2832, '90s': 61, 'hooked': 2153, 'simple': 3983, 'agents': 151, 'richard': 3686, 'craig': 1030, 'dangerous': 1110, 'agent': 150, 'china': 795, 'whilst': 4869, 'plane': 3288, 'exciting': 1563, 'lasted': 2522, '30': 42, 'relatively': 3600, 'notorious': 3051, 'suffered': 4276, 'australian': 357, 'snow': 4045, 'operation': 3117, 'focus': 1766, 'liners': 2611, '2005': 35, 'reunion': 3669, '35': 45, 'anthony': 253, 'equal': 1509, 'shine': 3931, 'donald': 1321, 'sutherland': 4333, 'burt': 629, 'jenny': 2393, 'notable': 3041, 'cage': 645, 'personal': 3240, 'wayne': 4821, 'diane': 1238, 'eve': 1532, 'adam': 111, 'hall': 2009, 'robin': 3715, 'kids': 2467, 'jake': 2377, 'richardson': 3688, 'parents': 3188, 'folks': 1771, 'ourselves': 3140, 'vote': 4766, 'sounded': 4082, 'exact': 1550, 'billy': 482, 'clichés': 846, 'phony': 3256, 'fake': 1635, 'tears': 4380, 'subplot': 4255, 'extra': 1606, 'major': 2711, 'health': 2060, 'crisis': 1060, 'doctors': 1305, 'shut': 3961, 'writers': 4969, 'painted': 3174, 'key': 2458, 'beauty': 430, 'sadness': 3770, 'accept': 80, 'struggle': 4234, 'compelling': 916, 'simplicity': 3984, 'grasp': 1960, 'discover': 1279, 'bath': 411, 'shower': 3957, 'element': 1442, 'talking': 4360, 'touching': 4536, 'deeply': 1156, 'highest': 2102, 'placed': 3283, 'meaningless': 2782, 'don': 1320, 'recognize': 3569, 'farm': 1656, 'ignorant': 2223, 'rule': 3753, 'iron': 2354, 'empty': 1465, 'finger': 1731, 'direction': 1261, 'essence': 1521, 'missing': 2869, 'interested': 2324, 'mans': 2730, 'notch': 3043, 'below': 462, 'comics': 895, 'artistic': 308, 'versions': 4721, 'insane': 2296, 'hey': 2095, 'fashion': 1659, 'spooky': 4128, 'james': 2378, 'task': 4368, 'producing': 3417, 'known': 2492, 'popcorn': 3331, 'morning': 2906, 'hill': 2108, 'jon': 2416, 'isolated': 2363, 'wouldve': 4959, 'woods': 4935, 'cliche': 843, 'henry': 2084, 'thomas': 4458, 'independent': 2272, 'pie': 3271, 'sophisticated': 4075, 'awkward': 374, 'catholic': 720, 'ranks': 3519, 'honor': 2150, 'mine': 2853, 'graphics': 1959, 'amazed': 208, 'seed': 3856, 'club': 863, 'joke': 2414, 'shocking': 3940, 'plain': 3286, 'boredom': 542, 'watches': 4814, 'tortured': 4530, 'footage': 1782, 'statement': 4162, 'humanity': 2189, 'torture': 4529, 'porn': 3336, 'exploitation': 1592, 'videos': 4734, 'basement': 405, 'nightmares': 3015, 'crying': 1074, 'reminds': 3620, 'everywhere': 1545, 'chair': 742, 'lengthy': 2570, 'alive': 186, 'solve': 4060, 'grave': 1962, 'cop': 991, 'endless': 1473, 'captures': 678, 'shoots': 3944, 'wears': 4832, 'persons': 3244, 'background': 380, 'relies': 3606, 'purely': 3472, 'underground': 4640, 'pseudo': 3454, 'celluloid': 731, 'proof': 3434, 'market': 2740, 'flawed': 1750, 'pilot': 3276, 'technical': 4381, 'merit': 2816, 'adult': 125, 'education': 1424, 'blew': 505, 'wound': 4960, 'meeting': 2794, 'finished': 1733, 'four': 1812, 'strangely': 4212, 'site': 4005, 'order': 3126, 'jumps': 2432, 'terms': 4406, 'bleak': 503, 'sake': 3775, 'psychological': 3458, 'promise': 3430, 'estate': 1525, 'offered': 3088, 'resolution': 3649, 'leave': 2555, 'viewers': 4739, 'cheated': 775, 'discovery': 1282, 'corpse': 999, 'floating': 1758, 'remote': 3622, 'river': 3707, 'raymond': 3534, 'ensemble': 1492, 'cuts': 1091, 'lawrence': 2539, 'exploration': 1593, 'hanging': 2023, 'finale': 1723, 'franchise': 1817, 'prequel': 3372, 'religion': 3607, 'mafia': 2700, 'parts': 3199, 'advice': 133, 'excessive': 1560, 'abilities': 64, 'naked': 2959, 'actresses': 106, 'banned': 395, 'business': 633, 'otherwise': 3137, 'starting': 4158, 'utterly': 4702, 'experienced': 1581, 'guarantee': 1987, 'rescue': 3643, 'bed': 436, 'atrocious': 335, 'actual': 108, 'aka': 168, 'month': 2896, 'ended': 1470, 'amy': 222, 'shorts': 3948, 'laughed': 2532, 'concept': 930, 'studios': 4241, 'productions': 3420, 'scenario': 3808, 'provides': 3450, 'disneys': 1290, 'lion': 2614, 'latest': 2526, 'magical': 2704, 'succeeds': 4264, 'generated': 1882, 'tremendous': 4579, 'effort': 1432, 'backgrounds': 381, '3d': 46, 'bird': 484, 'perfection': 3225, 'imitation': 2241, 'team': 4378, 'appreciate': 279, 'featuring': 1681, 'chase': 769, 'mexican': 2826, 'village': 4743, 'fear': 1676, 'brilliantly': 584, 'vicious': 4728, 'tales': 4357, 'fears': 1677, 'process': 3412, 'achieved': 93, 'theater': 4427, 'dubbing': 1380, 'creativity': 1042, 'industry': 2280, 'unit': 4663, 'mgm': 2828, 'bound': 553, 'winning': 4898, 'glory': 1922, 'arguably': 289, 'raise': 3507, '30s': 44, 'presented': 3376, 'paris': 3189, 'band': 391, 'gene': 1879, 'kelly': 2452, 'allowed': 190, 'dances': 1106, 'description': 1197, 'leslie': 2574, 'colour': 880, 'fill': 1714, 'introduced': 2337, 'gradually': 1952, 'scheme': 3812, 'animated': 241, 'overlooked': 3154, 'visual': 4757, 'award': 366, 'flaws': 1752, 'skill': 4013, 'assigned': 325, 'zero': 4996, 'landing': 2512, 'strongly': 4231, 'master': 2757, 'iii': 2227, 'destroy': 1213, 'secrets': 3852, 'vs': 4767, 'toys': 4543, 'imagination': 2236, 'produced': 3414, 'location': 2635, 'ten': 4399, 'thumbs': 4485, 'friendship': 1838, 'matters': 2770, 'nature': 2975, 'melting': 2799, 'pot': 3354, 'asian': 314, 'crime': 1055, 'perspective': 3245, 'tim': 4494, '15': 7, 'superman': 4301, 'psychiatrist': 3455, 'example': 1553, 'severe': 3906, 'psychic': 3456, 'explains': 1589, 'execution': 1566, 'horrendous': 2162, 'properly': 3437, 'cards': 683, 'exist': 1569, 'round': 3742, 'staff': 4138, 'blade': 495, 'choreography': 802, 'stands': 4147, 'physical': 3262, 'emma': 1457, 'partner': 3198, 'fatal': 1664, 'disease': 1285, 'soap': 4047, 'opera': 3116, 'picks': 3268, 'speed': 4103, 'toward': 4539, 'conclusion': 936, 'strictly': 4223, 'blame': 499, 'russell': 3761, 'network': 3000, 'limited': 2606, 'reasonable': 3558, 'hire': 2116, 'standards': 4145, 'stronger': 4230, 'keaton': 2448, 'minimum': 2856, 'jobs': 2406, 'fired': 1735, 'support': 4303, 'latter': 2528, 'whom': 4875, 'namely': 2962, 'struggles': 4235, 'lifetime': 2594, 'suited': 4286, 'mom': 2885, 'portrayed': 3342, 'anger': 235, 'superbly': 4297, 'criticism': 1063, 'grow': 1982, 'circumstances': 822, 'losers': 2656, 'movements': 2924, 'technique': 4383, 'dressed': 1358, 'sexy': 3911, 'serving': 3897, 'regard': 3588, 'moronic': 2907, 'bakshi': 386, 'adults': 126, 'forgot': 1796, 'fare': 1655, 'atlantis': 332, 'filled': 1715, 'hole': 2132, 'closely': 855, 'disbelief': 1277, 'meant': 2784, 'fresh': 1833, 'stargate': 4151, '2007': 37, 'despair': 1207, 'tough': 4537, 'walking': 4779, 'attacked': 338, 'spirits': 4115, 'drives': 1367, 'asked': 317, 'demons': 1178, 'demon': 1177, 'stopped': 4202, 'caring': 691, 'answer': 251, 'priest': 3392, 'appears': 278, 'vague': 4705, 'hung': 2197, 'question': 3487, 'shoot': 3942, 'inappropriate': 2259, 'scare': 3803, 'cases': 708, 'breath': 573, 'embarrassment': 1455, 'haunted': 2050, 'boat': 523, 'terror': 4412, 'remembered': 3617, 'dracula': 1341, 'nevertheless': 3002, 'plots': 3310, 'imaginative': 2237, 'created': 1037, 'hearted': 2065, 'unknown': 4668, 'africa': 141, 'tragedy': 4551, 'exposed': 1598, 'sends': 3876, 'karloff': 2445, 'bela': 450, 'lugosi': 2686, 'meat': 2787, 'impress': 2250, 'literally': 2622, 'nicely': 3009, 'recommended': 3572, 'produce': 3413, 'government': 1948, 'internet': 2327, 'regarding': 3589, 'gain': 1863, 'interviews': 2330, 'opinions': 3119, 'pat': 3208, 'argue': 290, 'teaching': 4377, 'methods': 2825, 'students': 4239, 'prove': 3445, 'gas': 1874, 'target': 4366, 'subtle': 4260, 'ludicrous': 2685, 'yellow': 4981, 'listed': 2618, 'ryan': 3765, 'cameras': 660, 'contact': 961, 'unique': 4662, 'portrayal': 3341, 'families': 1644, 'struggling': 4236, 'issues': 2365, 'america': 212, 'visible': 4753, 'citizen': 824, 'kane': 2442, 'report': 3635, 'touch': 4533, 'orson': 3132, 'welles': 4844, 'spots': 4132, 'mundane': 2938, 'impressed': 2251, 'stays': 4169, 'appreciation': 281, 'merits': 2817, 'forgettable': 1794, 'opposed': 3122, 'answers': 252, 'enjoying': 1487, 'hair': 2005, 'situations': 4009, 'motives': 2916, 'hints': 2113, 'sick': 3963, 'psycho': 3457, 'interaction': 2322, 'suicide': 4283, 'thinks': 4454, 'mixed': 2877, 'ruins': 3752, 'intellectual': 2312, 'soft': 4051, 'hear': 2061, 'bar': 396, 'loud': 2664, 'subtitles': 4259, 'fell': 1690, 'features': 1680, 'dancers': 1105, 'ballet': 389, 'artists': 309, 'staged': 4140, '50s': 52, 'pushing': 3479, 'insight': 2298, 'future': 1856, 'generally': 1881, 'nuts': 3064, 'rarely': 3524, 'subtlety': 4261, 'spell': 4104, 'smart': 4035, 'thrown': 4481, 'west': 4852, 'overrated': 3156, 'massacre': 2754, 'distribution': 1298, 'intelligence': 2313, 'explore': 1594, 'newly': 3004, 'rambo': 3511, 'hunting': 2201, 'wood': 4933, 'recall': 3562, 'chicks': 787, 'screaming': 3827, 'sounding': 4083, 'relatives': 3601, 'pulling': 3463, 'montage': 2894, 'bloody': 513, 'piano': 3264, 'advise': 134, 'settings': 3901, 'clothing': 861, 'philosophy': 3254, 'likely': 2601, 'virginia': 4750, 'schools': 3814, 'drag': 1342, 'homosexual': 2145, 'forms': 1801, 'defined': 1160, 'movement': 2923, 'natural': 2973, 'comparing': 913, 'princess': 3397, 'worlds': 4947, 'alike': 185, 'tree': 4576, 'wonderfully': 4929, 'remarkable': 3613, 'compared': 912, 'tedious': 4387, 'identity': 2217, 'magnificent': 2705, 'columbo': 881, 'pointless': 3318, 'pile': 3275, 'unwatchable': 4682, 'drivel': 1364, 'falk': 1636, 'hint': 2112, 'ingredients': 2289, 'altogether': 202, 'plague': 3285, 'edited': 1420, 'focused': 1767, 'boom': 537, 'topic': 4526, 'religious': 3608, 'retarded': 3663, 'easy': 1410, 'jumped': 2430, 'forth': 1804, 'fits': 1741, 'passion': 3205, 'rob': 3710, 'zombie': 4997, 'colorful': 878, 'confidence': 938, 'builds': 617, 'solid': 4057, 'required': 3641, 'blind': 506, 'beach': 419, 'recording': 3575, 'sympathy': 4343, 'album': 175, 'revolutionary': 3681, 'rolling': 3730, 'stones': 4198, 'richards': 3687, 'charlie': 765, 'uneven': 4649, 'fortunately': 1805, 'careers': 687, 'brazil': 568, 'holy': 2140, 'tony': 4521, 'odds': 3082, 'husband': 2204, 'pull': 3461, 'divorce': 1301, 'gentle': 1890, 'stereotypical': 4180, 'revealed': 3671, 'mindless': 2851, 'affair': 135, 'books': 536, 'bat': 410, 'flying': 1764, 'chases': 771, 'cheesy': 781, '3000': 43, 'avoided': 364, 'lol': 2640, 'harvey': 2042, 'karen': 2444, 'deaths': 1142, 'creates': 1038, 'investigate': 2342, 'displays': 1293, 'creepy': 1052, 'gory': 1943, 'eerie': 1427, 'furthermore': 1854, 'protagonists': 3442, 'deceased': 1146, 'army': 295, 'omen': 3104, 'hardcore': 2034, 'saga': 3773, 'immensely': 2243, 'taylor': 4372, 'baker': 385, 'dealing': 1136, 'forbidden': 1785, 'surface': 4310, 'dropped': 1370, 'importance': 2246, 'ms': 2931, 'sky': 4017, 'bbc': 417, 'proper': 3436, 'maintain': 2710, 'utter': 4701, 'receive': 3563, 'rings': 3699, 'ground': 1979, 'complain': 919, 'amounts': 220, 'cheating': 776, 'darker': 1116, 'creatures': 1046, 'chris': 806, 'battle': 414, 'understandable': 4644, 'delightful': 1168, 'favorites': 1672, 'barry': 401, 'dare': 1113, 'everyones': 1543, 'duty': 1390, 'imagined': 2239, 'significant': 3972, 'developing': 1224, 'flight': 1757, 'ford': 1789, 'afraid': 140, '2001': 31, 'warner': 4799, 'offer': 3087, 'present': 3374, 'occurred': 3077, 'interpretation': 2328, 'doom': 1326, 'suppose': 4305, 'depressing': 1188, 'currently': 1085, 'vampire': 4711, 'witty': 4917, 'depicts': 1186, 'expected': 1577, 'notably': 3042, 'win': 4892, 'individual': 2277, 'delivered': 1170, 'reynolds': 3684, 'clint': 850, 'eastwood': 1409, 'directs': 1267, 'sudden': 4272, 'worthy': 4956, 'quotes': 3497, 'ahead': 159, 'tired': 4501, 'san': 3780, 'sandra': 3782, 'buying': 641, 'larry': 2520, 'souls': 4080, 'reputation': 3640, 'remarkably': 3614, 'dealt': 1138, 'greater': 1965, 'claimed': 829, 'originally': 3131, 'attraction': 350, 'prisoners': 3403, '24': 39, 'shop': 3945, 'belief': 451, 'virus': 4752, 'max': 2774, 'ancient': 225, 'angel': 231, 'classes': 834, 'seeking': 3859, 'stunts': 4246, 'kinda': 2477, 'illegal': 2229, 'jason': 2383, 'disappeared': 1271, 'everybody': 1540, 'threw': 4470, 'rap': 3520, 'clothes': 860, 'dust': 1388, 'bedroom': 437, 'theaters': 4428, '1983': 22, 'bought': 552, 'unreal': 4676, 'bank': 394, 'large': 2517, 'slick': 4026, 'staying': 4168, 'prince': 3396, 'encounters': 1467, 'advantage': 129, 'throw': 4479, 'patrick': 3213, 'visuals': 4759, 'polished': 3323, 'advertising': 132, 'numerous': 3062, 'amusing': 221, 'tunes': 4603, 'spot': 4131, 'danny': 1112, 'sean': 3840, 'gerard': 1895, 'butler': 637, 'jennifer': 2392, 'goldberg': 1933, 'arnold': 296, 'advance': 127, 'versus': 4722, 'bitter': 491, 'flow': 1762, 'wanna': 4786, 'lowest': 2678, 'topless': 4527, 'beats': 426, 'alfred': 181, 'hitchcock': 2123, 'worker': 4942, 'cup': 1080, 'dire': 1257, 'warn': 4797, 'husbands': 2205, 'offers': 3090, 'driving': 1368, 'murderous': 2942, 'tribute': 4581, 'paper': 3183, 'tense': 4403, 'college': 875, 'los': 2653, 'angeles': 233, 'stood': 4199, 'reveal': 3670, 'parent': 3187, 'september': 3884, 'stayed': 4167, 'airplane': 166, 'pointed': 3317, 'balls': 390, 'devoid': 1230, 'liking': 2604, 'pack': 3165, 'jack': 2373, 'neighbors': 2994, 'discovers': 1281, 'disappear': 1270, 'wealthy': 4827, 'reads': 3545, 'rachel': 3500, 'walken': 4777, 'neo': 2998, 'hippie': 2115, 'jealous': 2388, 'strangers': 4214, 'train': 4556, 'alien': 183, 'confused': 941, 'russian': 3762, 'splendid': 4119, 'wondered': 4927, 'married': 2744, 'hype': 2207, 'putting': 3482, 'aimed': 162, 'profound': 3423, 'worthwhile': 4955, 'miracle': 2860, 'uncle': 4636, 'goofy': 1939, 'obnoxious': 3067, 'attempting': 342, 'watchable': 4812, 'surely': 4309, 'peoples': 3222, 'naive': 2958, 'buck': 605, 'spring': 4134, 'texas': 4418, 'nyc': 3065, 'frustration': 1843, 'urban': 4688, 'poignant': 3315, 'midnight': 2834, 'cowboy': 1025, '1950s': 14, 'dorothy': 1330, 'decade': 1144, 'complex': 923, 'reaches': 3538, 'paint': 3173, 'substance': 4258, 'scripted': 3835, 'overcome': 3151, 'spanish': 4092, 'attorney': 348, 'presentation': 3375, 'photography': 3260, 'merely': 2815, 'routine': 3743, 'silent': 3975, 'naturally': 2974, 'mouth': 2920, 'julia': 2427, 'argument': 291, 'carries': 699, 'youth': 4994, 'described': 1195, 'tend': 4400, 'anybody': 257, 'baby': 376, 'rape': 3521, 'intention': 2319, 'amateur': 206, 'splatter': 4118, 'shy': 3962, 'slightly': 4029, 'girls': 1911, 'soccer': 4048, 'rules': 3754, 'indian': 2274, 'factor': 1622, 'abusive': 75, 'jail': 2376, 'raped': 3522, 'alas': 172, 'nervous': 2999, 'distinct': 1296, 'field': 1704, 'handled': 2019, 'tends': 4402, 'bollywood': 530, 'news': 3005, 'depression': 1189, 'seasons': 3844, 'battles': 415, 'ships': 3935, 'places': 3284, 'ron': 3734, 'amateurish': 207, 'angry': 238, 'appalling': 268, 'featured': 1679, 'spoke': 4125, 'ages': 152, 'detective': 1220, 'hence': 2083, 'clues': 865, 'kung': 2498, 'fu': 1844, 'jackie': 2374, 'chan': 746, 'technology': 4385, 'gotta': 1946, 'kudos': 2497, 'eg': 1434, 'scientist': 3818, 'obsessed': 3069, 'insulting': 2310, 'crimes': 1056, 'goal': 1925, 'wealth': 4826, 'horrific': 2166, 'edgar': 1417, 'quiet': 3492, 'creator': 1043, 'flash': 1745, 'ellen': 1446, 'nine': 3017, 'seek': 3858, 'property': 3438, 'dollars': 1315, 'copies': 992, 'hotel': 2175, 'surprising': 4315, 'draws': 1352, 'chuck': 812, 'complexity': 924, 'gandhi': 1866, 'spread': 4133, 'speech': 4102, 'threat': 4467, 'silence': 3974, 'india': 2273, 'backdrop': 379, 'unrealistic': 4677, 'carried': 698, 'ship': 3934, 'sincere': 3991, 'humble': 2191, 'forgive': 1795, 'opportunity': 3121, 'study': 4242, 'soldier': 4053, 'rival': 3706, 'pity': 3281, 'fathers': 1667, 'sons': 4073, 'happiness': 2031, 'shall': 3916, 'disaster': 1276, 'kiss': 2483, 'spider': 4109, 'prisoner': 3402, 'specifically': 4100, 'drops': 1372, 'shooting': 3943, 'starred': 4153, 'jonathan': 2417, 'winters': 4901, 'owner': 3159, 'roman': 3731, 'secretly': 3851, 'mothers': 2912, 'medical': 2790, 'includes': 2263, 'dean': 1139, 'dennis': 1179, 'hopper': 2161, 'makeup': 2717, 'climactic': 848, 'hudson': 2184, 'racism': 3502, 'subjects': 4254, 'size': 4012, 'fifteen': 1706, 'repeated': 3631, 'alternate': 200, 'endings': 1472, 'faster': 1662, 'invasion': 2340, 'screams': 3828, 'subplots': 4256, 'hello': 2078, 'resembles': 3646, 'kay': 2447, 'roots': 3738, 'fix': 1744, 'creation': 1040, 'alert': 178, 'surrounding': 4319, 'intent': 2318, 'raised': 3508, 'depicted': 1183, 'shape': 3919, 'portion': 3338, 'stated': 4161, 'li': 2587, 'melodramatic': 2798, 'faith': 1633, 'vacation': 4704, 'warning': 4800, 'understanding': 4645, 'relevant': 3604, 'border': 539, 'walked': 4776, 'extreme': 1609, 'importantly': 2248, 'serves': 3895, 'names': 2963, 'restaurant': 3658, 'ultra': 4629, 'crafted': 1029, 'bible': 477, 'listening': 2620, 'sides': 3967, 'uk': 4626, 'extended': 1604, 'dragon': 1344, 'pretending': 3382, 'asking': 318, 'intended': 2315, 'smile': 4036, 'skin': 4015, 'doors': 1329, 'holmes': 2139, 'mysteries': 2954, 'slaughter': 4021, 'suffer': 4275, 'silver': 3977, 'color': 877, 'purple': 3473, 'margaret': 2735, 'glover': 1923, 'arrogant': 303, 'cabin': 643, 'catches': 715, 'horrifying': 2167, 'fever': 1699, 'genres': 1889, 'homage': 2141, 'scary': 3807, 'bland': 500, 'scared': 3805, 'blow': 514, 'robot': 3717, 'parody': 3192, 'uninteresting': 4660, 'cheese': 780, 'model': 2880, 'precious': 3366, 'primarily': 3393, 'questionable': 3488, '1st': 28, 'nancy': 2964, 'fortune': 1806, 'freak': 1824, 'members': 2801, 'hamilton': 2012, 'provided': 3449, 'closest': 857, 'companion': 909, 'unfolds': 4651, 'investigation': 2343, 'sleazy': 4023, 'punch': 3466, 'judge': 2424, 'hitting': 2126, 'vengeance': 4719, 'trilogy': 4586, 'unhappy': 4656, 'laughably': 2531, 'pregnant': 3369, 'stylish': 4251, 'ritter': 3705, 'widmark': 4882, 'peters': 3248, 'thief': 4448, 'foot': 1781, 'children': 792, 'finding': 1727, 'mexico': 2827, 'settle': 3902, 'washington': 4806, 'suspicious': 4332, 'enter': 1494, 'bette': 471, 'eyed': 1612, 'luke': 2687, 'duke': 1383, 'lovable': 2668, 'simpson': 3987, 'blonde': 511, 'upset': 4687, 'mel': 2796, 'brooks': 596, 'wholly': 4874, 'resulting': 3661, 'bus': 631, 'tour': 4538, 'cave': 727, 'sent': 3880, 'birth': 486, 'slave': 4022, 'sisters': 4002, 'appearances': 275, 'unfunny': 4655, 'shallow': 3917, 'consists': 955, 'subject': 4253, 'nick': 3012, 'howard': 2182, 'campbell': 663, 'dig': 1250, 'expression': 1602, 'office': 3091, 'intensity': 2317, 'embarrassed': 1453, 'stooges': 4200, 'monkeys': 2891, 'inspiration': 2300, 'minded': 2850, 'bobby': 525, 'mechanical': 2788, 'guilty': 1995, 'laid': 2508, 'jerk': 2395, 'hook': 2152, 'dinner': 1254, 'cinderella': 815, 'awfully': 373, 'wreck': 4965, 'useless': 4695, 'intrigued': 2334, 'sandler': 3781, 'consistent': 953, 'conversations': 981, 'ugly': 4625, 'content': 966, 'vivid': 4760, 'throws': 4482, 'kicking': 2462, 'saves': 3796, 'mike': 2838, 'tall': 4362, 'safe': 3771, 'soul': 4079, 'chick': 786, 'rocky': 3723, 'journey': 2421, 'aspect': 321, 'bumbling': 622, 'contrast': 975, 'legendary': 2565, 'surreal': 4317, 'toy': 4542, 'months': 2897, 'kicked': 2461, 'race': 3499, 'flawless': 1751, 'regardless': 3590, 'vaguely': 4706, 'accurate': 90, 'satire': 3788, 'website': 4834, 'describes': 1196, 'irritating': 2359, 'seven': 3903, 'wore': 4939, 'convince': 983, 'compelled': 915, 'survival': 4320, 'warned': 4798, 'someones': 4065, 'porno': 3337, 'recognized': 3570, 'hundred': 2195, 'rights': 3697, 'victims': 4730, 'poetic': 3313, 'fabulous': 1615, 'destiny': 1212, '2004': 34, 'offering': 3089, '1999': 27, 'stanley': 4148, 'concerns': 934, 'occurs': 3078, 'opposite': 3123, 'realizing': 3555, 'encounter': 1466, 'extraordinary': 1607, 'stone': 4197, 'earl': 1398, 'bear': 420, 'friendly': 1836, 'bears': 421, 'generations': 1884, 'viewed': 4737, 'jewish': 2401, 'relations': 3596, 'principal': 3398, 'marvelous': 2750, 'deliver': 1169, 'dreadful': 1353, 'dubbed': 1379, 'von': 4765, 'morality': 2903, 'soviet': 4089, 'measure': 2786, 'dedicated': 1153, 'effectively': 1430, 'showcase': 3954, 'powell': 3358, 'possibility': 3349, 'challenging': 744, 'irrelevant': 2358, 'timing': 4498, 'handsome': 2021, 'attractive': 351, 'helen': 2075, 'morgan': 2905, 'da': 1094, 'chinese': 796, 'prevent': 3385, 'involves': 2348, 'mistake': 2871, 'expensive': 1579, 'achieve': 92, 'projects': 3428, 'split': 4120, 'engage': 1479, 'lesbian': 2573, 'print': 3399, 'rough': 3741, 'intentionally': 2320, 'valley': 4707, 'western': 4853, 'titles': 4506, 'curiosity': 1082, 'em': 1452, 'carrey': 696, 'grinch': 1975, 'christmas': 810, 'matched': 2763, 'classical': 836, 'evident': 1547, 'challenge': 743, 'learns': 2553, 'plant': 3293, 'benefit': 465, 'smoking': 4040, 'graphic': 1958, 'editor': 1423, 'stewart': 4184, 'miles': 2843, 'jungle': 2434, 'cash': 709, 'capturing': 679, 'forgotten': 1797, 'relative': 3599, '1940s': 13, 'tricks': 4583, 'authentic': 358, 'event': 1535, 'glimpse': 1919, 'frightening': 1839, 'understated': 4646, 'wacky': 4769, 'ape': 266, 'bargain': 400, 'fx': 1858, 'humans': 2190, 'scripts': 3836, 'church': 813, 'pink': 3277, 'robots': 3718, 'dave': 1123, 'whoever': 4872, 'develop': 1222, 'warriors': 4803, 'antics': 255, 'freddy': 1826, 'appearance': 274, 'shining': 3933, 'useful': 4694, 'purpose': 3474, 'serve': 3893, 'mann': 2728, 'walter': 4784, 'nostalgic': 3039, 'lit': 2621, 'maria': 2736, 'cg': 739, 'service': 3896, 'provide': 3448, 'intentions': 2321, 'semi': 3874, 'infamous': 2284, 'fat': 1663, 'throat': 4476, 'bet': 470, 'kicks': 2463, 'bottle': 550, 'existent': 1572, 'caliber': 649, 'dub': 1378, 'gratuitous': 1961, 'stomach': 4196, 'dickens': 1240, 'memories': 2803, 'tonight': 4519, 'joseph': 2419, 'continue': 969, 'ticket': 4487, 'hills': 2109, 'promising': 3433, 'gifted': 1907, 'requires': 3642, 'develops': 1226, 'atmospheric': 334, 'introduces': 2338, 'cell': 730, 'arrival': 299, 'businessman': 634, 'gruesome': 1986, 'device': 1227, 'teenage': 4389, 'criminals': 1058, 'rangers': 3517, 'monster': 2892, 'nostalgia': 3038, 'aside': 315, 'mummy': 2937, 'returns': 3668, '60': 53, 'surviving': 4323, 'thrillers': 4473, 'former': 1800, 'kim': 2475, 'clark': 832, 'agreed': 156, 'marie': 2737, 'babe': 375, 'gags': 1862, 'winner': 4897, 'shocked': 3939, 'sitcom': 4004, 'partly': 3197, 'depiction': 1185, 'cooper': 990, 'childrens': 793, 'cable': 644, 'hopefully': 2157, '1990s': 25, 'blob': 507, 'user': 4696, 'andrews': 229, 'nearby': 2980, 'football': 1783, 'sticks': 4186, 'returning': 3667, 'witnesses': 4916, 'miller': 2846, 'elaborate': 1439, 'eat': 1411, 'bore': 540, 'defeat': 1157, 'afterwards': 145, 'acid': 95, 'slowly': 4032, 'contains': 964, 'decisions': 1152, 'ridden': 3691, 'consequences': 947, 'enthusiasm': 1501, 'universal': 4665, 'victoria': 4732, 'imagery': 2234, 'racial': 3501, 'society': 4050, 'voight': 4764, 'hoffman': 2128, 'credible': 1048, 'capture': 676, 'flashbacks': 1747, 'covered': 1023, 'sin': 3988, 'kingdom': 2480, 'wives': 4918, 'garden': 1872, 'carefully': 689, 'instant': 2305, 'guts': 1999, 'marriage': 2743, 'horses': 2171, 'lay': 2542, 'brown': 601, 'testament': 4417, 'theory': 4437, '2nd': 41, 'australia': 356, 'spoken': 4126, 'unforgettable': 4652, 'ghosts': 1903, 'arms': 294, 'scares': 3806, 'miike': 2837, 'portrays': 3344, 'messed': 2821, 'equivalent': 1512, 'obscure': 3068, 'cartoon': 704, 'progresses': 3426, 'area': 286, 'britain': 588, 'dalton': 1098, 'program': 3424, 'dollar': 1314, 'mirror': 2861, 'tradition': 4549, 'clumsy': 866, 'ramones': 3512, 'rise': 3702, 'fame': 1642, 'mile': 2842, 'teacher': 4375, 'preview': 3386, 'overdone': 3152, 'served': 3894, 'elizabeth': 1445, 'travesty': 4570, 'phantom': 3251, 'orders': 3127, 'mouse': 2919, 'pro': 3406, 'symbolism': 4341, 'craft': 1028, 'visually': 4758, 'alex': 179, 'neighborhood': 2993, 'building': 615, 'secondly': 3847, 'ear': 1397, 'lying': 2690, 'masters': 2761, 'stanwyck': 4149, 'disc': 1278, 'driver': 1366, 'press': 3379, 'feminist': 1695, 'reporter': 3636, 'sullivan': 4288, 'doomed': 1327, 'mickey': 2831, 'wonders': 4931, 'noir': 3023, 'toilet': 4512, 'transfer': 4559, 'mtv': 2933, 'ridiculously': 3694, 'ted': 4386, 'samurai': 3779, 'spain': 4091, 'sea': 3838, 'beloved': 461, 'wars': 4804, 'davies': 1125, 'attack': 337, 'carrying': 701, 'priceless': 3390, 'reel': 3581, 'joined': 2413, 'molly': 2884, 'suspenseful': 4331, 'loaded': 2632, 'wrestling': 4966, 'tarzan': 4367, '70': 55, 'icon': 2211, 'savage': 3793, 'wished': 4905, 'plans': 3292, 'mate': 2765, 'push': 3477, 'nude': 3058, 'swim': 4337, 'block': 508, 'breasts': 572, 'official': 3094, 'storytelling': 4209, 'crack': 1027, 'pursuit': 3476, 'hunters': 2200, 'catching': 716, 'remain': 3609, 'hideous': 2098, 'stereotypes': 4179, 'physically': 3263, 'trained': 4557, 'suspects': 4328, 'styles': 4250, 'parallel': 3185, 'illness': 2230, 'offensive': 3086, 'shed': 3924, 'murphy': 2944, 'represented': 3638, 'monk': 2889, 'threatening': 4468, 'civilization': 827, 'twice': 4613, 'sold': 4052, 'worn': 4948, 'bride': 577, 'warrior': 4802, 'eager': 1396, 'grab': 1949, 'successfully': 4267, 'indians': 2275, 'trail': 4553, 'root': 3737, 'tied': 4489, 'loser': 2655, 'bull': 619, 'curtis': 1087, 'nelson': 2997, 'cuba': 1075, 'folk': 1770, 'themes': 4434, 'lively': 2627, 'hunt': 2198, 'product': 3418, 'signed': 3971, 'newspaper': 3006, 'sell': 3871, 'lloyd': 2630, 'characterization': 759, 'convincingly': 986, 'board': 522, 'beneath': 464, 'contrary': 974, 'possessed': 3347, 'chicago': 785, 'channel': 753, 'commercials': 903, 'riding': 3695, 'beer': 439, 'drinking': 1362, 'guard': 1988, 'accompanied': 86, 'giallo': 1904, '1972': 18, 'sexually': 3910, 'grandfather': 1954, 'april': 284, 'inevitable': 2282, 'manager': 2724, 'cars': 702, 'couples': 1017, 'lust': 2689, 'scale': 3802, 'dinosaurs': 1256, 'discussion': 1284, 'spike': 4111, 'neighbor': 2992, 'mob': 2879, 'recorded': 3574, 'occasional': 3074, 'arrive': 300, 'considerable': 950, 'hat': 2045, 'revolves': 3682, 'daniel': 1111, 'simon': 3982, 'explored': 1595, 'detail': 1217, 'wallace': 4782, 'incident': 2260, 'clown': 862, 'pops': 3332, 'remotely': 3623, 'dentist': 1180, 'patients': 3212, 'derek': 1192, 'buff': 611, 'harris': 2038, 'wet': 4855, 'besides': 468, 'examples': 1554, 'handle': 2018, 'reaction': 3541, 'attacks': 339, 'response': 3654, 'mild': 2839, 'westerns': 4854, 'persona': 3239, 'tame': 4363, 'stranger': 4213, 'map': 2733, 'satisfy': 3790, 'object': 3066, 'comfortable': 892, 'resemblance': 3645, 'prostitute': 3440, 'madonna': 2699, 'switch': 4339, 'promises': 3432, 'cia': 814, 'legs': 2566, 'mere': 2814, 'models': 2881, 'swear': 4334, 'alongside': 196, 'heroine': 2091, 'string': 4227, 'wishes': 4906, 'leo': 2571, 'charismatic': 763, 'vegas': 4717, 'countless': 1012, 'tommy': 4516, 'snake': 4042, 'liberal': 2588, 'staring': 4152, 'jackson': 2375, 'segments': 3868, 'solo': 4058, 'chorus': 803, 'chased': 770, 'rabbit': 3498, 'nose': 3037, 'speaks': 4096, 'smooth': 4041, 'wishing': 4907, 'construction': 960, 'analysis': 224, 'slight': 4027, 'edie': 1419, 'portrait': 3339, 'madness': 2698, 'colors': 879, 'inner': 2292, 'nonsensical': 3031, 'jumping': 2431, 'touched': 4534, 'branagh': 564, 'seat': 3845, 'bands': 392, 'screening': 3830, 'normal': 3033, 'jump': 2429, 'brains': 563, 'jamie': 2379, 'foster': 1809, 'crush': 1072, 'sloppy': 4030, 'remaining': 3610, 'pit': 3278, 'urge': 4689, 'button': 639, 'bell': 458, 'improvement': 2256, 'lake': 2509, 'uninspired': 4657, 'borrowed': 545, 'represent': 3637, 'feed': 1683, 'muslim': 2949, 'canadian': 667, 'progress': 3425, 'pacino': 3164, 'troubled': 4593, 'link': 2613, 'hart': 2041, 'developed': 1223, 'combat': 882, 'heavily': 2069, 'reveals': 3673, 'depressed': 1187, 'troubles': 4594, 'competition': 918, 'similarly': 3980, 'unaware': 4632, 'destroying': 1215, 'planned': 3290, 'reached': 3537, 'psychotic': 3459, 'paulie': 3215, '17': 9, 'baseball': 403, 'kidnapped': 2466, 'idiots': 2220, 'cannibal': 669, 'specific': 4099, 'franco': 1820, 'notion': 3050, 'resident': 3647, 'blowing': 515, 'text': 4419, 'passes': 3203, 'sits': 4006, 'edward': 1426, 'hatred': 2049, 'taxi': 4371, 'inducing': 2279, 'species': 4098, 'online': 3109, 'magazine': 2701, 'normally': 3034, 'hiding': 2099, 'exceptional': 1558, 'bits': 490, 'retired': 3664, 'adequate': 120, 'burton': 630, 'vast': 4716, 'corporate': 998, 'giant': 1905, 'tomatoes': 4515, 'blows': 517, 'lane': 2515, 'bay': 416, 'marketing': 2741, 'abraham': 69, 'lincoln': 2608, 'hitler': 2124, 'overacting': 3149, 'carl': 692, 'spite': 4117, 'ian': 2209, 'hunter': 2199, 'torn': 4528, 'crucial': 1068, 'paranoia': 3186, 'unintentionally': 4659, 'clean': 838, 'wake': 4774, 'hop': 2154, 'page': 3167, 'creature': 1045, 'beast': 422, 'hilariously': 2107, 'comical': 894, 'errors': 1516, 'food': 1778, '16': 8, 'robinson': 3716, 'countryside': 1015, 'brady': 561, 'mature': 2773, 'afford': 138, 'revealing': 3672, 'matches': 2764, 'cruel': 1070, 'germans': 1897, 'resist': 3648, 'survivor': 4324, 'vietnam': 4735, 'enemy': 1477, 'sneak': 4043, 'deliberately': 1166, 'pig': 3274, 'display': 1291, 'bringing': 586, 'arrived': 301, 'willis': 4890, 'rebel': 3561, 'ironically': 2356, 'bullets': 621, 'diamond': 1236, 'photographed': 3258, 'intriguing': 2335, 'bang': 393, 'vampires': 4712, 'royal': 3746, 'pushed': 3478, 'letter': 2581, 'installment': 2303, 'burning': 627, 'albeit': 173, 'facts': 1624, 'pan': 3180, 'shakespeare': 3915, 'fooled': 1780, 'pamela': 3179, 'rolled': 3729, 'stiff': 4187, 'relation': 3595, 'received': 3564, 'doc': 1303, 'ps': 3453, 'assume': 328, 'succeeded': 4263, 'guilt': 1994, 'bridge': 578, 'convoluted': 987, 'hates': 2048, 'honesty': 2148, 'mildly': 2840, 'bathroom': 412, 'lawyer': 2541, 'cole': 873, 'hanks': 2025, 'eight': 1436, '1990': 24, 'obsession': 3070, 'financial': 1725, 'fascinated': 1657, 'definition': 1163, 'gothic': 1945, 'ought': 3138, 'classics': 837, 'fairy': 1632, 'alice': 182, 'designs': 1204, 'wrap': 4963, 'affect': 136, 'proud': 3444, 'blatant': 502, 'protagonist': 3441, 'lisa': 2616, 'likewise': 2603, 'brutally': 604, 'legend': 2564, 'landscape': 2513, 'potentially': 3356, 'commit': 904, 'fest': 1696, 'whale': 4857, 'ego': 1435, 'digital': 1251, 'closet': 858, 'trees': 4577, 'stretched': 4222, 'fallen': 1638, 'worthless': 4954, 'buddies': 608, 'june': 2433, 'influenced': 2287, 'wolf': 4920, 'carpenter': 694, 'safety': 3772, 'security': 3854, 'del': 1165, 'shadow': 3912, 'rage': 3505, 'row': 3744, 'combine': 884, 'tracy': 4546, 'spiritual': 4116, 'personalities': 3241, 'experiences': 1582, 'possibilities': 3348, 'exercise': 1568, 'weight': 4840, 'expressed': 1601, 'gender': 1878, 'boxing': 556, 'raw': 3532, 'buffs': 612, 'sleeping': 4025, 'birds': 485, 'somebody': 4062, 'carradine': 695, 'gray': 1963, 'walls': 4783, 'lab': 2501, 'ed': 1415, 'enemies': 1476, 'briefly': 580, 'twelve': 4611, 'differences': 1247, 'ann': 244, 'arrives': 302, 'lou': 2663, 'sarah': 3785, 'chaplin': 756, 'shines': 3932, 'ah': 158, 'deeper': 1155, 'treats': 4575, 'cameos': 658, 'gary': 1873, 'unexpected': 4650, 'gift': 1906, 'documentaries': 1306, 'lie': 2590, 'worried': 4949, 'refuses': 3587, 'web': 4833, 'exposure': 1599, 'march': 2734, 'civil': 826, 'environment': 1505, 'suffice': 4279, 'twists': 4619, 'duo': 1386, 'solely': 4056, 'captivating': 675, 'kidding': 2465, 'remarks': 3615, 'sole': 4055, 'trite': 4589, 'initial': 2290, 'forest': 1791, 'womens': 4924, 'method': 2824, 'twins': 4616, 'hysterical': 2208, '3rd': 47, 'stinker': 4191, 'louis': 2665, 'francisco': 1819, 'inspector': 2299, 'wendy': 4846, 'sidney': 3968, 'closed': 854, 'believes': 456, 'represents': 3639, 'superficial': 4298, 'pays': 3218, 'kitchen': 2485, 'transformation': 4560, 'ward': 4793, 'knock': 2488, 'trashy': 4566, 'square': 4136, 'territory': 4411, 'poem': 3312, 'mountain': 2917, 'struck': 4232, 'ignore': 2224, 'restored': 3659, 'greed': 1968, 'lights': 2597, '1933': 12, 'awe': 370, 'displayed': 1292, 'breathtaking': 574, 'props': 3439, 'striking': 4226, 'cats': 721, 'miserable': 2863, 'attempted': 341, 'equipment': 1511, 'felix': 1689, 'sir': 4000, 'stevens': 4183, 'diana': 1237, 'causes': 725, 'happily': 2030, 'kings': 2481, 'rat': 3525, 'realism': 3549, 'weakest': 4825, 'bomb': 531, 'position': 3345, 'motivations': 2915, 'explaining': 1588, 'fool': 1779, 'solution': 4059, 'blah': 496, 'cox': 1026, 'lily': 2605, 'judy': 2426, 'pride': 3391, 'fay': 1674, 'stupidity': 4248, 'resources': 3651, 'harder': 2035, 'crocodile': 1065, 'brenda': 575, 'waters': 4817, 'suitable': 4285, 'godfather': 1927, 'thirty': 4456, 'revolution': 3680, 'quote': 3496, 'reasonably': 3559, 'contract': 973, 'subsequent': 4257, 'balance': 387, 'massive': 2756, 'jaws': 2385, 'landscapes': 2514, 'attend': 344, 'armed': 293, 'wasting': 4810, 'dawson': 1128, 'morris': 2908, 'ruth': 3763, 'groups': 1981, 'shake': 3914, 'bonus': 534, 'chances': 748, 'command': 897, 'blunt': 520, 'modesty': 2883, 'noise': 3024, 'titanic': 4503, 'sink': 3999, 'paltrow': 3178, 'detailed': 1218, 'guide': 1993, 'norman': 3035, 'kubrick': 2496, 'wizard': 4919, 'oz': 3160, 'respected': 3653, 'wells': 4845, 'seagal': 3839, 'flies': 1756, 'troops': 4591, 'charge': 761, 'dolph': 1317, 'incoherent': 2265, 'easier': 1405, 'grand': 1953, 'bone': 533, 'universe': 4666, 'nicholas': 3010, 'fbi': 1675, 'marty': 2749, 'receives': 3565, 'cook': 988, 'angela': 232, 'consistently': 954, 'fetched': 1698, 'kenneth': 2455, 'shirt': 3937, 'league': 2549, 'trademark': 4548, 'brilliance': 582, 'myers': 2952, 'sunshine': 4294, 'irish': 2353, 'frequent': 1831, 'flynn': 1765, 'angels': 234, '2003': 33, 'twin': 4615, 'individuals': 2278, 'disturbed': 1299, 'doubts': 1333, 'childish': 791, 'hearts': 2066, 'learning': 2552, 'italy': 2368, 'ties': 4490, 'circle': 821, 'corruption': 1002, 'judging': 2425, 'foul': 1810, 'dialogs': 1233, 'slap': 4018, 'huh': 2187, 'suspend': 4329, 'sally': 3776, 'communist': 907, 'contain': 962, 'andrew': 228, 'base': 402, 'thousand': 4465, 'improve': 2254, 'familys': 1646, 'santa': 3783, 'satan': 3787, 'devils': 1229, 'wrapped': 4964, 'descent': 1193, 'cake': 648, 'cinematographer': 819, 'amitabh': 216, 'satisfied': 3789, 'abysmal': 76, 'joey': 2408, 'involvement': 2347, 'realise': 3548, 'formulaic': 1803, 'dude': 1381, 'senseless': 3878, 'sacrifice': 3766, 'explosions': 1597, 'burned': 626, 'orange': 3125, 'che': 773, 'conventional': 979, 'illogical': 2231, 'chain': 741, 'achievement': 94, 'frequently': 1832, 'assumed': 329, 'intrigue': 2333, 'christ': 807, 'centered': 733, 'upper': 4685, 'knowledge': 2491, 'careful': 688, 'grim': 1974, 'passing': 3204, 'carol': 693, 'witnessed': 4915, 'access': 83, 'stereotype': 4178, 'dawn': 1127, 'teachers': 4376, 'rural': 3758, '1996': 26, 'opened': 3113, 'dreary': 1356, 'tap': 4364, '1984': 23, 'nomination': 3026, 'shelf': 3926, 'cagney': 646, 'critic': 1061, '1973': 19, 'glass': 1917, 'pal': 3177, 'et': 1526, 'apes': 267, 'lessons': 2578, 'pleased': 3305, 'highlights': 2104, 'inane': 2258, '2006': 36, 'tag': 4348, 'damage': 1099, 'conservative': 948, '40s': 49, 'hopeless': 2158, 'court': 1020, 'bud': 607, 'smiling': 4037, 'amazingly': 210, 'hardy': 2037, 'practice': 3363, 'tooth': 4524, 'tiger': 4491, 'scores': 3823, 'dropping': 1371, 'seventies': 3904, 'mill': 2845, 'population': 3335, 'le': 2544, '1980': 20, 'depicting': 1184, 'timeless': 4496, 'credibility': 1047, '2002': 32, 'drags': 1345, 'edition': 1422, 'lucy': 2684, 'montana': 2895, 'explosion': 1596, 'hal': 2006, 'empire': 1464, 'museum': 2945, 'mixture': 2878, 'matthau': 2771, 'revelation': 3674, 'cube': 1076, 'authority': 360, 'alexander': 180, 'greedy': 1969, 'visits': 4756, 'reference': 3582, 'chapter': 757, '75': 57, 'terrorist': 4413, 'airport': 167, 'capable': 672, 'alcoholic': 177, 'prime': 3395, 'domestic': 1318, 'desperately': 1209, 'creep': 1051, 'reflection': 3585, 'hood': 2151, 'houses': 2180, 'wannabe': 4787, 'terry': 4415, 'forty': 1807, 'mistress': 2874, 'craven': 1034, 'ethan': 1528, 'underlying': 4641, 'signs': 3973, 'scarecrow': 3804, 'renting': 3629, 'areas': 287, 'sappy': 3784, 'minimal': 2855, 'ease': 1404, 'elm': 1447, 'lumet': 2688, 'garbo': 1871, 'quest': 3486, 'artificial': 306, 'carrie': 697, 'fisher': 1739, 'valuable': 4708, 'vulnerable': 4768, 'shell': 3927, 'flop': 1760, 'overlook': 3153, 'winter': 4900, 'waited': 4771, 'robbins': 3712, 'lemmon': 2567, 'zone': 4999, 'nations': 2971, 'exists': 1573, 'occasion': 3073, 'viewings': 4741, 'widow': 4883, 'scottish': 3825, 'counter': 1011, 'charlotte': 766, 'eyre': 1614, 'tea': 4373, 'passed': 3202, 'critical': 1062, 'spy': 4135, 'wed': 4835, 'engaged': 1480, 'chest': 784, 'der': 1191, 'maggie': 2702, 'lifestyle': 2593, 'focusing': 1769, 'calm': 655, 'rex': 3683, 'voiced': 4762, 'desired': 1206, 'outfit': 3144, 'colonel': 876, 'fulci': 1845, 'mail': 2706, 'yesterday': 4983, 'mayor': 2777, 'witches': 4910, 'educational': 1425, 'disappoint': 1272, 'purchase': 3469, 'empathy': 1462, 'rooms': 3736, 'lesson': 2577, 'provoking': 3452, 'twilight': 4614, 'julie': 2428, 'brooklyn': 595, 'jaw': 2384, 'ashley': 313, 'christians': 809, 'hamlet': 2013, 'winds': 4895, 'snl': 4044, 'reaching': 3539, 'contest': 967, 'donna': 1323, 'ears': 1402, 'desperation': 1210, 'attitudes': 347, 'nicholson': 3011, 'mildred': 2841, 'riveting': 3708, 'causing': 726, 'sidekick': 3966, 'enterprise': 1495, 'jeffrey': 2391, 'incompetent': 2266, 'factory': 1623, 'taught': 4370, 'denzel': 1181, 'defend': 1158, 'planning': 3291, 'distant': 1295, 'scientists': 3819, 'awake': 365, 'existed': 1570, 'historically': 2120, 'ireland': 2352, 'distracting': 1297, 'canada': 666, 'dinosaur': 1255, 'bacall': 377, 'sport': 4129, 'surfing': 4311, 'annie': 247, 'iran': 2350, 'trapped': 4564, 'bettie': 473, 'emphasis': 1463, 'limits': 2607, 'dignity': 1252, 'scientific': 3817, 'godzilla': 1929, 'voices': 4763, 'elvira': 1450, 'messages': 2820, 'ho': 2127, 'yelling': 4980, 'bourne': 554, 'narrator': 2967, 'bergman': 466, 'brosnan': 597, 'greek': 1970, 'lacked': 2503, 'grey': 1973, 'outer': 3143, 'ocean': 3079, 'championship': 745, 'unseen': 4678, 'chess': 783, 'niro': 3019, 'sellers': 3872, 'butt': 638, 'terrorists': 4414, 'showdown': 3955, 'funeral': 1849, 'stole': 4194, 'warmth': 4796, 'sixties': 4011, 'moody': 2899, 'polanski': 3321, 'screens': 3832, 'disjointed': 1287, 'mario': 2738, 'stan': 4142, 'jesse': 2397, 'st': 4137, 'sentence': 3881, 'hoped': 2156, 'steel': 4173, 'literature': 2623, 'temple': 4398, 'kennedy': 2454, 'buildings': 616, 'instinct': 2308, 'domino': 1319, 'metal': 2823, 'gundam': 1997, 'wing': 4896, 'channels': 754, 'mighty': 2836, 'demand': 1174, 'cd': 728, 'florida': 1761, 'fury': 1855, 'perry': 3237, 'randomly': 3515, 'heston': 2094, 'downhill': 1336, 'beliefs': 452, 'panic': 3181, 'stale': 4141, 'scrooge': 3837, 'sadistic': 3768, 'shadows': 3913, 'cameron': 661, 'quit': 3494, 'prom': 3429, 'defense': 1159, 'rochester': 3719, 'robbery': 3711, 'laurel': 2537, 'homer': 2144, 'fonda': 1777, 'justin': 2440, 'pokemon': 3320, 'gadget': 1860}\n"
     ]
    }
   ],
   "source": [
    "print(str(vocabulary))"
   ]
  },
  {
   "cell_type": "markdown",
   "metadata": {},
   "source": [
    "Once you have added the endpoint name to the Lambda function, click on **Save**. Your Lambda function is now up and running. Next we need to create a way for our web app to execute the Lambda function."
   ]
  },
  {
   "cell_type": "markdown",
   "metadata": {},
   "source": [
    "### Setting up API Gateway\n",
    "\n",
    "Now that our Lambda function is set up, it is time to create a new API using API Gateway that will trigger the Lambda function we have just created.\n",
    "\n",
    "Using AWS Console, navigate to **Amazon API Gateway** and then click on **Get started**.\n",
    "\n",
    "On the next page, make sure that **New API** is selected and give the new api a name, for example, `sentiment_analysis_web_app`. Then, click on **Create API**.\n",
    "\n",
    "Now we have created an API, however it doesn't currently do anything. What we want it to do is to trigger the Lambda function that we created earlier.\n",
    "\n",
    "Select the **Actions** dropdown menu and click **Create Method**. A new blank method will be created, select its dropdown menu and select **POST**, then click on the check mark beside it.\n",
    "\n",
    "For the integration point, make sure that **Lambda Function** is selected and click on the **Use Lambda Proxy integration**. This option makes sure that the data that is sent to the API is then sent directly to the Lambda function with no processing. It also means that the return value must be a proper response object as it will also not be processed by API Gateway.\n",
    "\n",
    "Type the name of the Lambda function you created earlier into the **Lambda Function** text entry box and then click on **Save**. Click on **OK** in the pop-up box that then appears, giving permission to API Gateway to invoke the Lambda function you created.\n",
    "\n",
    "The last step in creating the API Gateway is to select the **Actions** dropdown and click on **Deploy API**. You will need to create a new Deployment stage and name it anything you like, for example `prod`.\n",
    "\n",
    "You have now successfully set up a public API to access your SageMaker model. Make sure to copy or write down the URL provided to invoke your newly created public API as this will be needed in the next step. This URL can be found at the top of the page, highlighted in blue next to the text **Invoke URL**."
   ]
  },
  {
   "cell_type": "markdown",
   "metadata": {},
   "source": [
    "## Step 7: Deploying our web app\n",
    "\n",
    "Now that we have a publicly available API, we can start using it in a web app. For our purposes, we have provided a simple static html file which can make use of the public api you created earlier.\n",
    "\n",
    "In the `website` folder there should be a file called `index.html`. Download the file to your computer and open that file up in a text editor of your choice. There should be a line which contains **\\*\\*REPLACE WITH PUBLIC API URL\\*\\***. Replace this string with the url that you wrote down in the last step and then save the file.\n",
    "\n",
    "Now, if you open `index.html` on your local computer, your browser will behave as a local web server and you can use the provided site to interact with your SageMaker model.\n",
    "\n",
    "If you'd like to go further, you can host this html file anywhere you'd like, for example using github or hosting a static site on Amazon's S3. Once you have done this you can share the link with anyone you'd like and have them play with it too!\n",
    "\n",
    "> **Important Note** In order for the web app to communicate with the SageMaker endpoint, the endpoint has to actually be deployed and running. This means that you are paying for it. Make sure that the endpoint is running when you want to use the web app but that you shut it down when you don't need it, otherwise you will end up with a surprisingly large AWS bill."
   ]
  },
  {
   "cell_type": "markdown",
   "metadata": {},
   "source": [
    "### Delete the endpoint\n",
    "\n",
    "Remember to always shut down your endpoint if you are no longer using it. You are charged for the length of time that the endpoint is running so if you forget and leave it on you could end up with an unexpectedly large bill."
   ]
  },
  {
   "cell_type": "code",
   "execution_count": null,
   "metadata": {},
   "outputs": [],
   "source": [
    "xgb_predictor.delete_endpoint()"
   ]
  },
  {
   "cell_type": "markdown",
   "metadata": {},
   "source": [
    "## Optional: Clean up\n",
    "\n",
    "The default notebook instance on SageMaker doesn't have a lot of excess disk space available. As you continue to complete and execute notebooks you will eventually fill up this disk space, leading to errors which can be difficult to diagnose. Once you are completely finished using a notebook it is a good idea to remove the files that you created along the way. Of course, you can do this from the terminal or from the notebook hub if you would like. The cell below contains some commands to clean up the created files from within the notebook."
   ]
  },
  {
   "cell_type": "code",
   "execution_count": null,
   "metadata": {},
   "outputs": [],
   "source": [
    "# First we will remove all of the files contained in the data_dir directory\n",
    "!rm $data_dir/*\n",
    "\n",
    "# And then we delete the directory itself\n",
    "!rmdir $data_dir\n",
    "\n",
    "# Similarly we remove the files in the cache_dir directory and the directory itself\n",
    "!rm $cache_dir/*\n",
    "!rmdir $cache_dir"
   ]
  },
  {
   "cell_type": "code",
   "execution_count": null,
   "metadata": {},
   "outputs": [],
   "source": []
  }
 ],
 "metadata": {
  "kernelspec": {
   "display_name": "conda_python3",
   "language": "python",
   "name": "conda_python3"
  },
  "language_info": {
   "codemirror_mode": {
    "name": "ipython",
    "version": 3
   },
   "file_extension": ".py",
   "mimetype": "text/x-python",
   "name": "python",
   "nbconvert_exporter": "python",
   "pygments_lexer": "ipython3",
   "version": "3.6.10"
  }
 },
 "nbformat": 4,
 "nbformat_minor": 2
}
